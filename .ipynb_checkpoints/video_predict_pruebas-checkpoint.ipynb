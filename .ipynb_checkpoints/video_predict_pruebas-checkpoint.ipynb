{
 "cells": [
  {
   "cell_type": "code",
   "execution_count": 21,
   "metadata": {},
   "outputs": [],
   "source": [
    "import cv2\n",
    "import numpy as np\n",
    "import cv2\n",
    "import matplotlib.pyplot as plt\n",
    "import csv\n",
    "import os\n",
    "from os.path import isfile, join\n",
    "import re\n",
    "import h5py\n",
    "import random\n",
    "import numpy as np\n",
    "import h5py\n",
    "\n",
    "import tensorflow as tf\n",
    "import keras\n",
    "from keras.models import Sequential\n",
    "from keras.models import Model\n",
    "from keras.callbacks import EarlyStopping, ModelCheckpoint\n",
    "from keras.optimizers import Adam\n",
    "from keras.layers import Input, Flatten, Dense, Dropout,  Activation, Conv3D, MaxPooling3D, UpSampling3D, BatchNormalization, Activation, Reshape\n",
    "from keras.layers import Conv2D, MaxPooling2D\n",
    "#from keras.utils import multi_gpu_model\n",
    "\n",
    "from keras.optimizers import SGD\n",
    "from keras.layers.merge import concatenate, add\n",
    "\n",
    "#from keras.utils.io_utils import HDF5Matrix\n",
    "from keras.utils import plot_model\n",
    "from keras import optimizers\n",
    "\n",
    "import os\n",
    "import numpy as np\n",
    "from os import listdir\n",
    "from os.path import isfile, join\n",
    "import matplotlib.pyplot as plt\n",
    "from random import shuffle"
   ]
  },
  {
   "cell_type": "code",
   "execution_count": 22,
   "metadata": {},
   "outputs": [
    {
     "name": "stdout",
     "output_type": "stream",
     "text": [
      "Load model to disk\n"
     ]
    }
   ],
   "source": [
    "dirmodel = '/mnt/MD1200A/lconcha/videos/Modelos/Data_augmentation/'\n",
    "# cargamos la estructura de la red\n",
    "with open(dirmodel + \"data_augmentation.json\") as json_file:\n",
    "    json_config = json_file.read()\n",
    "model = keras.models.model_from_json(json_config)\n",
    "\n",
    "checkpoint_path = \"/mnt/MD1200A/lconcha/videos/Modelos/Data_augmentation/training2/cp-0012.ckpt\"\n",
    "checkpoint_dir = os.path.dirname(checkpoint_path)\n",
    "model.load_weights(checkpoint_path)\n",
    "\n",
    "print(\"Load model to disk\")"
   ]
  },
  {
   "cell_type": "code",
   "execution_count": 23,
   "metadata": {},
   "outputs": [],
   "source": [
    "cap = cv2.VideoCapture('/mnt/MD1200A/lconcha/videos/RAT_VIDEOS_CROPPED_RESIZE/147.2018-2-7.Rat36.mp4')\n",
    "frames = []\n",
    "\n",
    "\n",
    "while (cap.isOpened()):\n",
    "    ret, frame = cap.read()\n",
    "    if ret == True:\n",
    "        resize = cv2.resize(frame, (128,128), interpolation = cv2.INTER_AREA)\n",
    "        frames.append(resize)\n",
    "        \n",
    "    if ret == False:\n",
    "        break\n",
    "        \n",
    "it = 0\n",
    "etiq = []\n",
    "\n",
    "for line in frames:\n",
    "    etiq.append(it)\n",
    "    it+=1\n",
    "\n",
    "\n",
    "groups8 = []\n",
    "boolean= False\n",
    "pos = 0\n",
    "\n",
    "while boolean == False:\n",
    "    \n",
    "    for line in etiq:\n",
    "        if line== (0 + pos) or line == (4 + pos) or line == (8 + pos) or line == (12 + pos) or line == (16 + pos) or line == (20 + pos) or line == (24 + pos) or line == (28 + pos):\n",
    "            groups8.append(frames[line])\n",
    "    \n",
    "    \n",
    "    pos += 1\n",
    "    if pos == len(frames) - 32:\n",
    "        boolean = True\n",
    "        \n",
    "sets = [] #En esta lista vamos a separar en conjuntos de 8 los frames obtenidos anteriormente\n",
    "X_values = [] #En esta lista cada conjunto de 8 frames lo convertiremos en un array de shape [8 128 128]\n",
    "\n",
    "for i in range(0, len(groups8), 8):\n",
    "    sets.append(groups8[i:i+8])\n",
    "\n",
    "for j in sets: #recorremos sets y concatenamos los 8 frames, para añadirlos a una nueva lista\n",
    "    X = np.stack(j)\n",
    "    X_values.append(X)\n",
    "    \n",
    "\n",
    "x_array = np.array(X_values)\n",
    "\n",
    "prediction = model.predict(x_array)\n",
    "\n",
    "array_prediction = np.argmax(prediction, axis=1)"
   ]
  },
  {
   "cell_type": "code",
   "execution_count": 29,
   "metadata": {},
   "outputs": [
    {
     "name": "stdout",
     "output_type": "stream",
     "text": [
      "[0.05105284 0.9384093 ]\n"
     ]
    },
    {
     "data": {
      "text/plain": [
       "3520"
      ]
     },
     "execution_count": 29,
     "metadata": {},
     "output_type": "execute_result"
    }
   ],
   "source": [
    "#print(round((prediction[5967])[0]*100,2))\n",
    "print(prediction[1639])\n",
    "\n",
    "len(prediction)"
   ]
  },
  {
   "cell_type": "code",
   "execution_count": 37,
   "metadata": {},
   "outputs": [
    {
     "name": "stdout",
     "output_type": "stream",
     "text": [
      "51.36\n",
      "50.65\n",
      "68.83\n",
      "67.71\n",
      "63.16\n",
      "61.21\n",
      "74.5\n",
      "65.13\n",
      "47.18\n",
      "37.19\n",
      "42.31\n",
      "39.69\n",
      "36.44\n",
      "31.0\n",
      "31.45\n",
      "27.0\n",
      "26.14\n",
      "19.17\n",
      "29.3\n",
      "29.06\n",
      "28.87\n",
      "32.46\n",
      "39.4\n",
      "46.33\n",
      "38.56\n",
      "46.8\n",
      "54.25\n",
      "56.99\n",
      "60.37\n",
      "65.23\n",
      "64.04\n",
      "60.62\n",
      "64.64\n",
      "68.78\n",
      "65.9\n",
      "72.21\n",
      "74.34\n",
      "91.21\n",
      "85.0\n",
      "80.04\n",
      "87.8\n",
      "91.86\n",
      "87.06\n",
      "83.01\n",
      "91.17\n",
      "90.99\n",
      "91.39\n",
      "91.65\n",
      "92.06\n",
      "93.84\n",
      "88.27\n",
      "92.91\n",
      "91.75\n",
      "94.25\n",
      "86.98\n",
      "87.58\n",
      "86.76\n",
      "88.28\n",
      "85.44\n",
      "84.39\n",
      "87.65\n",
      "92.23\n",
      "82.7\n",
      "77.22\n",
      "77.62\n",
      "95.36\n",
      "89.35\n",
      "87.2\n",
      "84.6\n",
      "91.13\n",
      "87.93\n",
      "86.38\n",
      "74.38\n",
      "78.92\n",
      "79.76\n",
      "80.37\n",
      "75.34\n",
      "56.41\n",
      "48.67\n",
      "9.44\n",
      "16.95\n",
      "21.6\n",
      "16.12\n",
      "43.22\n",
      "39.75\n",
      "20.23\n",
      "12.27\n",
      "23.64\n",
      "25.15\n",
      "9.45\n",
      "9.45\n",
      "5.16\n",
      "11.13\n",
      "6.2\n",
      "4.86\n",
      "7.49\n",
      "2.93\n",
      "2.35\n",
      "2.63\n",
      "13.21\n",
      "1.57\n",
      "1.15\n",
      "1.08\n",
      "22.21\n",
      "0.94\n",
      "1.35\n",
      "1.43\n",
      "12.3\n",
      "0.94\n"
     ]
    }
   ],
   "source": [
    "for i in (prediction[1590:1699]):\n",
    "    print(round(i[1]*100,2))"
   ]
  },
  {
   "cell_type": "code",
   "execution_count": 4,
   "metadata": {},
   "outputs": [
    {
     "name": "stdout",
     "output_type": "stream",
     "text": [
      "(8, 128, 128, 3)\n",
      "[0 0 0 ... 0 0 0]\n",
      "3520\n",
      "3520\n",
      "yes\n"
     ]
    }
   ],
   "source": [
    "print(x_array[0].shape)\n",
    "print(array_prediction)\n",
    "print(len(x_array))\n",
    "print(len(array_prediction))\n",
    "\n",
    "if 1 in array_prediction:\n",
    "    print('yes')"
   ]
  },
  {
   "cell_type": "code",
   "execution_count": 27,
   "metadata": {},
   "outputs": [
    {
     "name": "stdout",
     "output_type": "stream",
     "text": [
      "int64\n"
     ]
    },
    {
     "data": {
      "image/png": "[encoded data removed]",
      "text/plain": [
       "<Figure size 432x288 with 1 Axes>"
      ]
     },
     "metadata": {
      "needs_background": "light"
     },
     "output_type": "display_data"
    }
   ],
   "source": [
    "array_prediction\n",
    "\n",
    "plt.plot(array_prediction)\n",
    "\n",
    "print(array_prediction.dtype)"
   ]
  },
  {
   "cell_type": "code",
   "execution_count": 8,
   "metadata": {},
   "outputs": [],
   "source": [
    "from scipy.ndimage import gaussian_filter"
   ]
  },
  {
   "cell_type": "code",
   "execution_count": 16,
   "metadata": {},
   "outputs": [],
   "source": [
    "array_prediction = array_prediction.astype(np.float)"
   ]
  },
  {
   "cell_type": "code",
   "execution_count": 18,
   "metadata": {},
   "outputs": [
    {
     "data": {
      "text/plain": [
       "[<matplotlib.lines.Line2D at 0x2aae3915add0>]"
      ]
     },
     "execution_count": 18,
     "metadata": {},
     "output_type": "execute_result"
    },
    {
     "data": {
      "image/png": "[encoded data removed]",
      "text/plain": [
       "<Figure size 432x288 with 1 Axes>"
      ]
     },
     "metadata": {
      "needs_background": "light"
     },
     "output_type": "display_data"
    }
   ],
   "source": [
    "plt.plot(array_prediction)"
   ]
  },
  {
   "cell_type": "code",
   "execution_count": 19,
   "metadata": {},
   "outputs": [
    {
     "name": "stdout",
     "output_type": "stream",
     "text": [
      "[0. 0. 0. ... 0. 0. 0.]\n"
     ]
    },
    {
     "data": {
      "image/png": "[encoded data removed]",
      "text/plain": [
       "<Figure size 432x288 with 1 Axes>"
      ]
     },
     "metadata": {
      "needs_background": "light"
     },
     "output_type": "display_data"
    }
   ],
   "source": [
    "a = gaussian_filter(array_prediction, sigma=10)\n",
    "\n",
    "plt.plot(a)\n",
    "\n",
    "print(a)\n"
   ]
  },
  {
   "cell_type": "code",
   "execution_count": 13,
   "metadata": {},
   "outputs": [
    {
     "data": {
      "text/plain": [
       "'b = []\\nfor i in range(32):\\n    b.append((pos_at[-1])+(i+1))\\n\\nc_gaus = pos_at + b\\nc_gaus = np.array(c_gaus)\\nprint (c_gaus)\\nplt.plot(c_gaus)'"
      ]
     },
     "execution_count": 13,
     "metadata": {},
     "output_type": "execute_result"
    }
   ],
   "source": [
    "pos_at = []\n",
    "\n",
    "posicion = 0\n",
    "for i in a:\n",
    "    if i > 0.25:\n",
    "        pos_at.append(posicion)\n",
    "    posicion +=1\n",
    "\n",
    "'''b = []\n",
    "for i in range(32):\n",
    "    b.append((pos_at[-1])+(i+1))\n",
    "\n",
    "c_gaus = pos_at + b\n",
    "c_gaus = np.array(c_gaus)\n",
    "print (c_gaus)\n",
    "plt.plot(c_gaus)'''"
   ]
  },
  {
   "cell_type": "code",
   "execution_count": 14,
   "metadata": {},
   "outputs": [
    {
     "data": {
      "text/plain": [
       "[]"
      ]
     },
     "execution_count": 14,
     "metadata": {},
     "output_type": "execute_result"
    }
   ],
   "source": [
    "pos_at "
   ]
  },
  {
   "cell_type": "code",
   "execution_count": 28,
   "metadata": {},
   "outputs": [
    {
     "name": "stdout",
     "output_type": "stream",
     "text": [
      "[1558 1590 1591 1592 1593 1594 1595 1596 1597 1615 1616 1617 1618 1619\n",
      " 1620 1621 1622 1623 1624 1625 1626 1627 1628 1629 1630 1631 1632 1633\n",
      " 1634 1635 1636 1637 1638 1639 1640 1641 1642 1643 1644 1645 1646 1647\n",
      " 1648 1649 1650 1651 1652 1653 1654 1655 1656 1657 1658 1659 1660 1661\n",
      " 1662 1663 1664 1665 1666 1667 1668 1669 1670 1671 1672 1673 1674 1675\n",
      " 1676 1677 1678 1679 1680 1681 1682 1683 1684 1685 1686 1687 1688 1689\n",
      " 1690 1691 1692 1693 1694 1695 1696 1697 1698 1699]\n"
     ]
    },
    {
     "data": {
      "text/plain": [
       "[<matplotlib.lines.Line2D at 0x2aac9f7c3f90>]"
      ]
     },
     "execution_count": 28,
     "metadata": {},
     "output_type": "execute_result"
    },
    {
     "data": {
      "image/png": "[encoded data removed]",
      "text/plain": [
       "<Figure size 432x288 with 1 Axes>"
      ]
     },
     "metadata": {
      "needs_background": "light"
     },
     "output_type": "display_data"
    }
   ],
   "source": [
    "pos_at = []\n",
    "\n",
    "posicion = 0\n",
    "for i in array_prediction:\n",
    "    if i == 1:\n",
    "        pos_at.append(posicion)\n",
    "    posicion +=1\n",
    "\n",
    "b = []\n",
    "for i in range(32):\n",
    "    b.append((pos_at[-1])+(i+1))\n",
    "\n",
    "c = pos_at + b\n",
    "c = np.array(c)\n",
    "print (c)\n",
    "plt.plot(c)"
   ]
  },
  {
   "cell_type": "code",
   "execution_count": 79,
   "metadata": {},
   "outputs": [],
   "source": [
    "video_label = cv2.VideoWriter(\"/mnt/MD1200A/lconcha/videos/outvideo2.mp4\", cv2.VideoWriter_fourcc(*\"XVID\"),20.0,(720,720))\n",
    "\n",
    "cap = cv2.VideoCapture(\"/mnt/MD1200A/lconcha/videos/RAT_VIDEOS_CROPPED_RESIZE/2.2017-11-10.Rat12.mp4\")\n",
    "\n",
    "it = 0\n",
    "while (cap.isOpened()):\n",
    "    ret, frame = cap.read()\n",
    "    if ret == True:\n",
    "        if it in c_gaus:\n",
    "            resize = cv2.resize(frame, (720,720), interpolation = cv2.INTER_AREA)\n",
    "            text = cv2.putText(resize, \"Estado: Ataque\", (10,70), cv2.FONT_HERSHEY_SIMPLEX, 2, (0, 0, 255), 4, cv2.LINE_AA)\n",
    "            video_label.write(text)\n",
    "        else:\n",
    "            resize = cv2.resize(frame, (720,720), interpolation = cv2.INTER_AREA)\n",
    "            text = cv2.putText(resize, \"Estado: Reposo\", (10,70), cv2.FONT_HERSHEY_SIMPLEX, 2, (0, 0, 255), 4, cv2.LINE_AA)\n",
    "            video_label.write(text)\n",
    "        \n",
    "        it +=1\n",
    "    if ret == False:\n",
    "        break\n",
    "        \n",
    "video_label.release()"
   ]
  },
  {
   "cell_type": "code",
   "execution_count": 96,
   "metadata": {},
   "outputs": [],
   "source": [
    "video_label = cv2.VideoWriter(\"/mnt/MD1200A/lconcha/videos/prueba.mp4\", cv2.VideoWriter_fourcc(*\"XVID\"),20.0,(720,720))\n",
    "\n",
    "cap = cv2.VideoCapture(\"/mnt/MD1200A/lconcha/videos/RAT_VIDEOS_CROPPED_RESIZE/2.2017-11-10.Rat12.mp4\")\n",
    "\n",
    "it = 0\n",
    "while (cap.isOpened()):\n",
    "    ret, frame = cap.read()\n",
    "    if ret == True:\n",
    "        \n",
    "        if it == len(prediction):\n",
    "            it -=1\n",
    "            \n",
    "        if it in c_gaus:\n",
    "            resize = cv2.resize(frame, (720,720), interpolation = cv2.INTER_AREA)\n",
    "            text = cv2.putText(resize, \"Estado: Ataque\" + ' ' + str(round((prediction[it])[1]*100,2)) +'%', (10,70), cv2.FONT_HERSHEY_SIMPLEX, 2, (0, 0, 255), 4, cv2.LINE_AA)\n",
    "            video_label.write(text)\n",
    "        else:\n",
    "            resize = cv2.resize(frame, (720,720), interpolation = cv2.INTER_AREA)\n",
    "            text = cv2.putText(resize, \"Estado: Reposo\" + ' ' + str(round((prediction[it])[0]*100,2))+'%', (10,70), cv2.FONT_HERSHEY_SIMPLEX, 2, (0, 0, 255), 4, cv2.LINE_AA)\n",
    "            video_label.write(text)\n",
    "            \n",
    "            \n",
    "        it +=1\n",
    "    if ret == False:\n",
    "        break\n",
    "        \n",
    "video_label.release()"
   ]
  }
 ],
 "metadata": {
  "kernelspec": {
   "display_name": "Python 3",
   "language": "python",
   "name": "python3"
  },
  "language_info": {
   "codemirror_mode": {
    "name": "ipython",
    "version": 3
   },
   "file_extension": ".py",
   "mimetype": "text/x-python",
   "name": "python",
   "nbconvert_exporter": "python",
   "pygments_lexer": "ipython3",
   "version": "3.7.9"
  }
 },
 "nbformat": 4,
 "nbformat_minor": 4
}
