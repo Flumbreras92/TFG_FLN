{
 "cells": [
  {
   "cell_type": "code",
   "execution_count": 1,
   "metadata": {},
   "outputs": [],
   "source": [
    "import numpy as np\n",
    "import h5py\n",
    "\n",
    "import tensorflow as tf\n",
    "import keras\n",
    "from keras.models import Sequential\n",
    "from keras.models import Model\n",
    "from keras.callbacks import EarlyStopping, ModelCheckpoint\n",
    "from keras.optimizers import Adam\n",
    "from keras.layers import Input, Flatten, Dense, Dropout,  Activation, Conv3D, MaxPooling3D, UpSampling3D, BatchNormalization, Activation, Reshape\n",
    "from keras.layers import Conv2D, MaxPooling2D\n",
    "#from keras.utils import multi_gpu_model\n",
    "\n",
    "from keras.optimizers import SGD\n",
    "from keras.layers.merge import concatenate, add\n",
    "\n",
    "#from keras.utils.io_utils import HDF5Matrix\n",
    "from keras.utils import plot_model\n",
    "from keras import optimizers\n",
    "\n",
    "\n",
    "import numpy as np\n",
    "from os import listdir\n",
    "from os.path import isfile, join\n",
    "import matplotlib.pyplot as plt\n",
    "from random import shuffle"
   ]
  },
  {
   "cell_type": "markdown",
   "metadata": {},
   "source": [
    "# STRUCTURE NETWORK 3D"
   ]
  },
  {
   "cell_type": "code",
   "execution_count": 16,
   "metadata": {},
   "outputs": [
    {
     "name": "stdout",
     "output_type": "stream",
     "text": [
      "Model: \"model_1\"\n",
      "_________________________________________________________________\n",
      "Layer (type)                 Output Shape              Param #   \n",
      "=================================================================\n",
      "input_3 (InputLayer)         [(None, 8, 128, 128, 3)]  0         \n",
      "_________________________________________________________________\n",
      "conv3d_6 (Conv3D)            (None, 8, 128, 128, 32)   12032     \n",
      "_________________________________________________________________\n",
      "batch_normalization_12 (Batc (None, 8, 128, 128, 32)   128       \n",
      "_________________________________________________________________\n",
      "activation_6 (Activation)    (None, 8, 128, 128, 32)   0         \n",
      "_________________________________________________________________\n",
      "batch_normalization_13 (Batc (None, 8, 128, 128, 32)   128       \n",
      "_________________________________________________________________\n",
      "max_pooling3d_6 (MaxPooling3 (None, 2, 32, 32, 32)     0         \n",
      "_________________________________________________________________\n",
      "dropout_6 (Dropout)          (None, 2, 32, 32, 32)     0         \n",
      "_________________________________________________________________\n",
      "conv3d_7 (Conv3D)            (None, 2, 32, 32, 64)     256064    \n",
      "_________________________________________________________________\n",
      "batch_normalization_14 (Batc (None, 2, 32, 32, 64)     256       \n",
      "_________________________________________________________________\n",
      "activation_7 (Activation)    (None, 2, 32, 32, 64)     0         \n",
      "_________________________________________________________________\n",
      "batch_normalization_15 (Batc (None, 2, 32, 32, 64)     256       \n",
      "_________________________________________________________________\n",
      "max_pooling3d_7 (MaxPooling3 (None, 1, 8, 8, 64)       0         \n",
      "_________________________________________________________________\n",
      "dropout_7 (Dropout)          (None, 1, 8, 8, 64)       0         \n",
      "_________________________________________________________________\n",
      "conv3d_8 (Conv3D)            (None, 1, 8, 8, 128)      1024128   \n",
      "_________________________________________________________________\n",
      "batch_normalization_16 (Batc (None, 1, 8, 8, 128)      512       \n",
      "_________________________________________________________________\n",
      "activation_8 (Activation)    (None, 1, 8, 8, 128)      0         \n",
      "_________________________________________________________________\n",
      "batch_normalization_17 (Batc (None, 1, 8, 8, 128)      512       \n",
      "_________________________________________________________________\n",
      "max_pooling3d_8 (MaxPooling3 (None, 1, 4, 4, 128)      0         \n",
      "_________________________________________________________________\n",
      "dropout_8 (Dropout)          (None, 1, 4, 4, 128)      0         \n",
      "_________________________________________________________________\n",
      "reshape_2 (Reshape)          (None, 2048)              0         \n",
      "_________________________________________________________________\n",
      "dense_1 (Dense)              (None, 2)                 4098      \n",
      "=================================================================\n",
      "Total params: 1,298,114\n",
      "Trainable params: 1,297,218\n",
      "Non-trainable params: 896\n",
      "_________________________________________________________________\n"
     ]
    }
   ],
   "source": [
    "def conv3d_block(input_tensor, filters, kernel_size, activation_fun = \"linear\"):\n",
    "    # first layer\n",
    "    x = Conv3D(filters=filters, kernel_size=kernel_size, kernel_initializer=\"he_normal\", padding=\"same\")(input_tensor)\n",
    "    x = BatchNormalization()(x)\n",
    "    x = Activation(activation_fun)(x)\n",
    "\n",
    "    return x\n",
    "\n",
    "kernel_size = (5,5,5)\n",
    "act_fun = \"relu\"\n",
    "\n",
    "############### DEFINE SET OF INPUTS #################\n",
    "\n",
    "x = Input(shape=(8, 128, 128,3)) \n",
    "\n",
    "\n",
    "############## DEFINE PATH FOR INPUT 1 ##################\n",
    "\n",
    "\n",
    "c1 = conv3d_block (x, filters=32, kernel_size=kernel_size, activation_fun = act_fun )\n",
    "c1 = BatchNormalization()(c1)\n",
    "p1 = MaxPooling3D (pool_size=(4, 4, 4), padding='valid')(c1)\n",
    "p1 = Dropout(0.05)(p1)\n",
    "\n",
    "\n",
    "c2 = conv3d_block(p1, filters=64, kernel_size=kernel_size, activation_fun = act_fun )\n",
    "c2 = BatchNormalization()(c2)\n",
    "p2 = MaxPooling3D(pool_size=(2, 4, 4), padding='valid')(c2)\n",
    "p2 = Dropout(0.025)(p2)\n",
    "\n",
    "\n",
    "c3 = conv3d_block(p2, filters=128, kernel_size=kernel_size, activation_fun = act_fun )\n",
    "c3 = BatchNormalization()(c3)\n",
    "p3 = MaxPooling3D(pool_size=(1, 2, 2), padding='valid')(c3)\n",
    "p3 = Dropout(0.025)(p3)\n",
    "\n",
    "\n",
    "p3 = Reshape((2048,))(p3)\n",
    "\n",
    "\n",
    "d = Dense(2, activation = 'sigmoid')(p3)\n",
    "\n",
    "\n",
    "\n",
    "model = Model(x , d)\n",
    "model.compile(optimizer=\"Adam\", loss=tf.keras.losses.BinaryCrossentropy())\n",
    "model.summary()"
   ]
  },
  {
   "cell_type": "markdown",
   "metadata": {},
   "source": [
    "# FILTER MODEL"
   ]
  },
  {
   "cell_type": "code",
   "execution_count": 3,
   "metadata": {},
   "outputs": [
    {
     "name": "stderr",
     "output_type": "stream",
     "text": [
      "/cm/shared/apps/anaconda2/4.3.1/envs/jupyter3.7/lib/python3.7/site-packages/ipykernel_launcher.py:6: H5pyDeprecationWarning: The default file mode will change to 'r' (read-only) in h5py 3.0. To suppress this warning, pass the mode you need to h5py.File(), or set the global default h5.get_config().default_file_mode, or set the environment variable H5PY_DEFAULT_READONLY=1. Available modes are: 'r', 'r+', 'w', 'w-'/'x', 'a'. See the docs for details.\n",
      "  \n"
     ]
    }
   ],
   "source": [
    "class DataGenerator(keras.utils.Sequence):\n",
    "\n",
    "    def __init__(self, Directorio, batch_size = 5):\n",
    "        \n",
    "        self.batch_size = batch_size\n",
    "        self.Directorio = h5py.File(Directorio)\n",
    "\n",
    "    def __len__(self):\n",
    "        \n",
    "        return int((len(self.Directorio)/2) / self.batch_size)\n",
    "\n",
    "    \n",
    "    #Getitem nos devolvera los valores de X e Y para el indice de batch que le pida keras\n",
    "    def __getitem__(self, index):\n",
    "        \n",
    "        #Creamos dos listas vacias en las que se separaran los valores de X e Y de nuestro archivo\n",
    "        array_x = []\n",
    "        array_y = []\n",
    "        \n",
    "        #Numero de ejemplos que tenemos en nuestro dataset, dividimos entre dos por que la longitud total\n",
    "        #viene con el numero de X e Y\n",
    "        self.indexes = np.arange(int(len(self.Directorio)/2))\n",
    "        \n",
    "        #dependiendo del indice de batch, indexes nos dara la posicion de los datos que queremos extraer\n",
    "        indexes = self.indexes[index*self.batch_size:(index+1)*self.batch_size]\n",
    "        \n",
    "        #Recorremos el directorio y extraemos las X con sus frames y las Y con sus estados\n",
    "        for line in self.Directorio:\n",
    "\n",
    "            if line[0] == 'X':\n",
    "                array_x.append(self.Directorio[line])\n",
    "\n",
    "            if line [0] == 'Y':\n",
    "                array_y.append(self.Directorio[line])\n",
    "        \n",
    "        #dos nuevos listas en las que almacenaremos los datos correspondientes a las posiciones que nos pide\n",
    "        #el indice del batch\n",
    "        x = []\n",
    "        y = []\n",
    "        \n",
    "        for i in indexes:\n",
    "            x.append(array_x[i])\n",
    "            y.append(array_y[i])\n",
    "        \n",
    "        #convertimos la lista anterior en un array con shape (batch_size,8,512,512,3)\n",
    "        x_array = np.array(x)\n",
    "        \n",
    "        \n",
    "        #Keras no entiende de strings, por lo que pasamos esos strings a vectores con numeros\n",
    "        RE = [1,0] #vector para estado: reposo\n",
    "        EA = [0,1] #vector para estado: ataque\n",
    "        \n",
    "        #lista donde almacenamos los vectores asociados a su string correspondiente\n",
    "        y_strings = []\n",
    "        \n",
    "        for i in y:\n",
    "\n",
    "            if i.value == 'RE':\n",
    "                y_strings.append(RE)\n",
    "\n",
    "            else:\n",
    "                y_strings.append(EA)\n",
    "                \n",
    "        #convertimos la lista anterior en un array con shape (batch_size,2)\n",
    "        y_array = np.array(y_strings)\n",
    "\n",
    "        X, y = x_array,y_array\n",
    "\n",
    "        return X,y\n",
    "\n",
    "batch_size = 175\n",
    "\n",
    "\n",
    "train_samples =  '/mnt/MD1200A/lconcha/videos/Datasets_training/Combinado_training'\n",
    "test_samples =  '/mnt/MD1200A/lconcha/videos/Datasets_training/Combinado_validation'\n",
    "\n",
    "training_generator   = DataGenerator(train_samples, batch_size )\n",
    "validation_generator = DataGenerator(test_samples,  batch_size )"
   ]
  },
  {
   "cell_type": "markdown",
   "metadata": {},
   "source": [
    "# COMPILE MODEL"
   ]
  },
  {
   "cell_type": "code",
   "execution_count": 4,
   "metadata": {},
   "outputs": [
    {
     "name": "stderr",
     "output_type": "stream",
     "text": [
      "/cm/shared/apps/anaconda2/4.3.1/envs/jupyter3.7/lib/python3.7/site-packages/ipykernel_launcher.py:5: H5pyDeprecationWarning: The default file mode will change to 'r' (read-only) in h5py 3.0. To suppress this warning, pass the mode you need to h5py.File(), or set the global default h5.get_config().default_file_mode, or set the environment variable H5PY_DEFAULT_READONLY=1. Available modes are: 'r', 'r+', 'w', 'w-'/'x', 'a'. See the docs for details.\n",
      "  \"\"\"\n",
      "/cm/shared/apps/anaconda2/4.3.1/envs/jupyter3.7/lib/python3.7/site-packages/ipykernel_launcher.py:9: H5pyDeprecationWarning: The default file mode will change to 'r' (read-only) in h5py 3.0. To suppress this warning, pass the mode you need to h5py.File(), or set the global default h5.get_config().default_file_mode, or set the environment variable H5PY_DEFAULT_READONLY=1. Available modes are: 'r', 'r+', 'w', 'w-'/'x', 'a'. See the docs for details.\n",
      "  if __name__ == '__main__':\n",
      "/cm/shared/apps/anaconda2/4.3.1/envs/jupyter3.7/lib/python3.7/site-packages/tensorflow/python/keras/engine/training.py:1844: UserWarning: `Model.fit_generator` is deprecated and will be removed in a future version. Please use `Model.fit`, which supports generators.\n",
      "  warnings.warn('`Model.fit_generator` is deprecated and '\n",
      "/cm/shared/apps/anaconda2/4.3.1/envs/jupyter3.7/lib/python3.7/site-packages/ipykernel_launcher.py:58: H5pyDeprecationWarning: dataset.value has been deprecated. Use dataset[()] instead.\n"
     ]
    },
    {
     "name": "stdout",
     "output_type": "stream",
     "text": [
      "Epoch 1/100\n",
      "8/8 [==============================] - 883s 111s/step - loss: 2.2742 - accuracy: 0.5315 - val_loss: 17.1387 - val_accuracy: 0.4829\n",
      "Epoch 2/100\n",
      "8/8 [==============================] - 889s 110s/step - loss: 0.7083 - accuracy: 0.6837 - val_loss: 2.5730 - val_accuracy: 0.6257\n",
      "Epoch 3/100\n",
      "8/8 [==============================] - 881s 110s/step - loss: 0.7028 - accuracy: 0.6553 - val_loss: 2.2147 - val_accuracy: 0.6143\n",
      "Epoch 4/100\n",
      "8/8 [==============================] - 878s 110s/step - loss: 0.6425 - accuracy: 0.6618 - val_loss: 4.9456 - val_accuracy: 0.4857\n",
      "Epoch 5/100\n",
      "8/8 [==============================] - 881s 110s/step - loss: 0.6105 - accuracy: 0.7033 - val_loss: 1.5304 - val_accuracy: 0.5600\n",
      "Epoch 6/100\n",
      "8/8 [==============================] - 872s 109s/step - loss: 0.5704 - accuracy: 0.7264 - val_loss: 1.3121 - val_accuracy: 0.5457\n",
      "Epoch 7/100\n",
      "8/8 [==============================] - 876s 109s/step - loss: 0.5556 - accuracy: 0.7154 - val_loss: 1.3130 - val_accuracy: 0.5343\n",
      "Epoch 8/100\n",
      "8/8 [==============================] - 881s 110s/step - loss: 0.5431 - accuracy: 0.7513 - val_loss: 1.4415 - val_accuracy: 0.5257\n",
      "Epoch 9/100\n",
      "8/8 [==============================] - 873s 110s/step - loss: 0.5293 - accuracy: 0.7554 - val_loss: 0.9881 - val_accuracy: 0.5629\n",
      "Epoch 10/100\n",
      "8/8 [==============================] - 873s 109s/step - loss: 0.5174 - accuracy: 0.7702 - val_loss: 0.6738 - val_accuracy: 0.7343\n",
      "Epoch 11/100\n",
      "8/8 [==============================] - 874s 110s/step - loss: 0.5221 - accuracy: 0.7556 - val_loss: 0.6170 - val_accuracy: 0.7057\n",
      "Epoch 12/100\n",
      "8/8 [==============================] - 862s 108s/step - loss: 0.5488 - accuracy: 0.7189 - val_loss: 0.6826 - val_accuracy: 0.7086\n",
      "Epoch 13/100\n",
      "8/8 [==============================] - 879s 110s/step - loss: 0.5021 - accuracy: 0.7626 - val_loss: 0.9190 - val_accuracy: 0.6000\n",
      "Epoch 14/100\n",
      "8/8 [==============================] - 867s 108s/step - loss: 0.4962 - accuracy: 0.7797 - val_loss: 0.7058 - val_accuracy: 0.6857\n",
      "Epoch 15/100\n",
      "8/8 [==============================] - 870s 109s/step - loss: 0.4723 - accuracy: 0.7746 - val_loss: 0.6688 - val_accuracy: 0.7029\n",
      "Epoch 16/100\n",
      "8/8 [==============================] - 870s 109s/step - loss: 0.4687 - accuracy: 0.7812 - val_loss: 0.6053 - val_accuracy: 0.7400\n",
      "Epoch 17/100\n",
      "8/8 [==============================] - 877s 110s/step - loss: 0.4664 - accuracy: 0.7802 - val_loss: 0.5866 - val_accuracy: 0.7514\n",
      "Epoch 18/100\n",
      "8/8 [==============================] - 874s 109s/step - loss: 0.4787 - accuracy: 0.7543 - val_loss: 0.5646 - val_accuracy: 0.7514\n",
      "Epoch 19/100\n",
      "8/8 [==============================] - 871s 109s/step - loss: 0.4942 - accuracy: 0.7603 - val_loss: 0.6043 - val_accuracy: 0.7400\n",
      "Epoch 20/100\n",
      "8/8 [==============================] - 877s 109s/step - loss: 0.4499 - accuracy: 0.7941 - val_loss: 0.6119 - val_accuracy: 0.7343\n",
      "Epoch 21/100\n",
      "8/8 [==============================] - 879s 109s/step - loss: 0.4407 - accuracy: 0.7850 - val_loss: 0.5735 - val_accuracy: 0.7457\n",
      "Epoch 22/100\n",
      "8/8 [==============================] - 879s 109s/step - loss: 0.4390 - accuracy: 0.7979 - val_loss: 0.5249 - val_accuracy: 0.7657\n",
      "Epoch 23/100\n",
      "8/8 [==============================] - 876s 110s/step - loss: 0.4283 - accuracy: 0.8102 - val_loss: 0.6041 - val_accuracy: 0.7286\n",
      "Epoch 24/100\n",
      "8/8 [==============================] - 880s 110s/step - loss: 0.4310 - accuracy: 0.8102 - val_loss: 0.5675 - val_accuracy: 0.7486\n",
      "Epoch 25/100\n",
      "8/8 [==============================] - 880s 110s/step - loss: 0.4164 - accuracy: 0.8093 - val_loss: 0.4995 - val_accuracy: 0.7771\n",
      "Epoch 26/100\n",
      "8/8 [==============================] - 883s 110s/step - loss: 0.4159 - accuracy: 0.8103 - val_loss: 0.5296 - val_accuracy: 0.7600\n",
      "Epoch 27/100\n",
      "8/8 [==============================] - 875s 110s/step - loss: 0.4168 - accuracy: 0.8137 - val_loss: 0.5411 - val_accuracy: 0.7629\n",
      "Epoch 28/100\n",
      "8/8 [==============================] - 872s 109s/step - loss: 0.4174 - accuracy: 0.8020 - val_loss: 0.5106 - val_accuracy: 0.7657\n",
      "Epoch 29/100\n",
      "8/8 [==============================] - 882s 111s/step - loss: 0.3917 - accuracy: 0.8284 - val_loss: 0.4832 - val_accuracy: 0.7971\n",
      "Epoch 30/100\n",
      "8/8 [==============================] - 883s 110s/step - loss: 0.4070 - accuracy: 0.8176 - val_loss: 0.4612 - val_accuracy: 0.7829\n",
      "Epoch 31/100\n",
      "8/8 [==============================] - 872s 110s/step - loss: 0.3999 - accuracy: 0.8157 - val_loss: 0.5414 - val_accuracy: 0.7714\n",
      "Epoch 32/100\n",
      "8/8 [==============================] - 872s 110s/step - loss: 0.4151 - accuracy: 0.8209 - val_loss: 0.5553 - val_accuracy: 0.7714\n",
      "Epoch 33/100\n",
      "8/8 [==============================] - 870s 109s/step - loss: 0.3885 - accuracy: 0.8351 - val_loss: 0.5609 - val_accuracy: 0.7743\n",
      "Epoch 34/100\n",
      "8/8 [==============================] - 880s 110s/step - loss: 0.3844 - accuracy: 0.8232 - val_loss: 0.5583 - val_accuracy: 0.7686\n",
      "Epoch 35/100\n",
      "8/8 [==============================] - 880s 110s/step - loss: 0.4057 - accuracy: 0.8152 - val_loss: 0.5713 - val_accuracy: 0.7657\n",
      "Epoch 36/100\n",
      "8/8 [==============================] - 874s 110s/step - loss: 0.3950 - accuracy: 0.8354 - val_loss: 0.4724 - val_accuracy: 0.7886\n",
      "Epoch 37/100\n",
      "8/8 [==============================] - 882s 110s/step - loss: 0.3804 - accuracy: 0.8314 - val_loss: 0.4562 - val_accuracy: 0.7743\n",
      "Epoch 38/100\n",
      "8/8 [==============================] - 885s 110s/step - loss: 0.3936 - accuracy: 0.8150 - val_loss: 0.5139 - val_accuracy: 0.7686\n",
      "Epoch 39/100\n",
      "8/8 [==============================] - 871s 109s/step - loss: 0.3820 - accuracy: 0.8281 - val_loss: 0.4730 - val_accuracy: 0.7800\n",
      "Epoch 40/100\n",
      "8/8 [==============================] - 874s 110s/step - loss: 0.3846 - accuracy: 0.8361 - val_loss: 0.4566 - val_accuracy: 0.7800\n",
      "Epoch 41/100\n",
      "8/8 [==============================] - 878s 110s/step - loss: 0.3584 - accuracy: 0.8316 - val_loss: 0.4568 - val_accuracy: 0.7514\n",
      "Epoch 42/100\n",
      "8/8 [==============================] - 877s 109s/step - loss: 0.3431 - accuracy: 0.8467 - val_loss: 0.4823 - val_accuracy: 0.7400\n",
      "Epoch 43/100\n",
      "8/8 [==============================] - 891s 112s/step - loss: 0.3579 - accuracy: 0.8494 - val_loss: 0.5136 - val_accuracy: 0.7086\n",
      "Epoch 44/100\n",
      "8/8 [==============================] - 876s 110s/step - loss: 0.3390 - accuracy: 0.8524 - val_loss: 0.6143 - val_accuracy: 0.6257\n",
      "Epoch 45/100\n",
      "8/8 [==============================] - 883s 111s/step - loss: 0.3405 - accuracy: 0.8455 - val_loss: 0.5924 - val_accuracy: 0.6686\n",
      "Epoch 46/100\n",
      "8/8 [==============================] - 877s 110s/step - loss: 0.3669 - accuracy: 0.8392 - val_loss: 0.7977 - val_accuracy: 0.5686\n",
      "Epoch 47/100\n",
      "8/8 [==============================] - 884s 110s/step - loss: 0.3468 - accuracy: 0.8566 - val_loss: 0.5204 - val_accuracy: 0.7229\n",
      "Epoch 48/100\n",
      "8/8 [==============================] - 885s 111s/step - loss: 0.3452 - accuracy: 0.8518 - val_loss: 0.4826 - val_accuracy: 0.7971\n",
      "Epoch 49/100\n",
      "8/8 [==============================] - 868s 109s/step - loss: 0.3777 - accuracy: 0.8363 - val_loss: 0.5595 - val_accuracy: 0.6743\n",
      "Epoch 50/100\n",
      "8/8 [==============================] - 774s 95s/step - loss: 0.3801 - accuracy: 0.8364 - val_loss: 0.5329 - val_accuracy: 0.7057\n",
      "Epoch 51/100\n",
      "8/8 [==============================] - 753s 94s/step - loss: 0.3575 - accuracy: 0.8418 - val_loss: 0.4940 - val_accuracy: 0.7429\n",
      "Epoch 52/100\n",
      "8/8 [==============================] - 753s 94s/step - loss: 0.3232 - accuracy: 0.8629 - val_loss: 0.5398 - val_accuracy: 0.6857\n",
      "Epoch 53/100\n",
      "8/8 [==============================] - 753s 94s/step - loss: 0.2999 - accuracy: 0.8837 - val_loss: 0.6525 - val_accuracy: 0.6000\n",
      "Epoch 54/100\n",
      "8/8 [==============================] - 748s 94s/step - loss: 0.3317 - accuracy: 0.8500 - val_loss: 0.5421 - val_accuracy: 0.6914\n",
      "Epoch 55/100\n",
      "8/8 [==============================] - 744s 93s/step - loss: 0.3049 - accuracy: 0.8820 - val_loss: 0.4846 - val_accuracy: 0.7314\n",
      "Epoch 56/100\n",
      "8/8 [==============================] - 750s 94s/step - loss: 0.3021 - accuracy: 0.8688 - val_loss: 0.4227 - val_accuracy: 0.7971\n",
      "Epoch 57/100\n",
      "8/8 [==============================] - 748s 93s/step - loss: 0.3065 - accuracy: 0.8745 - val_loss: 0.5327 - val_accuracy: 0.6971\n",
      "Epoch 58/100\n"
     ]
    },
    {
     "name": "stdout",
     "output_type": "stream",
     "text": [
      "8/8 [==============================] - 746s 94s/step - loss: 0.2995 - accuracy: 0.8971 - val_loss: 0.5247 - val_accuracy: 0.7029\n",
      "Epoch 59/100\n",
      "8/8 [==============================] - 739s 93s/step - loss: 0.2996 - accuracy: 0.8800 - val_loss: 0.4404 - val_accuracy: 0.7829\n",
      "Epoch 60/100\n",
      "8/8 [==============================] - 747s 93s/step - loss: 0.2803 - accuracy: 0.8935 - val_loss: 0.4258 - val_accuracy: 0.7886\n",
      "Epoch 61/100\n",
      "8/8 [==============================] - 747s 94s/step - loss: 0.2978 - accuracy: 0.8741 - val_loss: 0.5650 - val_accuracy: 0.6600\n",
      "Epoch 62/100\n",
      "8/8 [==============================] - 742s 93s/step - loss: 0.2759 - accuracy: 0.8902 - val_loss: 0.5990 - val_accuracy: 0.6600\n",
      "Epoch 63/100\n",
      "8/8 [==============================] - 751s 94s/step - loss: 0.2898 - accuracy: 0.8805 - val_loss: 0.7866 - val_accuracy: 0.5971\n",
      "Epoch 64/100\n",
      "8/8 [==============================] - 750s 94s/step - loss: 0.2735 - accuracy: 0.8935 - val_loss: 0.7382 - val_accuracy: 0.6257\n",
      "Epoch 65/100\n",
      "8/8 [==============================] - 749s 94s/step - loss: 0.2658 - accuracy: 0.8905 - val_loss: 0.4998 - val_accuracy: 0.7286\n",
      "Epoch 66/100\n",
      "8/8 [==============================] - 744s 93s/step - loss: 0.2752 - accuracy: 0.8904 - val_loss: 0.5933 - val_accuracy: 0.6600\n",
      "Epoch 67/100\n",
      "8/8 [==============================] - 746s 93s/step - loss: 0.2773 - accuracy: 0.8877 - val_loss: 0.4710 - val_accuracy: 0.7514\n",
      "Epoch 68/100\n",
      "8/8 [==============================] - 746s 94s/step - loss: 0.2819 - accuracy: 0.8823 - val_loss: 0.6221 - val_accuracy: 0.6429\n",
      "Epoch 69/100\n",
      "8/8 [==============================] - 743s 93s/step - loss: 0.2666 - accuracy: 0.9029 - val_loss: 0.6761 - val_accuracy: 0.6371\n",
      "Epoch 70/100\n",
      "8/8 [==============================] - 769s 97s/step - loss: 0.2838 - accuracy: 0.8846 - val_loss: 1.1769 - val_accuracy: 0.5400\n",
      "Epoch 71/100\n",
      "8/8 [==============================] - 883s 110s/step - loss: 0.2594 - accuracy: 0.9019 - val_loss: 1.0620 - val_accuracy: 0.5800\n",
      "Epoch 72/100\n",
      "8/8 [==============================] - 873s 109s/step - loss: 0.2795 - accuracy: 0.8900 - val_loss: 0.9816 - val_accuracy: 0.5800\n",
      "Epoch 73/100\n",
      "8/8 [==============================] - 866s 109s/step - loss: 0.2510 - accuracy: 0.9053 - val_loss: 0.5982 - val_accuracy: 0.6771\n",
      "Epoch 74/100\n",
      "8/8 [==============================] - 866s 108s/step - loss: 0.2381 - accuracy: 0.9101 - val_loss: 0.5637 - val_accuracy: 0.6914\n",
      "Epoch 75/100\n",
      "8/8 [==============================] - 865s 108s/step - loss: 0.2672 - accuracy: 0.8959 - val_loss: 0.6244 - val_accuracy: 0.6657\n",
      "Epoch 76/100\n",
      "8/8 [==============================] - 865s 108s/step - loss: 0.2520 - accuracy: 0.9035 - val_loss: 0.6513 - val_accuracy: 0.6800\n",
      "Epoch 77/100\n",
      "8/8 [==============================] - 867s 109s/step - loss: 0.2422 - accuracy: 0.9166 - val_loss: 1.0358 - val_accuracy: 0.5743\n",
      "Epoch 78/100\n",
      "8/8 [==============================] - 877s 110s/step - loss: 0.2364 - accuracy: 0.9167 - val_loss: 0.8361 - val_accuracy: 0.5971\n",
      "Epoch 79/100\n",
      "8/8 [==============================] - 871s 109s/step - loss: 0.2218 - accuracy: 0.9172 - val_loss: 1.2061 - val_accuracy: 0.5629\n",
      "Epoch 80/100\n",
      "8/8 [==============================] - 883s 111s/step - loss: 0.2699 - accuracy: 0.8864 - val_loss: 0.8519 - val_accuracy: 0.6486\n",
      "Epoch 81/100\n",
      "8/8 [==============================] - 875s 109s/step - loss: 0.2340 - accuracy: 0.9148 - val_loss: 0.4970 - val_accuracy: 0.7800\n",
      "Epoch 82/100\n",
      "8/8 [==============================] - 868s 109s/step - loss: 0.2359 - accuracy: 0.9116 - val_loss: 0.5126 - val_accuracy: 0.7743\n",
      "Epoch 83/100\n",
      "8/8 [==============================] - 894s 112s/step - loss: 0.2207 - accuracy: 0.9142 - val_loss: 0.5923 - val_accuracy: 0.6829\n",
      "Epoch 84/100\n",
      "8/8 [==============================] - 867s 109s/step - loss: 0.3005 - accuracy: 0.8768 - val_loss: 0.4698 - val_accuracy: 0.8257\n",
      "Epoch 85/100\n",
      "8/8 [==============================] - 870s 108s/step - loss: 0.2786 - accuracy: 0.8818 - val_loss: 0.4997 - val_accuracy: 0.7971\n",
      "Epoch 86/100\n",
      "8/8 [==============================] - 886s 110s/step - loss: 0.3017 - accuracy: 0.8662 - val_loss: 0.5435 - val_accuracy: 0.7714\n",
      "Epoch 87/100\n",
      "8/8 [==============================] - 875s 109s/step - loss: 0.2760 - accuracy: 0.8915 - val_loss: 0.5596 - val_accuracy: 0.8086\n",
      "Epoch 88/100\n",
      "8/8 [==============================] - 881s 111s/step - loss: 0.2662 - accuracy: 0.8892 - val_loss: 0.4361 - val_accuracy: 0.8171\n",
      "Epoch 89/100\n",
      "8/8 [==============================] - 879s 111s/step - loss: 0.2463 - accuracy: 0.8962 - val_loss: 0.4563 - val_accuracy: 0.8029\n",
      "Epoch 90/100\n",
      "8/8 [==============================] - 865s 109s/step - loss: 0.2251 - accuracy: 0.9075 - val_loss: 0.4723 - val_accuracy: 0.7857\n",
      "Epoch 91/100\n",
      "8/8 [==============================] - 874s 110s/step - loss: 0.2091 - accuracy: 0.9290 - val_loss: 0.4651 - val_accuracy: 0.7886\n",
      "Epoch 92/100\n",
      "8/8 [==============================] - 877s 110s/step - loss: 0.2187 - accuracy: 0.9093 - val_loss: 0.5261 - val_accuracy: 0.7286\n",
      "Epoch 93/100\n",
      "8/8 [==============================] - 861s 108s/step - loss: 0.2242 - accuracy: 0.9152 - val_loss: 0.5050 - val_accuracy: 0.7429\n",
      "Epoch 94/100\n",
      "8/8 [==============================] - 872s 109s/step - loss: 0.2283 - accuracy: 0.9082 - val_loss: 0.4688 - val_accuracy: 0.7686\n",
      "Epoch 95/100\n",
      "8/8 [==============================] - 864s 108s/step - loss: 0.2130 - accuracy: 0.9131 - val_loss: 0.4618 - val_accuracy: 0.7914\n",
      "Epoch 96/100\n",
      "8/8 [==============================] - 864s 109s/step - loss: 0.2089 - accuracy: 0.9280 - val_loss: 0.4873 - val_accuracy: 0.7343\n",
      "Epoch 97/100\n",
      "8/8 [==============================] - 864s 109s/step - loss: 0.1963 - accuracy: 0.9271 - val_loss: 0.5514 - val_accuracy: 0.7200\n",
      "Epoch 98/100\n",
      "8/8 [==============================] - 862s 108s/step - loss: 0.1712 - accuracy: 0.9403 - val_loss: 0.5607 - val_accuracy: 0.7171\n",
      "Epoch 99/100\n",
      "8/8 [==============================] - 868s 109s/step - loss: 0.1877 - accuracy: 0.9290 - val_loss: 0.5707 - val_accuracy: 0.8057\n",
      "Epoch 100/100\n",
      "8/8 [==============================] - 872s 109s/step - loss: 0.2332 - accuracy: 0.9106 - val_loss: 0.5618 - val_accuracy: 0.8057\n"
     ]
    }
   ],
   "source": [
    "model.compile(optimizer=\"Adam\", loss=tf.keras.losses.BinaryCrossentropy(), metrics=['accuracy'])\n",
    "\n",
    "\n",
    "history = model.fit_generator(generator=training_generator,\n",
    "                    steps_per_epoch= int((len(h5py.File(train_samples))/2))// batch_size,\n",
    "                    epochs=100,\n",
    "                    verbose=True,\n",
    "                    validation_data=validation_generator,\n",
    "                    validation_steps=int((len(h5py.File(test_samples))/2))// batch_size,\n",
    "                    use_multiprocessing=False,\n",
    "                    workers=0,\n",
    "                    max_queue_size=5)"
   ]
  },
  {
   "cell_type": "markdown",
   "metadata": {},
   "source": [
    "# SAVE MODEL"
   ]
  },
  {
   "cell_type": "code",
   "execution_count": 5,
   "metadata": {},
   "outputs": [],
   "source": [
    "from keras.models import model_from_json"
   ]
  },
  {
   "cell_type": "code",
   "execution_count": 14,
   "metadata": {},
   "outputs": [
    {
     "name": "stdout",
     "output_type": "stream",
     "text": [
      "Saved model to disk\n"
     ]
    }
   ],
   "source": [
    "dirmodel = '/mnt/MD1200A/lconcha/videos/Modelos/DropOut_005_0025_0025/'\n",
    "\n",
    "# Guardar configuración JSON en el disco\n",
    "model_json = model.to_json()\n",
    "with open(dirmodel + \"dropout_00500250025.json\", \"w\") as json_file:\n",
    "    json_file.write(model_json)\n",
    "# Guardar pesos en el disco\n",
    "model.save_weights(dirmodel + \"dropout_00500250025.h5\")\n",
    "print(\"Saved model to disk\")"
   ]
  },
  {
   "cell_type": "markdown",
   "metadata": {},
   "source": [
    "# LOAD MODEL"
   ]
  },
  {
   "cell_type": "code",
   "execution_count": 75,
   "metadata": {},
   "outputs": [
    {
     "name": "stdout",
     "output_type": "stream",
     "text": [
      "Load model to disk\n"
     ]
    }
   ],
   "source": [
    "dirmodel = '/mnt/MD1200A/lconcha/videos/'\n",
    "\n",
    "# Recargue el modelo de los 2 archivos que guardamos\n",
    "with open(dirmodel + \"dropout_05025025.json\") as json_file:\n",
    "    json_config = json_file.read()\n",
    "new_model = keras.models.model_from_json(json_config)\n",
    "new_model.load_weights(dirmodel + \"dropout_05025025.h5\")\n",
    "print(\"Load model to disk\")"
   ]
  },
  {
   "cell_type": "markdown",
   "metadata": {},
   "source": [
    "# TEST MODEL"
   ]
  },
  {
   "cell_type": "code",
   "execution_count": 7,
   "metadata": {},
   "outputs": [
    {
     "name": "stderr",
     "output_type": "stream",
     "text": [
      "/cm/shared/apps/anaconda2/4.3.1/envs/jupyter3.7/lib/python3.7/site-packages/ipykernel_launcher.py:6: H5pyDeprecationWarning: The default file mode will change to 'r' (read-only) in h5py 3.0. To suppress this warning, pass the mode you need to h5py.File(), or set the global default h5.get_config().default_file_mode, or set the environment variable H5PY_DEFAULT_READONLY=1. Available modes are: 'r', 'r+', 'w', 'w-'/'x', 'a'. See the docs for details.\n",
      "  \n",
      "/cm/shared/apps/anaconda2/4.3.1/envs/jupyter3.7/lib/python3.7/site-packages/ipykernel_launcher.py:58: H5pyDeprecationWarning: dataset.value has been deprecated. Use dataset[()] instead.\n"
     ]
    },
    {
     "name": "stdout",
     "output_type": "stream",
     "text": [
      "(493, 8, 128, 128, 3)\n"
     ]
    }
   ],
   "source": [
    "test_samples = '/mnt/MD1200A/lconcha/videos/Datasets_training/Combinado_test'\n",
    "\n",
    "#con esto vemos el numero de ejemplos que hay en el dataset de test\n",
    "f = h5py.File(test_samples, 'r')\n",
    "a_group_key = list(f.keys())\n",
    "X_test = int(len(a_group_key)/2)\n",
    "\n",
    "\n",
    "batch_size = X_test\n",
    "\n",
    "test_generator = DataGenerator(test_samples, batch_size )\n",
    "\n",
    "test_generator.batch_size = X_test\n",
    "X, Y = test_generator.__getitem__(np.random.randint(0,1))\n",
    "prediction = model.predict(X)\n",
    "\n",
    "array_prediction = np.argmax(prediction, axis=1)\n",
    "array_Y = np.argmax(Y, axis=1)\n",
    "\n",
    "print(X.shape)"
   ]
  },
  {
   "cell_type": "markdown",
   "metadata": {},
   "source": [
    "# CONFUSION MATRIX"
   ]
  },
  {
   "cell_type": "code",
   "execution_count": 8,
   "metadata": {},
   "outputs": [],
   "source": [
    "from sklearn.metrics import confusion_matrix\n",
    "import pandas as pd\n",
    "import seaborn as sns"
   ]
  },
  {
   "cell_type": "code",
   "execution_count": 9,
   "metadata": {},
   "outputs": [
    {
     "name": "stdout",
     "output_type": "stream",
     "text": [
      "[[161  86]\n",
      " [  8 238]]\n",
      "     RE   EA\n",
      "RE  161   86\n",
      "EA    8  238\n"
     ]
    },
    {
     "data": {
      "image/png": "[encoded data removed]",
      "text/plain": [
       "<Figure size 432x288 with 2 Axes>"
      ]
     },
     "metadata": {
      "needs_background": "light"
     },
     "output_type": "display_data"
    }
   ],
   "source": [
    "confm = confusion_matrix(array_Y,array_prediction)\n",
    "print(confm)\n",
    "\n",
    "columnas = ['RE','EA']\n",
    "df_cm = pd.DataFrame(confm, index=columnas, columns=columnas)\n",
    "\n",
    "print(df_cm)\n",
    "\n",
    "grafica = sns.heatmap(df_cm, cmap='Blues', annot=True, fmt=\"d\")\n",
    "\n",
    "\n",
    "plt.ylabel('Valores verdaderos')\n",
    "plt.xlabel('Predicciones')\n",
    "grafica.set(xlabel='Verdadero',ylabel='Predicción')\n",
    "plt.show\n",
    "plt.savefig('/mnt/MD1200A/lconcha/videos/Modelos/DropOut_005_0025_0025/confm_dropout00500250025.png', dpi = 500)"
   ]
  },
  {
   "cell_type": "code",
   "execution_count": 10,
   "metadata": {},
   "outputs": [
    {
     "name": "stdout",
     "output_type": "stream",
     "text": [
      "[[0.32657201 0.17444219]\n",
      " [0.01622718 0.48275862]]\n",
      "          RE        EA\n",
      "RE  0.326572  0.174442\n",
      "EA  0.016227  0.482759\n"
     ]
    },
    {
     "data": {
      "image/png": "[encoded data removed]",
      "text/plain": [
       "<Figure size 432x288 with 2 Axes>"
      ]
     },
     "metadata": {
      "needs_background": "light"
     },
     "output_type": "display_data"
    }
   ],
   "source": [
    "confm = confusion_matrix(array_Y,array_prediction)\n",
    "confm = confm/493\n",
    "print(confm)\n",
    "\n",
    "columnas = ['RE','EA']\n",
    "df_cm = pd.DataFrame(confm, index=columnas, columns=columnas)\n",
    "\n",
    "print(df_cm)\n",
    "\n",
    "grafica = sns.heatmap(df_cm, cmap='Blues', annot=True)\n",
    "\n",
    "\n",
    "plt.ylabel('Valores verdaderos')\n",
    "plt.xlabel('Predicciones')\n",
    "grafica.set(xlabel='Verdadero',ylabel='Predicción')\n",
    "plt.show\n",
    "plt.savefig('/mnt/MD1200A/lconcha/videos/Modelos/DropOut_005_0025_0025/%confm_dropout00500250025.png', dpi = 500)"
   ]
  },
  {
   "cell_type": "markdown",
   "metadata": {},
   "source": [
    "# Gráficas para valores de loss y accuary"
   ]
  },
  {
   "cell_type": "code",
   "execution_count": 11,
   "metadata": {},
   "outputs": [
    {
     "data": {
      "image/png": "[encoded data removed]",
      "text/plain": [
       "<Figure size 432x288 with 1 Axes>"
      ]
     },
     "metadata": {
      "needs_background": "light"
     },
     "output_type": "display_data"
    }
   ],
   "source": [
    "plt.plot(history.history['loss'], label='loss')\n",
    "plt.plot(history.history['val_loss'], label = 'val_loss')\n",
    "plt.xlabel('Epoch')\n",
    "plt.ylabel('loss')\n",
    "plt.legend(loc='upper right')\n",
    "plt.savefig('/mnt/MD1200A/lconcha/videos/Modelos/DropOut_005_0025_0025/loss_dropout00500250025.png', dpi = 500)"
   ]
  },
  {
   "cell_type": "code",
   "execution_count": 12,
   "metadata": {},
   "outputs": [
    {
     "data": {
      "image/png": "[encoded data removed]",
      "text/plain": [
       "<Figure size 432x288 with 1 Axes>"
      ]
     },
     "metadata": {
      "needs_background": "light"
     },
     "output_type": "display_data"
    }
   ],
   "source": [
    "plt.plot(history.history['accuracy'], label='accuracy')\n",
    "plt.plot(history.history['val_accuracy'], label = 'val_accuracy')\n",
    "plt.xlabel('Epoch')\n",
    "plt.ylabel('Accuracy')\n",
    "plt.ylim([0.5, 1])\n",
    "plt.legend(loc='lower right')\n",
    "plt.savefig('/mnt/MD1200A/lconcha/videos/Modelos/DropOut_005_0025_0025/accuary_dropout00500250025.png', dpi = 500)"
   ]
  },
  {
   "cell_type": "code",
   "execution_count": 13,
   "metadata": {},
   "outputs": [
    {
     "name": "stdout",
     "output_type": "stream",
     "text": [
      "[[0.32657201 0.17444219]\n",
      " [0.01622718 0.48275862]] [1.62390244 0.72529876 0.67808211 0.63982493 0.59243053 0.56682509\n",
      " 0.5436399  0.54559028 0.54389787 0.52948481 0.52675956 0.52136272\n",
      " 0.4888255  0.48406547 0.46332964 0.46441963 0.46600869 0.47086287\n",
      " 0.48209515 0.45093304 0.44143197 0.44480884 0.43641603 0.42482617\n",
      " 0.42298511 0.41742906 0.41261435 0.4141061  0.39976773 0.40854812\n",
      " 0.41944468 0.41806325 0.39391166 0.39250609 0.38969648 0.39110309\n",
      " 0.39400893 0.38874838 0.37003985 0.3750163  0.35972673 0.35036641\n",
      " 0.3603895  0.34140992 0.34996596 0.3661873  0.34966528 0.361462\n",
      " 0.38444141 0.38567266 0.35553721 0.33676615 0.3229863  0.32266468\n",
      " 0.30945286 0.31210589 0.3127785  0.30385911 0.29515615 0.28406891\n",
      " 0.29205564 0.28079575 0.29370695 0.28315902 0.27586824 0.27868193\n",
      " 0.28407741 0.27977365 0.27038491 0.27147931 0.26244465 0.26319346\n",
      " 0.24880321 0.24833331 0.27441779 0.25840154 0.24664289 0.23965827\n",
      " 0.23098095 0.27106974 0.24171774 0.2382464  0.23236236 0.2904152\n",
      " 0.27565458 0.30554467 0.27406517 0.27416813 0.24701148 0.22981451\n",
      " 0.21943882 0.21956584 0.22576931 0.21927573 0.20479394 0.21099858\n",
      " 0.20237203 0.18580283 0.19476289 0.22724575] [17.13867378  2.57303023  2.21466494  4.9456172   1.53037429  1.31205285\n",
      "  1.31299496  1.44151461  0.98810178  0.67383534  0.61700219  0.6825577\n",
      "  0.91896373  0.70584255  0.66879916  0.6053378   0.58664864  0.56455952\n",
      "  0.60429603  0.61194676  0.57348824  0.52487272  0.60406488  0.56750095\n",
      "  0.4995254   0.52956092  0.54105449  0.51062185  0.48319396  0.46120802\n",
      "  0.54141885  0.55531579  0.56085813  0.55828083  0.57133895  0.47244844\n",
      "  0.45621714  0.51387912  0.47301409  0.45656511  0.45678863  0.48231441\n",
      "  0.51360786  0.61434126  0.59237993  0.7977438   0.52040571  0.4826341\n",
      "  0.55950522  0.53289449  0.49396336  0.53976351  0.65252781  0.54209316\n",
      "  0.48462987  0.42270413  0.53265738  0.52469355  0.44038185  0.42583576\n",
      "  0.56501454  0.59904784  0.78658968  0.73823363  0.49981549  0.59332156\n",
      "  0.47104964  0.62214166  0.67607272  1.17689002  1.06195247  0.98163158\n",
      "  0.59823269  0.56374162  0.62440854  0.65125209  1.03576934  0.8361302\n",
      "  1.20607495  0.85193604  0.49703392  0.51256716  0.59229237  0.469814\n",
      "  0.49968794  0.54349917  0.55961943  0.43607667  0.45633566  0.47233215\n",
      "  0.4651069   0.52613699  0.50497997  0.46876591  0.46179351  0.48728988\n",
      "  0.55141461  0.56074804  0.57069308  0.56177622]\n"
     ]
    }
   ],
   "source": [
    "#Con el siguiente codigo guardo los arrays de la matriz de confusion, los valores de loss y val_loss\n",
    "\n",
    "with open('/mnt/MD1200A/lconcha/videos/Modelos/DropOut_005_0025_0025/dropout_00500250025.npy', 'wb') as f:\n",
    "    np.save(f, confm)\n",
    "    np.save(f, history.history['loss'])\n",
    "    np.save(f, history.history['val_loss'])\n",
    "    \n",
    "with open('/mnt/MD1200A/lconcha/videos/Modelos/DropOut_005_0025_0025/dropout_00500250025.npy', 'rb') as f:\n",
    "    a = np.load(f)\n",
    "    b = np.load(f)\n",
    "    c = np.load(f)\n",
    "    \n",
    "print(a, b,c)"
   ]
  }
 ],
 "metadata": {
  "kernelspec": {
   "display_name": "Python 3",
   "language": "python",
   "name": "python3"
  },
  "language_info": {
   "codemirror_mode": {
    "name": "ipython",
    "version": 3
   },
   "file_extension": ".py",
   "mimetype": "text/x-python",
   "name": "python",
   "nbconvert_exporter": "python",
   "pygments_lexer": "ipython3",
   "version": "3.7.9"
  }
 },
 "nbformat": 4,
 "nbformat_minor": 4
}
