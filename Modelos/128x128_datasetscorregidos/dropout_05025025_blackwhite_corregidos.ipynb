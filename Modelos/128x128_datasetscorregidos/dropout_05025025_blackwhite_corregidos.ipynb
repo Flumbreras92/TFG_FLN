{
 "cells": [
  {
   "cell_type": "code",
   "execution_count": 1,
   "id": "residential-institute",
   "metadata": {},
   "outputs": [],
   "source": [
    "import numpy as np\n",
    "import h5py\n",
    "\n",
    "import tensorflow as tf\n",
    "import keras\n",
    "from keras.models import Sequential\n",
    "from keras.models import Model\n",
    "from keras.callbacks import EarlyStopping, ModelCheckpoint\n",
    "from keras.optimizers import Adam\n",
    "from keras.layers import Input, Flatten, Dense, Dropout,  Activation, Conv3D, MaxPooling3D, UpSampling3D, BatchNormalization, Activation, Reshape\n",
    "from keras.layers import Conv2D, MaxPooling2D\n",
    "#from keras.utils import multi_gpu_model\n",
    "\n",
    "from keras.optimizers import SGD\n",
    "from keras.layers.merge import concatenate, add\n",
    "\n",
    "#from keras.utils.io_utils import HDF5Matrix\n",
    "from keras.utils import plot_model\n",
    "from keras import optimizers\n",
    "\n",
    "import os\n",
    "import numpy as np\n",
    "from os import listdir\n",
    "from os.path import isfile, join\n",
    "import matplotlib.pyplot as plt\n",
    "from random import shuffle"
   ]
  },
  {
   "cell_type": "code",
   "execution_count": 5,
   "id": "presidential-jerusalem",
   "metadata": {},
   "outputs": [
    {
     "name": "stdout",
     "output_type": "stream",
     "text": [
      "Model: \"model_1\"\n",
      "_________________________________________________________________\n",
      "Layer (type)                 Output Shape              Param #   \n",
      "=================================================================\n",
      "input_2 (InputLayer)         [(None, 8, 128, 128, 1)]  0         \n",
      "_________________________________________________________________\n",
      "conv3d_3 (Conv3D)            (None, 8, 128, 128, 32)   4032      \n",
      "_________________________________________________________________\n",
      "batch_normalization_6 (Batch (None, 8, 128, 128, 32)   128       \n",
      "_________________________________________________________________\n",
      "activation_3 (Activation)    (None, 8, 128, 128, 32)   0         \n",
      "_________________________________________________________________\n",
      "batch_normalization_7 (Batch (None, 8, 128, 128, 32)   128       \n",
      "_________________________________________________________________\n",
      "max_pooling3d_3 (MaxPooling3 (None, 2, 32, 32, 32)     0         \n",
      "_________________________________________________________________\n",
      "dropout_3 (Dropout)          (None, 2, 32, 32, 32)     0         \n",
      "_________________________________________________________________\n",
      "conv3d_4 (Conv3D)            (None, 2, 32, 32, 64)     256064    \n",
      "_________________________________________________________________\n",
      "batch_normalization_8 (Batch (None, 2, 32, 32, 64)     256       \n",
      "_________________________________________________________________\n",
      "activation_4 (Activation)    (None, 2, 32, 32, 64)     0         \n",
      "_________________________________________________________________\n",
      "batch_normalization_9 (Batch (None, 2, 32, 32, 64)     256       \n",
      "_________________________________________________________________\n",
      "max_pooling3d_4 (MaxPooling3 (None, 1, 8, 8, 64)       0         \n",
      "_________________________________________________________________\n",
      "dropout_4 (Dropout)          (None, 1, 8, 8, 64)       0         \n",
      "_________________________________________________________________\n",
      "conv3d_5 (Conv3D)            (None, 1, 8, 8, 128)      1024128   \n",
      "_________________________________________________________________\n",
      "batch_normalization_10 (Batc (None, 1, 8, 8, 128)      512       \n",
      "_________________________________________________________________\n",
      "activation_5 (Activation)    (None, 1, 8, 8, 128)      0         \n",
      "_________________________________________________________________\n",
      "batch_normalization_11 (Batc (None, 1, 8, 8, 128)      512       \n",
      "_________________________________________________________________\n",
      "max_pooling3d_5 (MaxPooling3 (None, 1, 4, 4, 128)      0         \n",
      "_________________________________________________________________\n",
      "dropout_5 (Dropout)          (None, 1, 4, 4, 128)      0         \n",
      "_________________________________________________________________\n",
      "reshape_1 (Reshape)          (None, 2048)              0         \n",
      "_________________________________________________________________\n",
      "dense_1 (Dense)              (None, 2)                 4098      \n",
      "=================================================================\n",
      "Total params: 1,290,114\n",
      "Trainable params: 1,289,218\n",
      "Non-trainable params: 896\n",
      "_________________________________________________________________\n"
     ]
    }
   ],
   "source": [
    "def conv3d_block(input_tensor, filters, kernel_size, activation_fun = \"linear\"):\n",
    "    # first layer\n",
    "    x = Conv3D(filters=filters, kernel_size=kernel_size, kernel_initializer=\"he_normal\", padding=\"same\")(input_tensor)\n",
    "    x = BatchNormalization()(x)\n",
    "    x = Activation(activation_fun)(x)\n",
    "\n",
    "    return x\n",
    "\n",
    "kernel_size = (5,5,5)\n",
    "act_fun = \"relu\"\n",
    "\n",
    "############### DEFINE SET OF INPUTS #################\n",
    "\n",
    "x = Input(shape=(8, 128, 128,1)) \n",
    "\n",
    "\n",
    "############## DEFINE PATH FOR INPUT 1 ##################\n",
    "\n",
    "\n",
    "c1 = conv3d_block (x, filters=32, kernel_size=kernel_size, activation_fun = act_fun )\n",
    "c1 = BatchNormalization()(c1)\n",
    "p1 = MaxPooling3D (pool_size=(4, 4, 4), padding='valid')(c1)\n",
    "p1 = Dropout(0.5)(p1)\n",
    "\n",
    "\n",
    "c2 = conv3d_block(p1, filters=64, kernel_size=kernel_size, activation_fun = act_fun )\n",
    "c2 = BatchNormalization()(c2)\n",
    "p2 = MaxPooling3D(pool_size=(2, 4, 4), padding='valid')(c2)\n",
    "p2 = Dropout(0.25)(p2)\n",
    "\n",
    "\n",
    "c3 = conv3d_block(p2, filters=128, kernel_size=kernel_size, activation_fun = act_fun )\n",
    "c3 = BatchNormalization()(c3)\n",
    "p3 = MaxPooling3D(pool_size=(1, 2, 2), padding='valid')(c3)\n",
    "p3 = Dropout(0.25)(p3)\n",
    "\n",
    "\n",
    "p3 = Reshape((2048,))(p3)\n",
    "\n",
    "\n",
    "d = Dense(2, activation = 'sigmoid')(p3)\n",
    "\n",
    "\n",
    "\n",
    "model = Model(x , d)\n",
    "model.compile(optimizer=\"Adam\", loss=tf.keras.losses.BinaryCrossentropy())\n",
    "model.summary()"
   ]
  },
  {
   "cell_type": "code",
   "execution_count": 6,
   "id": "entire-testimony",
   "metadata": {},
   "outputs": [
    {
     "name": "stderr",
     "output_type": "stream",
     "text": [
      "/cm/shared/apps/anaconda2/4.3.1/envs/jupyter3.7/lib/python3.7/site-packages/ipykernel_launcher.py:6: H5pyDeprecationWarning: The default file mode will change to 'r' (read-only) in h5py 3.0. To suppress this warning, pass the mode you need to h5py.File(), or set the global default h5.get_config().default_file_mode, or set the environment variable H5PY_DEFAULT_READONLY=1. Available modes are: 'r', 'r+', 'w', 'w-'/'x', 'a'. See the docs for details.\n",
      "  \n"
     ]
    }
   ],
   "source": [
    "class DataGenerator(keras.utils.Sequence):\n",
    "\n",
    "    def __init__(self, Directorio, batch_size = 5):\n",
    "        \n",
    "        self.batch_size = batch_size\n",
    "        self.Directorio = h5py.File(Directorio)\n",
    "\n",
    "    def __len__(self):\n",
    "        \n",
    "        return int((len(self.Directorio)/2) / self.batch_size)\n",
    "\n",
    "    \n",
    "    #Getitem nos devolvera los valores de X e Y para el indice de batch que le pida keras\n",
    "    def __getitem__(self, index):\n",
    "        \n",
    "        #Creamos dos listas vacias en las que se separaran los valores de X e Y de nuestro archivo\n",
    "        array_x = []\n",
    "        array_y = []\n",
    "        \n",
    "        #Numero de ejemplos que tenemos en nuestro dataset, dividimos entre dos por que la longitud total\n",
    "        #viene con el numero de X e Y\n",
    "        self.indexes = np.arange(int(len(self.Directorio)/2))\n",
    "        \n",
    "        #dependiendo del indice de batch, indexes nos dara la posicion de los datos que queremos extraer\n",
    "        indexes = self.indexes[index*self.batch_size:(index+1)*self.batch_size]\n",
    "        \n",
    "        #Recorremos el directorio y extraemos las X con sus frames y las Y con sus estados\n",
    "        for line in self.Directorio:\n",
    "\n",
    "            if line[0] == 'X':\n",
    "                array_x.append(self.Directorio[line])\n",
    "\n",
    "            if line [0] == 'Y':\n",
    "                array_y.append(self.Directorio[line])\n",
    "        \n",
    "        #dos nuevos listas en las que almacenaremos los datos correspondientes a las posiciones que nos pide\n",
    "        #el indice del batch\n",
    "        x = []\n",
    "        y = []\n",
    "        \n",
    "        for i in indexes:\n",
    "            x.append(array_x[i])\n",
    "            y.append(array_y[i])\n",
    "        \n",
    "        #convertimos la lista anterior en un array con shape (batch_size,8,512,512,3)\n",
    "        x_array = np.array(x)\n",
    "        \n",
    "        \n",
    "        #Keras no entiende de strings, por lo que pasamos esos strings a vectores con numeros\n",
    "        RE = [1,0] #vector para estado: reposo\n",
    "        EA = [0,1] #vector para estado: ataque\n",
    "        \n",
    "        #lista donde almacenamos los vectores asociados a su string correspondiente\n",
    "        y_strings = []\n",
    "        \n",
    "        for i in y:\n",
    "\n",
    "            if i.value == 'RE':\n",
    "                y_strings.append(RE)\n",
    "\n",
    "            else:\n",
    "                y_strings.append(EA)\n",
    "                \n",
    "        #convertimos la lista anterior en un array con shape (batch_size,2)\n",
    "        y_array = np.array(y_strings)\n",
    "\n",
    "        X, y = x_array,y_array\n",
    "\n",
    "        return X,y\n",
    "\n",
    "batch_size = 150\n",
    "\n",
    "\n",
    "train_samples = '/mnt/MD1200A/lconcha/videos/128x128_Datasets_corregidos/Datasets_corregidos_training/Combinado_training_corregido'\n",
    "test_samples =  '/mnt/MD1200A/lconcha/videos/128x128_Datasets_corregidos/Datasets_corregidos_training/Combinado_validation_corregido'\n",
    "\n",
    "training_generator   = DataGenerator(train_samples, batch_size )\n",
    "validation_generator = DataGenerator(test_samples,  batch_size )"
   ]
  },
  {
   "cell_type": "code",
   "execution_count": 7,
   "id": "funny-savings",
   "metadata": {},
   "outputs": [
    {
     "name": "stderr",
     "output_type": "stream",
     "text": [
      "/cm/shared/apps/anaconda2/4.3.1/envs/jupyter3.7/lib/python3.7/site-packages/ipykernel_launcher.py:16: H5pyDeprecationWarning: The default file mode will change to 'r' (read-only) in h5py 3.0. To suppress this warning, pass the mode you need to h5py.File(), or set the global default h5.get_config().default_file_mode, or set the environment variable H5PY_DEFAULT_READONLY=1. Available modes are: 'r', 'r+', 'w', 'w-'/'x', 'a'. See the docs for details.\n",
      "  app.launch_new_instance()\n",
      "/cm/shared/apps/anaconda2/4.3.1/envs/jupyter3.7/lib/python3.7/site-packages/ipykernel_launcher.py:21: H5pyDeprecationWarning: The default file mode will change to 'r' (read-only) in h5py 3.0. To suppress this warning, pass the mode you need to h5py.File(), or set the global default h5.get_config().default_file_mode, or set the environment variable H5PY_DEFAULT_READONLY=1. Available modes are: 'r', 'r+', 'w', 'w-'/'x', 'a'. See the docs for details.\n",
      "/cm/shared/apps/anaconda2/4.3.1/envs/jupyter3.7/lib/python3.7/site-packages/ipykernel_launcher.py:58: H5pyDeprecationWarning: dataset.value has been deprecated. Use dataset[()] instead.\n"
     ]
    },
    {
     "name": "stdout",
     "output_type": "stream",
     "text": [
      "Epoch 1/50\n",
      "14/14 [==============================] - 1107s 79s/step - loss: 1.9718 - accuracy: 0.5422 - val_loss: 13.3889 - val_accuracy: 0.4800\n",
      "Epoch 2/50\n",
      "14/14 [==============================] - 1113s 80s/step - loss: 0.7546 - accuracy: 0.6458 - val_loss: 4.0352 - val_accuracy: 0.4883\n",
      "Epoch 3/50\n",
      "14/14 [==============================] - 1109s 79s/step - loss: 0.6975 - accuracy: 0.6681 - val_loss: 3.0434 - val_accuracy: 0.4833\n",
      "Epoch 4/50\n",
      "14/14 [==============================] - 1121s 80s/step - loss: 0.6466 - accuracy: 0.6789 - val_loss: 2.2558 - val_accuracy: 0.5033\n",
      "Epoch 5/50\n",
      "14/14 [==============================] - 1114s 80s/step - loss: 0.6594 - accuracy: 0.6867 - val_loss: 2.5024 - val_accuracy: 0.5067\n",
      "Epoch 6/50\n",
      "14/14 [==============================] - 1124s 80s/step - loss: 0.6354 - accuracy: 0.7016 - val_loss: 1.7819 - val_accuracy: 0.5517\n",
      "Epoch 7/50\n",
      "14/14 [==============================] - 1123s 80s/step - loss: 0.5903 - accuracy: 0.7276 - val_loss: 1.5058 - val_accuracy: 0.5950\n",
      "Epoch 8/50\n",
      "14/14 [==============================] - 1121s 80s/step - loss: 0.5809 - accuracy: 0.7274 - val_loss: 1.0205 - val_accuracy: 0.6300\n",
      "Epoch 9/50\n",
      "14/14 [==============================] - 1124s 80s/step - loss: 0.5746 - accuracy: 0.7404 - val_loss: 0.8675 - val_accuracy: 0.6483\n",
      "Epoch 10/50\n",
      "14/14 [==============================] - 1116s 80s/step - loss: 0.5985 - accuracy: 0.7187 - val_loss: 0.6209 - val_accuracy: 0.6867\n",
      "Epoch 11/50\n",
      "14/14 [==============================] - 1115s 80s/step - loss: 0.5954 - accuracy: 0.7329 - val_loss: 0.6333 - val_accuracy: 0.6633\n",
      "Epoch 12/50\n",
      "14/14 [==============================] - 1125s 80s/step - loss: 0.5752 - accuracy: 0.7331 - val_loss: 0.5418 - val_accuracy: 0.7467\n",
      "Epoch 13/50\n",
      "14/14 [==============================] - 1132s 81s/step - loss: 0.5320 - accuracy: 0.7637 - val_loss: 0.4978 - val_accuracy: 0.7417\n",
      "Epoch 14/50\n",
      "14/14 [==============================] - 1134s 81s/step - loss: 0.5321 - accuracy: 0.7708 - val_loss: 0.4976 - val_accuracy: 0.7483\n",
      "Epoch 15/50\n",
      "14/14 [==============================] - 1126s 81s/step - loss: 0.5500 - accuracy: 0.7484 - val_loss: 0.5854 - val_accuracy: 0.6567\n",
      "Epoch 16/50\n",
      "14/14 [==============================] - 1126s 81s/step - loss: 0.5337 - accuracy: 0.7735 - val_loss: 0.5116 - val_accuracy: 0.7050\n",
      "Epoch 17/50\n",
      "14/14 [==============================] - 1126s 80s/step - loss: 0.5440 - accuracy: 0.7647 - val_loss: 0.5859 - val_accuracy: 0.6150\n",
      "Epoch 18/50\n",
      "14/14 [==============================] - 1129s 81s/step - loss: 0.4905 - accuracy: 0.7823 - val_loss: 0.7649 - val_accuracy: 0.5633\n",
      "Epoch 19/50\n",
      "14/14 [==============================] - 1130s 81s/step - loss: 0.5051 - accuracy: 0.7776 - val_loss: 0.9747 - val_accuracy: 0.5217\n",
      "Epoch 20/50\n",
      "14/14 [==============================] - 1122s 80s/step - loss: 0.4675 - accuracy: 0.8116 - val_loss: 1.1813 - val_accuracy: 0.5200\n",
      "Epoch 21/50\n",
      "14/14 [==============================] - 1133s 81s/step - loss: 0.4851 - accuracy: 0.7805 - val_loss: 1.2999 - val_accuracy: 0.5200\n",
      "Epoch 22/50\n",
      "14/14 [==============================] - 1136s 81s/step - loss: 0.4927 - accuracy: 0.7868 - val_loss: 1.2449 - val_accuracy: 0.5217\n",
      "Epoch 23/50\n",
      "14/14 [==============================] - 1134s 81s/step - loss: 0.4735 - accuracy: 0.7928 - val_loss: 1.3253 - val_accuracy: 0.5200\n",
      "Epoch 24/50\n",
      "14/14 [==============================] - 1129s 81s/step - loss: 0.4599 - accuracy: 0.7871 - val_loss: 1.2930 - val_accuracy: 0.5200\n",
      "Epoch 25/50\n",
      "14/14 [==============================] - 1120s 80s/step - loss: 0.4171 - accuracy: 0.8058 - val_loss: 1.2079 - val_accuracy: 0.5250\n",
      "Epoch 26/50\n",
      "14/14 [==============================] - 1129s 81s/step - loss: 0.4528 - accuracy: 0.7965 - val_loss: 0.9383 - val_accuracy: 0.5483\n",
      "Epoch 27/50\n",
      "14/14 [==============================] - 1134s 81s/step - loss: 0.4176 - accuracy: 0.8185 - val_loss: 0.5504 - val_accuracy: 0.7033\n",
      "Epoch 28/50\n",
      "14/14 [==============================] - 1123s 80s/step - loss: 0.4246 - accuracy: 0.8054 - val_loss: 1.5373 - val_accuracy: 0.5850\n",
      "Epoch 29/50\n",
      "14/14 [==============================] - 1126s 81s/step - loss: 0.4145 - accuracy: 0.8283 - val_loss: 1.5536 - val_accuracy: 0.5800\n",
      "Epoch 30/50\n",
      "14/14 [==============================] - 1130s 81s/step - loss: 0.4016 - accuracy: 0.8321 - val_loss: 0.4934 - val_accuracy: 0.7517\n",
      "Epoch 31/50\n",
      "14/14 [==============================] - 1131s 81s/step - loss: 0.3840 - accuracy: 0.8418 - val_loss: 0.4652 - val_accuracy: 0.8017\n",
      "Epoch 32/50\n",
      "14/14 [==============================] - 1134s 81s/step - loss: 0.3866 - accuracy: 0.8375 - val_loss: 0.7287 - val_accuracy: 0.6350\n",
      "Epoch 33/50\n",
      "14/14 [==============================] - 1215s 87s/step - loss: 0.3644 - accuracy: 0.8497 - val_loss: 0.4682 - val_accuracy: 0.7600\n",
      "Epoch 34/50\n",
      "14/14 [==============================] - 1295s 93s/step - loss: 0.3722 - accuracy: 0.8389 - val_loss: 0.5183 - val_accuracy: 0.8033\n",
      "Epoch 35/50\n",
      "14/14 [==============================] - 1320s 94s/step - loss: 0.3895 - accuracy: 0.8249 - val_loss: 2.5864 - val_accuracy: 0.5483\n",
      "Epoch 36/50\n",
      "14/14 [==============================] - 1310s 93s/step - loss: 0.3916 - accuracy: 0.8319 - val_loss: 1.3353 - val_accuracy: 0.6283\n",
      "Epoch 37/50\n",
      "14/14 [==============================] - 1320s 94s/step - loss: 0.3744 - accuracy: 0.8453 - val_loss: 0.3628 - val_accuracy: 0.8567\n",
      "Epoch 38/50\n",
      "14/14 [==============================] - 1297s 93s/step - loss: 0.3680 - accuracy: 0.8325 - val_loss: 0.7449 - val_accuracy: 0.7133\n",
      "Epoch 39/50\n",
      "14/14 [==============================] - 1330s 95s/step - loss: 0.3638 - accuracy: 0.8308 - val_loss: 1.0083 - val_accuracy: 0.7000\n",
      "Epoch 40/50\n",
      "14/14 [==============================] - 1227s 88s/step - loss: 0.3483 - accuracy: 0.8510 - val_loss: 4.1933 - val_accuracy: 0.4800\n",
      "Epoch 41/50\n",
      "14/14 [==============================] - 1216s 87s/step - loss: 0.3688 - accuracy: 0.8438 - val_loss: 4.0338 - val_accuracy: 0.4933\n",
      "Epoch 42/50\n",
      "14/14 [==============================] - 1211s 87s/step - loss: 0.3612 - accuracy: 0.8442 - val_loss: 4.0078 - val_accuracy: 0.4800\n",
      "Epoch 43/50\n",
      "14/14 [==============================] - 1205s 86s/step - loss: 0.3519 - accuracy: 0.8577 - val_loss: 1.2331 - val_accuracy: 0.6717\n",
      "Epoch 44/50\n",
      "14/14 [==============================] - 1191s 85s/step - loss: 0.3813 - accuracy: 0.8291 - val_loss: 0.7053 - val_accuracy: 0.7400\n",
      "Epoch 45/50\n",
      "14/14 [==============================] - 1195s 85s/step - loss: 0.3472 - accuracy: 0.8520 - val_loss: 0.4139 - val_accuracy: 0.8250\n",
      "Epoch 46/50\n",
      "14/14 [==============================] - 1178s 84s/step - loss: 0.3359 - accuracy: 0.8589 - val_loss: 0.8276 - val_accuracy: 0.7217\n",
      "Epoch 47/50\n",
      "14/14 [==============================] - 1166s 84s/step - loss: 0.3204 - accuracy: 0.8576 - val_loss: 0.6253 - val_accuracy: 0.7617\n",
      "Epoch 48/50\n",
      "14/14 [==============================] - 1198s 86s/step - loss: 0.3450 - accuracy: 0.8478 - val_loss: 0.3823 - val_accuracy: 0.8333\n",
      "Epoch 49/50\n",
      "14/14 [==============================] - 1190s 85s/step - loss: 0.3007 - accuracy: 0.8861 - val_loss: 0.5480 - val_accuracy: 0.7750\n",
      "Epoch 50/50\n",
      "14/14 [==============================] - 1212s 87s/step - loss: 0.2967 - accuracy: 0.8838 - val_loss: 0.6764 - val_accuracy: 0.7433\n"
     ]
    }
   ],
   "source": [
    "model.compile(optimizer=\"Adam\", loss=tf.keras.losses.BinaryCrossentropy(), metrics=['accuracy'])\n",
    "\n",
    "\n",
    "'''#####CHECK POINTS\n",
    "checkpoint_path = \"/mnt/MD1200A/lconcha/videos/Modelos/DropOut_05_025_025/Group32frames/training/cp-{epoch:04d}.ckpt\"\n",
    "checkpoint_dir = os.path.dirname(checkpoint_path)\n",
    "\n",
    "# Create a callback that saves the model's weights\n",
    "cp_callback = tf.keras.callbacks.ModelCheckpoint(filepath=checkpoint_path,\n",
    "                                                 save_weights_only=True,\n",
    "                                                 save_freq=10*batch_size,\n",
    "                                                 verbose=1)'''\n",
    "\n",
    "\n",
    "history = model.fit_generator(generator=training_generator,\n",
    "                    steps_per_epoch= int((len(h5py.File(train_samples))/2))// batch_size,\n",
    "                    epochs=50,\n",
    "                    #callbacks=[cp_callback],\n",
    "                    verbose=True,\n",
    "                    validation_data=validation_generator,\n",
    "                    validation_steps=int((len(h5py.File(test_samples))/2))// batch_size,\n",
    "                    use_multiprocessing=False,\n",
    "                    workers=0,\n",
    "                    max_queue_size=5)"
   ]
  },
  {
   "cell_type": "code",
   "execution_count": 8,
   "id": "south-treaty",
   "metadata": {},
   "outputs": [
    {
     "name": "stdout",
     "output_type": "stream",
     "text": [
      "Saved model to disk\n"
     ]
    }
   ],
   "source": [
    "from keras.models import model_from_json\n",
    "\n",
    "dirmodel = '/mnt/MD1200A/lconcha/videos/Modelos/dropout_05025025_blackwhite_corregidos/'\n",
    "\n",
    "# Guardar configuración JSON en el disco\n",
    "model_json = model.to_json()\n",
    "with open(dirmodel + \"dropout_05025025_blackwhite_corregidos.json\", \"w\") as json_file:\n",
    "    json_file.write(model_json)\n",
    "# Guardar pesos en el disco\n",
    "model.save_weights(dirmodel + \"dropout_05025025_blackwhite_corregidos.h5\")\n",
    "print(\"Saved model to disk\")"
   ]
  },
  {
   "cell_type": "code",
   "execution_count": 10,
   "id": "willing-economics",
   "metadata": {},
   "outputs": [
    {
     "name": "stderr",
     "output_type": "stream",
     "text": [
      "/cm/shared/apps/anaconda2/4.3.1/envs/jupyter3.7/lib/python3.7/site-packages/ipykernel_launcher.py:6: H5pyDeprecationWarning: The default file mode will change to 'r' (read-only) in h5py 3.0. To suppress this warning, pass the mode you need to h5py.File(), or set the global default h5.get_config().default_file_mode, or set the environment variable H5PY_DEFAULT_READONLY=1. Available modes are: 'r', 'r+', 'w', 'w-'/'x', 'a'. See the docs for details.\n",
      "  \n",
      "/cm/shared/apps/anaconda2/4.3.1/envs/jupyter3.7/lib/python3.7/site-packages/ipykernel_launcher.py:58: H5pyDeprecationWarning: dataset.value has been deprecated. Use dataset[()] instead.\n"
     ]
    },
    {
     "name": "stdout",
     "output_type": "stream",
     "text": [
      "(712, 8, 128, 128)\n"
     ]
    }
   ],
   "source": [
    "test_samples = '/mnt/MD1200A/lconcha/videos/128x128_Datasets_corregidos/Datasets_corregidos_training/Combinado_test_corregido'\n",
    "\n",
    "#con esto vemos el numero de ejemplos que hay en el dataset de test\n",
    "f = h5py.File(test_samples, 'r')\n",
    "a_group_key = list(f.keys())\n",
    "X_test = int(len(a_group_key)/2)\n",
    "\n",
    "\n",
    "batch_size = X_test\n",
    "\n",
    "test_generator = DataGenerator(test_samples, batch_size )\n",
    "\n",
    "test_generator.batch_size = X_test\n",
    "X, Y = test_generator.__getitem__(np.random.randint(0,1))\n",
    "prediction = model.predict(X)\n",
    "\n",
    "array_prediction = np.argmax(prediction, axis=1)\n",
    "array_Y = np.argmax(Y, axis=1)\n",
    "\n",
    "print(X.shape)"
   ]
  },
  {
   "cell_type": "code",
   "execution_count": 11,
   "id": "pursuant-departure",
   "metadata": {},
   "outputs": [],
   "source": [
    "from sklearn.metrics import confusion_matrix\n",
    "import pandas as pd\n",
    "import seaborn as sns"
   ]
  },
  {
   "cell_type": "code",
   "execution_count": 12,
   "id": "excess-senegal",
   "metadata": {},
   "outputs": [
    {
     "name": "stdout",
     "output_type": "stream",
     "text": [
      "[[165 188]\n",
      " [  3 356]]\n",
      "     RE   EA\n",
      "RE  165  188\n",
      "EA    3  356\n"
     ]
    },
    {
     "data": {
      "image/png": "[encoded data removed]",
      "text/plain": [
       "<Figure size 432x288 with 2 Axes>"
      ]
     },
     "metadata": {
      "needs_background": "light"
     },
     "output_type": "display_data"
    }
   ],
   "source": [
    "confm = confusion_matrix(array_Y,array_prediction)\n",
    "print(confm)\n",
    "\n",
    "columnas = ['RE','EA']\n",
    "df_cm = pd.DataFrame(confm, index=columnas, columns=columnas)\n",
    "\n",
    "print(df_cm)\n",
    "\n",
    "grafica = sns.heatmap(df_cm, cmap='Blues', annot=True, fmt=\"d\")\n",
    "\n",
    "\n",
    "plt.ylabel('Valores verdaderos')\n",
    "plt.xlabel('Predicciones')\n",
    "grafica.set(xlabel='Verdadero',ylabel='Predicción')\n",
    "plt.show\n",
    "plt.savefig('/mnt/MD1200A/lconcha/videos/Modelos/dropout_05025025_blackwhite_corregidos/confm_dropout05025025_blackwhite_corregidos.png', dpi = 500)"
   ]
  },
  {
   "cell_type": "code",
   "execution_count": 13,
   "id": "affected-lewis",
   "metadata": {},
   "outputs": [
    {
     "name": "stdout",
     "output_type": "stream",
     "text": [
      "[[0.16272189 0.18540434]\n",
      " [0.00295858 0.35108481]]\n",
      "          RE        EA\n",
      "RE  0.162722  0.185404\n",
      "EA  0.002959  0.351085\n"
     ]
    },
    {
     "data": {
      "image/png": "[encoded data removed]",
      "text/plain": [
       "<Figure size 432x288 with 2 Axes>"
      ]
     },
     "metadata": {
      "needs_background": "light"
     },
     "output_type": "display_data"
    }
   ],
   "source": [
    "confm = confusion_matrix(array_Y,array_prediction)\n",
    "confm = confm/1014\n",
    "print(confm)\n",
    "\n",
    "columnas = ['RE','EA']\n",
    "df_cm = pd.DataFrame(confm, index=columnas, columns=columnas)\n",
    "\n",
    "print(df_cm)\n",
    "\n",
    "grafica = sns.heatmap(df_cm, cmap='Blues', annot=True)\n",
    "\n",
    "\n",
    "plt.ylabel('Valores verdaderos')\n",
    "plt.xlabel('Predicciones')\n",
    "grafica.set(xlabel='Verdadero',ylabel='Predicción')\n",
    "plt.show\n",
    "plt.savefig('/mnt/MD1200A/lconcha/videos/Modelos/dropout_05025025_blackwhite_corregidos/percent_confm_dropout05025025_blackwhite_corregidos.png', dpi = 500)"
   ]
  },
  {
   "cell_type": "code",
   "execution_count": 14,
   "id": "fallen-concern",
   "metadata": {},
   "outputs": [
    {
     "data": {
      "image/png": "[encoded data removed]",
      "text/plain": [
       "<Figure size 432x288 with 1 Axes>"
      ]
     },
     "metadata": {
      "needs_background": "light"
     },
     "output_type": "display_data"
    }
   ],
   "source": [
    "plt.plot(history.history['loss'], label='loss')\n",
    "plt.plot(history.history['val_loss'], label = 'val_loss')\n",
    "plt.xlabel('Epoch')\n",
    "plt.ylabel('loss')\n",
    "plt.legend(loc='upper right')\n",
    "plt.savefig('/mnt/MD1200A/lconcha/videos/Modelos/dropout_05025025_blackwhite_corregidos/loss_dropout05025025_blackwhite_corregidos.png', dpi = 500)"
   ]
  },
  {
   "cell_type": "code",
   "execution_count": 15,
   "id": "functioning-clearance",
   "metadata": {},
   "outputs": [
    {
     "data": {
      "image/png": "[encoded data removed]",
      "text/plain": [
       "<Figure size 432x288 with 1 Axes>"
      ]
     },
     "metadata": {
      "needs_background": "light"
     },
     "output_type": "display_data"
    }
   ],
   "source": [
    "plt.plot(history.history['accuracy'], label='accuracy')\n",
    "plt.plot(history.history['val_accuracy'], label = 'val_accuracy')\n",
    "plt.xlabel('Epoch')\n",
    "plt.ylabel('Accuracy')\n",
    "plt.ylim([0.5, 1])\n",
    "plt.legend(loc='lower right')\n",
    "plt.savefig('/mnt/MD1200A/lconcha/videos/Modelos/dropout_05025025_blackwhite_corregidos/accuary_dropout05025025_blackwhite_corregidos.png', dpi = 500)"
   ]
  },
  {
   "cell_type": "code",
   "execution_count": null,
   "id": "decent-cloud",
   "metadata": {},
   "outputs": [],
   "source": []
  }
 ],
 "metadata": {
  "kernelspec": {
   "display_name": "Python 3",
   "language": "python",
   "name": "python3"
  },
  "language_info": {
   "codemirror_mode": {
    "name": "ipython",
    "version": 3
   },
   "file_extension": ".py",
   "mimetype": "text/x-python",
   "name": "python",
   "nbconvert_exporter": "python",
   "pygments_lexer": "ipython3",
   "version": "3.7.9"
  }
 },
 "nbformat": 4,
 "nbformat_minor": 5
}
