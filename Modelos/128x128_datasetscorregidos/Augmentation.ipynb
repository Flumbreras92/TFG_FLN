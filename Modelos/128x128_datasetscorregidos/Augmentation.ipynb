{
 "cells": [
  {
   "cell_type": "code",
   "execution_count": 1,
   "id": "parallel-setting",
   "metadata": {},
   "outputs": [],
   "source": [
    "import numpy as np\n",
    "import h5py\n",
    "\n",
    "import tensorflow as tf\n",
    "import keras\n",
    "from keras.models import Sequential\n",
    "from keras.models import Model\n",
    "from keras.callbacks import EarlyStopping, ModelCheckpoint\n",
    "from keras.optimizers import Adam\n",
    "from keras.layers import Input, Flatten, Dense, Dropout,  Activation, Conv3D, MaxPooling3D, UpSampling3D, BatchNormalization, Activation, Reshape\n",
    "from keras.layers import Conv2D, MaxPooling2D\n",
    "#from keras.utils import multi_gpu_model\n",
    "\n",
    "from keras.optimizers import SGD\n",
    "from keras.layers.merge import concatenate, add\n",
    "\n",
    "#from keras.utils.io_utils import HDF5Matrix\n",
    "from keras.utils import plot_model\n",
    "from keras import optimizers\n",
    "\n",
    "import os\n",
    "import numpy as np\n",
    "from os import listdir\n",
    "from os.path import isfile, join\n",
    "import matplotlib.pyplot as plt\n",
    "from random import shuffle\n",
    "from keras.callbacks import CSVLogger"
   ]
  },
  {
   "cell_type": "code",
   "execution_count": 2,
   "id": "prescribed-dinner",
   "metadata": {},
   "outputs": [
    {
     "name": "stdout",
     "output_type": "stream",
     "text": [
      "Model: \"model\"\n",
      "_________________________________________________________________\n",
      "Layer (type)                 Output Shape              Param #   \n",
      "=================================================================\n",
      "input_1 (InputLayer)         [(None, 8, 128, 128, 3)]  0         \n",
      "_________________________________________________________________\n",
      "conv3d (Conv3D)              (None, 8, 128, 128, 32)   12032     \n",
      "_________________________________________________________________\n",
      "batch_normalization (BatchNo (None, 8, 128, 128, 32)   128       \n",
      "_________________________________________________________________\n",
      "activation (Activation)      (None, 8, 128, 128, 32)   0         \n",
      "_________________________________________________________________\n",
      "batch_normalization_1 (Batch (None, 8, 128, 128, 32)   128       \n",
      "_________________________________________________________________\n",
      "max_pooling3d (MaxPooling3D) (None, 2, 32, 32, 32)     0         \n",
      "_________________________________________________________________\n",
      "conv3d_1 (Conv3D)            (None, 2, 32, 32, 64)     256064    \n",
      "_________________________________________________________________\n",
      "batch_normalization_2 (Batch (None, 2, 32, 32, 64)     256       \n",
      "_________________________________________________________________\n",
      "activation_1 (Activation)    (None, 2, 32, 32, 64)     0         \n",
      "_________________________________________________________________\n",
      "batch_normalization_3 (Batch (None, 2, 32, 32, 64)     256       \n",
      "_________________________________________________________________\n",
      "max_pooling3d_1 (MaxPooling3 (None, 1, 8, 8, 64)       0         \n",
      "_________________________________________________________________\n",
      "conv3d_2 (Conv3D)            (None, 1, 8, 8, 128)      1024128   \n",
      "_________________________________________________________________\n",
      "batch_normalization_4 (Batch (None, 1, 8, 8, 128)      512       \n",
      "_________________________________________________________________\n",
      "activation_2 (Activation)    (None, 1, 8, 8, 128)      0         \n",
      "_________________________________________________________________\n",
      "batch_normalization_5 (Batch (None, 1, 8, 8, 128)      512       \n",
      "_________________________________________________________________\n",
      "max_pooling3d_2 (MaxPooling3 (None, 1, 4, 4, 128)      0         \n",
      "_________________________________________________________________\n",
      "reshape (Reshape)            (None, 2048)              0         \n",
      "_________________________________________________________________\n",
      "dense (Dense)                (None, 2)                 4098      \n",
      "=================================================================\n",
      "Total params: 1,298,114\n",
      "Trainable params: 1,297,218\n",
      "Non-trainable params: 896\n",
      "_________________________________________________________________\n"
     ]
    }
   ],
   "source": [
    "def conv3d_block(input_tensor, filters, kernel_size, activation_fun = \"linear\"):\n",
    "    # first layer\n",
    "    x = Conv3D(filters=filters, kernel_size=kernel_size, kernel_initializer=\"he_normal\", padding=\"same\")(input_tensor)\n",
    "    x = BatchNormalization()(x)\n",
    "    x = Activation(activation_fun)(x)\n",
    "\n",
    "    return x\n",
    "\n",
    "kernel_size = (5,5,5)\n",
    "act_fun = \"relu\"\n",
    "\n",
    "############### DEFINE SET OF INPUTS #################\n",
    "\n",
    "x = Input(shape=(8, 128, 128,3)) \n",
    "\n",
    "\n",
    "############## DEFINE PATH FOR INPUT 1 ##################\n",
    "\n",
    "\n",
    "c1 = conv3d_block (x, filters=32, kernel_size=kernel_size, activation_fun = act_fun )\n",
    "c1 = BatchNormalization()(c1)\n",
    "p1 = MaxPooling3D (pool_size=(4, 4, 4), padding='valid')(c1)\n",
    "#p1 = Dropout(0.75)(p1)\n",
    "\n",
    "\n",
    "c2 = conv3d_block(p1, filters=64, kernel_size=kernel_size, activation_fun = act_fun )\n",
    "c2 = BatchNormalization()(c2)\n",
    "p2 = MaxPooling3D(pool_size=(2, 4, 4), padding='valid')(c2)\n",
    "#p2 = Dropout(0.50)(p2)\n",
    "\n",
    "\n",
    "c3 = conv3d_block(p2, filters=128, kernel_size=kernel_size, activation_fun = act_fun )\n",
    "c3 = BatchNormalization()(c3)\n",
    "p3 = MaxPooling3D(pool_size=(1, 2, 2), padding='valid')(c3)\n",
    "#p3 = Dropout(0.25)(p3)\n",
    "\n",
    "\n",
    "p3 = Reshape((2048,))(p3)\n",
    "\n",
    "\n",
    "d = Dense(2, activation = 'sigmoid')(p3)\n",
    "\n",
    "\n",
    "\n",
    "model = Model(x , d)\n",
    "model.compile(optimizer=\"Adam\", loss=tf.keras.losses.BinaryCrossentropy())\n",
    "model.summary()"
   ]
  },
  {
   "cell_type": "code",
   "execution_count": 3,
   "id": "baking-effect",
   "metadata": {},
   "outputs": [
    {
     "name": "stderr",
     "output_type": "stream",
     "text": [
      "/cm/shared/apps/anaconda2/4.3.1/envs/jupyter3.7/lib/python3.7/site-packages/ipykernel_launcher.py:6: H5pyDeprecationWarning: The default file mode will change to 'r' (read-only) in h5py 3.0. To suppress this warning, pass the mode you need to h5py.File(), or set the global default h5.get_config().default_file_mode, or set the environment variable H5PY_DEFAULT_READONLY=1. Available modes are: 'r', 'r+', 'w', 'w-'/'x', 'a'. See the docs for details.\n",
      "  \n"
     ]
    }
   ],
   "source": [
    "class DataGenerator(keras.utils.Sequence):\n",
    "\n",
    "    def __init__(self, Directorio, batch_size = 5):\n",
    "        \n",
    "        self.batch_size = batch_size\n",
    "        self.Directorio = h5py.File(Directorio)\n",
    "\n",
    "    def __len__(self):\n",
    "        \n",
    "        return int((len(self.Directorio)/2) / self.batch_size)\n",
    "\n",
    "    \n",
    "    #Getitem nos devolvera los valores de X e Y para el indice de batch que le pida keras\n",
    "    def __getitem__(self, index):\n",
    "        \n",
    "        #Creamos dos listas vacias en las que se separaran los valores de X e Y de nuestro archivo\n",
    "        array_x = []\n",
    "        array_y = []\n",
    "        \n",
    "        #Numero de ejemplos que tenemos en nuestro dataset, dividimos entre dos por que la longitud total\n",
    "        #viene con el numero de X e Y\n",
    "        self.indexes = np.arange(int(len(self.Directorio)/2))\n",
    "        \n",
    "        #dependiendo del indice de batch, indexes nos dara la posicion de los datos que queremos extraer\n",
    "        indexes = self.indexes[index*self.batch_size:(index+1)*self.batch_size]\n",
    "        \n",
    "        #Recorremos el directorio y extraemos las X con sus frames y las Y con sus estados\n",
    "        for line in self.Directorio:\n",
    "\n",
    "            if line[0] == 'X':\n",
    "                array_x.append(self.Directorio[line])\n",
    "\n",
    "            if line [0] == 'Y':\n",
    "                array_y.append(self.Directorio[line])\n",
    "        \n",
    "        #dos nuevos listas en las que almacenaremos los datos correspondientes a las posiciones que nos pide\n",
    "        #el indice del batch\n",
    "        x = []\n",
    "        y = []\n",
    "        \n",
    "        for i in indexes:\n",
    "            x.append(array_x[i])\n",
    "            y.append(array_y[i])\n",
    "        \n",
    "        #convertimos la lista anterior en un array con shape (batch_size,8,512,512,3)\n",
    "        x_array = np.array(x)\n",
    "        \n",
    "        \n",
    "        #Keras no entiende de strings, por lo que pasamos esos strings a vectores con numeros\n",
    "        RE = [1,0] #vector para estado: reposo\n",
    "        EA = [0,1] #vector para estado: ataque\n",
    "        \n",
    "        #lista donde almacenamos los vectores asociados a su string correspondiente\n",
    "        y_strings = []\n",
    "        \n",
    "        for i in y:\n",
    "\n",
    "            if i.value == 'RE':\n",
    "                y_strings.append(RE)\n",
    "\n",
    "            else:\n",
    "                y_strings.append(EA)\n",
    "                \n",
    "        #convertimos la lista anterior en un array con shape (batch_size,2)\n",
    "        y_array = np.array(y_strings)\n",
    "\n",
    "        X, y = x_array,y_array\n",
    "\n",
    "        return X,y\n",
    "\n",
    "batch_size = 150\n",
    "\n",
    "\n",
    "train_samples = '/mnt/MD1200A/lconcha/videos/128x128_Datasets_corregidos/Datasets_corregidos_training/Combinado_training_corregido_augmentation'\n",
    "test_samples =  '/mnt/MD1200A/lconcha/videos/128x128_Datasets_corregidos/Datasets_corregidos_training/Combinado_validation_corregido_augmentation'\n",
    "\n",
    "training_generator   = DataGenerator(train_samples, batch_size )\n",
    "validation_generator = DataGenerator(test_samples,  batch_size )"
   ]
  },
  {
   "cell_type": "code",
   "execution_count": 5,
   "id": "secure-necessity",
   "metadata": {},
   "outputs": [
    {
     "name": "stderr",
     "output_type": "stream",
     "text": [
      "/cm/shared/apps/anaconda2/4.3.1/envs/jupyter3.7/lib/python3.7/site-packages/ipykernel_launcher.py:16: H5pyDeprecationWarning: The default file mode will change to 'r' (read-only) in h5py 3.0. To suppress this warning, pass the mode you need to h5py.File(), or set the global default h5.get_config().default_file_mode, or set the environment variable H5PY_DEFAULT_READONLY=1. Available modes are: 'r', 'r+', 'w', 'w-'/'x', 'a'. See the docs for details.\n",
      "  app.launch_new_instance()\n",
      "/cm/shared/apps/anaconda2/4.3.1/envs/jupyter3.7/lib/python3.7/site-packages/ipykernel_launcher.py:21: H5pyDeprecationWarning: The default file mode will change to 'r' (read-only) in h5py 3.0. To suppress this warning, pass the mode you need to h5py.File(), or set the global default h5.get_config().default_file_mode, or set the environment variable H5PY_DEFAULT_READONLY=1. Available modes are: 'r', 'r+', 'w', 'w-'/'x', 'a'. See the docs for details.\n",
      "/cm/shared/apps/anaconda2/4.3.1/envs/jupyter3.7/lib/python3.7/site-packages/tensorflow/python/keras/engine/training.py:1844: UserWarning: `Model.fit_generator` is deprecated and will be removed in a future version. Please use `Model.fit`, which supports generators.\n",
      "  warnings.warn('`Model.fit_generator` is deprecated and '\n",
      "/cm/shared/apps/anaconda2/4.3.1/envs/jupyter3.7/lib/python3.7/site-packages/ipykernel_launcher.py:58: H5pyDeprecationWarning: dataset.value has been deprecated. Use dataset[()] instead.\n"
     ]
    },
    {
     "name": "stdout",
     "output_type": "stream",
     "text": [
      "Epoch 1/50\n",
      "128/128 [==============================] - 10442s 82s/step - loss: 0.3829 - accuracy: 0.8753 - val_loss: 0.3081 - val_accuracy: 0.8884\n",
      "Epoch 2/50\n",
      "128/128 [==============================] - 10474s 82s/step - loss: 0.1626 - accuracy: 0.9403 - val_loss: 0.2120 - val_accuracy: 0.9305\n",
      "Epoch 3/50\n",
      "128/128 [==============================] - 10907s 85s/step - loss: 0.1418 - accuracy: 0.9469 - val_loss: 0.5428 - val_accuracy: 0.7490\n",
      "Epoch 4/50\n",
      "128/128 [==============================] - 10531s 82s/step - loss: 0.1362 - accuracy: 0.9451 - val_loss: 0.1926 - val_accuracy: 0.9292\n",
      "Epoch 5/50\n",
      "128/128 [==============================] - 10512s 82s/step - loss: 0.1254 - accuracy: 0.9529 - val_loss: 0.1315 - val_accuracy: 0.9476\n",
      "Epoch 6/50\n",
      "128/128 [==============================] - 11683s 91s/step - loss: 0.1154 - accuracy: 0.9560 - val_loss: 0.1170 - val_accuracy: 0.9575\n",
      "Epoch 7/50\n",
      "128/128 [==============================] - 11955s 93s/step - loss: 0.1084 - accuracy: 0.9577 - val_loss: 0.1071 - val_accuracy: 0.9606\n",
      "Epoch 8/50\n",
      "128/128 [==============================] - 11983s 94s/step - loss: 0.1035 - accuracy: 0.9597 - val_loss: 0.1799 - val_accuracy: 0.9479\n",
      "Epoch 9/50\n",
      "128/128 [==============================] - 12006s 94s/step - loss: 0.0982 - accuracy: 0.9605 - val_loss: 1.8806 - val_accuracy: 0.5925\n",
      "Epoch 10/50\n",
      "128/128 [==============================] - 11893s 93s/step - loss: 0.0981 - accuracy: 0.9625 - val_loss: 0.1556 - val_accuracy: 0.9252\n",
      "Epoch 11/50\n",
      "128/128 [==============================] - 11900s 93s/step - loss: 0.0858 - accuracy: 0.9669 - val_loss: 0.1151 - val_accuracy: 0.9616\n",
      "Epoch 12/50\n",
      "  1/128 [..............................] - ETA: 3:16:30 - loss: 0.1014 - accuracy: 0.9667"
     ]
    },
    {
     "ename": "KeyboardInterrupt",
     "evalue": "",
     "output_type": "error",
     "traceback": [
      "\u001b[0;31m---------------------------------------------------------------------------\u001b[0m",
      "\u001b[0;31mKeyboardInterrupt\u001b[0m                         Traceback (most recent call last)",
      "\u001b[0;32m<ipython-input-5-9aba72acfde9>\u001b[0m in \u001b[0;36m<module>\u001b[0;34m\u001b[0m\n\u001b[1;32m     22\u001b[0m                     \u001b[0muse_multiprocessing\u001b[0m\u001b[0;34m=\u001b[0m\u001b[0;32mFalse\u001b[0m\u001b[0;34m,\u001b[0m\u001b[0;34m\u001b[0m\u001b[0;34m\u001b[0m\u001b[0m\n\u001b[1;32m     23\u001b[0m                     \u001b[0mworkers\u001b[0m\u001b[0;34m=\u001b[0m\u001b[0;36m0\u001b[0m\u001b[0;34m,\u001b[0m\u001b[0;34m\u001b[0m\u001b[0;34m\u001b[0m\u001b[0m\n\u001b[0;32m---> 24\u001b[0;31m                     max_queue_size=5)\n\u001b[0m",
      "\u001b[0;32m/cm/shared/apps/anaconda2/4.3.1/envs/jupyter3.7/lib/python3.7/site-packages/tensorflow/python/keras/engine/training.py\u001b[0m in \u001b[0;36mfit_generator\u001b[0;34m(self, generator, steps_per_epoch, epochs, verbose, callbacks, validation_data, validation_steps, validation_freq, class_weight, max_queue_size, workers, use_multiprocessing, shuffle, initial_epoch)\u001b[0m\n\u001b[1;32m   1859\u001b[0m         \u001b[0muse_multiprocessing\u001b[0m\u001b[0;34m=\u001b[0m\u001b[0muse_multiprocessing\u001b[0m\u001b[0;34m,\u001b[0m\u001b[0;34m\u001b[0m\u001b[0;34m\u001b[0m\u001b[0m\n\u001b[1;32m   1860\u001b[0m         \u001b[0mshuffle\u001b[0m\u001b[0;34m=\u001b[0m\u001b[0mshuffle\u001b[0m\u001b[0;34m,\u001b[0m\u001b[0;34m\u001b[0m\u001b[0;34m\u001b[0m\u001b[0m\n\u001b[0;32m-> 1861\u001b[0;31m         initial_epoch=initial_epoch)\n\u001b[0m\u001b[1;32m   1862\u001b[0m \u001b[0;34m\u001b[0m\u001b[0m\n\u001b[1;32m   1863\u001b[0m   def evaluate_generator(self,\n",
      "\u001b[0;32m/cm/shared/apps/anaconda2/4.3.1/envs/jupyter3.7/lib/python3.7/site-packages/tensorflow/python/keras/engine/training.py\u001b[0m in \u001b[0;36mfit\u001b[0;34m(self, x, y, batch_size, epochs, verbose, callbacks, validation_split, validation_data, shuffle, class_weight, sample_weight, initial_epoch, steps_per_epoch, validation_steps, validation_batch_size, validation_freq, max_queue_size, workers, use_multiprocessing)\u001b[0m\n\u001b[1;32m   1098\u001b[0m                 _r=1):\n\u001b[1;32m   1099\u001b[0m               \u001b[0mcallbacks\u001b[0m\u001b[0;34m.\u001b[0m\u001b[0mon_train_batch_begin\u001b[0m\u001b[0;34m(\u001b[0m\u001b[0mstep\u001b[0m\u001b[0;34m)\u001b[0m\u001b[0;34m\u001b[0m\u001b[0;34m\u001b[0m\u001b[0m\n\u001b[0;32m-> 1100\u001b[0;31m               \u001b[0mtmp_logs\u001b[0m \u001b[0;34m=\u001b[0m \u001b[0mself\u001b[0m\u001b[0;34m.\u001b[0m\u001b[0mtrain_function\u001b[0m\u001b[0;34m(\u001b[0m\u001b[0miterator\u001b[0m\u001b[0;34m)\u001b[0m\u001b[0;34m\u001b[0m\u001b[0;34m\u001b[0m\u001b[0m\n\u001b[0m\u001b[1;32m   1101\u001b[0m               \u001b[0;32mif\u001b[0m \u001b[0mdata_handler\u001b[0m\u001b[0;34m.\u001b[0m\u001b[0mshould_sync\u001b[0m\u001b[0;34m:\u001b[0m\u001b[0;34m\u001b[0m\u001b[0;34m\u001b[0m\u001b[0m\n\u001b[1;32m   1102\u001b[0m                 \u001b[0mcontext\u001b[0m\u001b[0;34m.\u001b[0m\u001b[0masync_wait\u001b[0m\u001b[0;34m(\u001b[0m\u001b[0;34m)\u001b[0m\u001b[0;34m\u001b[0m\u001b[0;34m\u001b[0m\u001b[0m\n",
      "\u001b[0;32m/cm/shared/apps/anaconda2/4.3.1/envs/jupyter3.7/lib/python3.7/site-packages/tensorflow/python/eager/def_function.py\u001b[0m in \u001b[0;36m__call__\u001b[0;34m(self, *args, **kwds)\u001b[0m\n\u001b[1;32m    826\u001b[0m     \u001b[0mtracing_count\u001b[0m \u001b[0;34m=\u001b[0m \u001b[0mself\u001b[0m\u001b[0;34m.\u001b[0m\u001b[0mexperimental_get_tracing_count\u001b[0m\u001b[0;34m(\u001b[0m\u001b[0;34m)\u001b[0m\u001b[0;34m\u001b[0m\u001b[0;34m\u001b[0m\u001b[0m\n\u001b[1;32m    827\u001b[0m     \u001b[0;32mwith\u001b[0m \u001b[0mtrace\u001b[0m\u001b[0;34m.\u001b[0m\u001b[0mTrace\u001b[0m\u001b[0;34m(\u001b[0m\u001b[0mself\u001b[0m\u001b[0;34m.\u001b[0m\u001b[0m_name\u001b[0m\u001b[0;34m)\u001b[0m \u001b[0;32mas\u001b[0m \u001b[0mtm\u001b[0m\u001b[0;34m:\u001b[0m\u001b[0;34m\u001b[0m\u001b[0;34m\u001b[0m\u001b[0m\n\u001b[0;32m--> 828\u001b[0;31m       \u001b[0mresult\u001b[0m \u001b[0;34m=\u001b[0m \u001b[0mself\u001b[0m\u001b[0;34m.\u001b[0m\u001b[0m_call\u001b[0m\u001b[0;34m(\u001b[0m\u001b[0;34m*\u001b[0m\u001b[0margs\u001b[0m\u001b[0;34m,\u001b[0m \u001b[0;34m**\u001b[0m\u001b[0mkwds\u001b[0m\u001b[0;34m)\u001b[0m\u001b[0;34m\u001b[0m\u001b[0;34m\u001b[0m\u001b[0m\n\u001b[0m\u001b[1;32m    829\u001b[0m       \u001b[0mcompiler\u001b[0m \u001b[0;34m=\u001b[0m \u001b[0;34m\"xla\"\u001b[0m \u001b[0;32mif\u001b[0m \u001b[0mself\u001b[0m\u001b[0;34m.\u001b[0m\u001b[0m_experimental_compile\u001b[0m \u001b[0;32melse\u001b[0m \u001b[0;34m\"nonXla\"\u001b[0m\u001b[0;34m\u001b[0m\u001b[0;34m\u001b[0m\u001b[0m\n\u001b[1;32m    830\u001b[0m       \u001b[0mnew_tracing_count\u001b[0m \u001b[0;34m=\u001b[0m \u001b[0mself\u001b[0m\u001b[0;34m.\u001b[0m\u001b[0mexperimental_get_tracing_count\u001b[0m\u001b[0;34m(\u001b[0m\u001b[0;34m)\u001b[0m\u001b[0;34m\u001b[0m\u001b[0;34m\u001b[0m\u001b[0m\n",
      "\u001b[0;32m/cm/shared/apps/anaconda2/4.3.1/envs/jupyter3.7/lib/python3.7/site-packages/tensorflow/python/eager/def_function.py\u001b[0m in \u001b[0;36m_call\u001b[0;34m(self, *args, **kwds)\u001b[0m\n\u001b[1;32m    853\u001b[0m       \u001b[0;31m# In this case we have created variables on the first call, so we run the\u001b[0m\u001b[0;34m\u001b[0m\u001b[0;34m\u001b[0m\u001b[0;34m\u001b[0m\u001b[0m\n\u001b[1;32m    854\u001b[0m       \u001b[0;31m# defunned version which is guaranteed to never create variables.\u001b[0m\u001b[0;34m\u001b[0m\u001b[0;34m\u001b[0m\u001b[0;34m\u001b[0m\u001b[0m\n\u001b[0;32m--> 855\u001b[0;31m       \u001b[0;32mreturn\u001b[0m \u001b[0mself\u001b[0m\u001b[0;34m.\u001b[0m\u001b[0m_stateless_fn\u001b[0m\u001b[0;34m(\u001b[0m\u001b[0;34m*\u001b[0m\u001b[0margs\u001b[0m\u001b[0;34m,\u001b[0m \u001b[0;34m**\u001b[0m\u001b[0mkwds\u001b[0m\u001b[0;34m)\u001b[0m  \u001b[0;31m# pylint: disable=not-callable\u001b[0m\u001b[0;34m\u001b[0m\u001b[0;34m\u001b[0m\u001b[0m\n\u001b[0m\u001b[1;32m    856\u001b[0m     \u001b[0;32melif\u001b[0m \u001b[0mself\u001b[0m\u001b[0;34m.\u001b[0m\u001b[0m_stateful_fn\u001b[0m \u001b[0;32mis\u001b[0m \u001b[0;32mnot\u001b[0m \u001b[0;32mNone\u001b[0m\u001b[0;34m:\u001b[0m\u001b[0;34m\u001b[0m\u001b[0;34m\u001b[0m\u001b[0m\n\u001b[1;32m    857\u001b[0m       \u001b[0;31m# Release the lock early so that multiple threads can perform the call\u001b[0m\u001b[0;34m\u001b[0m\u001b[0;34m\u001b[0m\u001b[0;34m\u001b[0m\u001b[0m\n",
      "\u001b[0;32m/cm/shared/apps/anaconda2/4.3.1/envs/jupyter3.7/lib/python3.7/site-packages/tensorflow/python/eager/function.py\u001b[0m in \u001b[0;36m__call__\u001b[0;34m(self, *args, **kwargs)\u001b[0m\n\u001b[1;32m   2941\u001b[0m        filtered_flat_args) = self._maybe_define_function(args, kwargs)\n\u001b[1;32m   2942\u001b[0m     return graph_function._call_flat(\n\u001b[0;32m-> 2943\u001b[0;31m         filtered_flat_args, captured_inputs=graph_function.captured_inputs)  # pylint: disable=protected-access\n\u001b[0m\u001b[1;32m   2944\u001b[0m \u001b[0;34m\u001b[0m\u001b[0m\n\u001b[1;32m   2945\u001b[0m   \u001b[0;34m@\u001b[0m\u001b[0mproperty\u001b[0m\u001b[0;34m\u001b[0m\u001b[0;34m\u001b[0m\u001b[0m\n",
      "\u001b[0;32m/cm/shared/apps/anaconda2/4.3.1/envs/jupyter3.7/lib/python3.7/site-packages/tensorflow/python/eager/function.py\u001b[0m in \u001b[0;36m_call_flat\u001b[0;34m(self, args, captured_inputs, cancellation_manager)\u001b[0m\n\u001b[1;32m   1917\u001b[0m       \u001b[0;31m# No tape is watching; skip to running the function.\u001b[0m\u001b[0;34m\u001b[0m\u001b[0;34m\u001b[0m\u001b[0;34m\u001b[0m\u001b[0m\n\u001b[1;32m   1918\u001b[0m       return self._build_call_outputs(self._inference_function.call(\n\u001b[0;32m-> 1919\u001b[0;31m           ctx, args, cancellation_manager=cancellation_manager))\n\u001b[0m\u001b[1;32m   1920\u001b[0m     forward_backward = self._select_forward_and_backward_functions(\n\u001b[1;32m   1921\u001b[0m         \u001b[0margs\u001b[0m\u001b[0;34m,\u001b[0m\u001b[0;34m\u001b[0m\u001b[0;34m\u001b[0m\u001b[0m\n",
      "\u001b[0;32m/cm/shared/apps/anaconda2/4.3.1/envs/jupyter3.7/lib/python3.7/site-packages/tensorflow/python/eager/function.py\u001b[0m in \u001b[0;36mcall\u001b[0;34m(self, ctx, args, cancellation_manager)\u001b[0m\n\u001b[1;32m    558\u001b[0m               \u001b[0minputs\u001b[0m\u001b[0;34m=\u001b[0m\u001b[0margs\u001b[0m\u001b[0;34m,\u001b[0m\u001b[0;34m\u001b[0m\u001b[0;34m\u001b[0m\u001b[0m\n\u001b[1;32m    559\u001b[0m               \u001b[0mattrs\u001b[0m\u001b[0;34m=\u001b[0m\u001b[0mattrs\u001b[0m\u001b[0;34m,\u001b[0m\u001b[0;34m\u001b[0m\u001b[0;34m\u001b[0m\u001b[0m\n\u001b[0;32m--> 560\u001b[0;31m               ctx=ctx)\n\u001b[0m\u001b[1;32m    561\u001b[0m         \u001b[0;32melse\u001b[0m\u001b[0;34m:\u001b[0m\u001b[0;34m\u001b[0m\u001b[0;34m\u001b[0m\u001b[0m\n\u001b[1;32m    562\u001b[0m           outputs = execute.execute_with_cancellation(\n",
      "\u001b[0;32m/cm/shared/apps/anaconda2/4.3.1/envs/jupyter3.7/lib/python3.7/site-packages/tensorflow/python/eager/execute.py\u001b[0m in \u001b[0;36mquick_execute\u001b[0;34m(op_name, num_outputs, inputs, attrs, ctx, name)\u001b[0m\n\u001b[1;32m     58\u001b[0m     \u001b[0mctx\u001b[0m\u001b[0;34m.\u001b[0m\u001b[0mensure_initialized\u001b[0m\u001b[0;34m(\u001b[0m\u001b[0;34m)\u001b[0m\u001b[0;34m\u001b[0m\u001b[0;34m\u001b[0m\u001b[0m\n\u001b[1;32m     59\u001b[0m     tensors = pywrap_tfe.TFE_Py_Execute(ctx._handle, device_name, op_name,\n\u001b[0;32m---> 60\u001b[0;31m                                         inputs, attrs, num_outputs)\n\u001b[0m\u001b[1;32m     61\u001b[0m   \u001b[0;32mexcept\u001b[0m \u001b[0mcore\u001b[0m\u001b[0;34m.\u001b[0m\u001b[0m_NotOkStatusException\u001b[0m \u001b[0;32mas\u001b[0m \u001b[0me\u001b[0m\u001b[0;34m:\u001b[0m\u001b[0;34m\u001b[0m\u001b[0;34m\u001b[0m\u001b[0m\n\u001b[1;32m     62\u001b[0m     \u001b[0;32mif\u001b[0m \u001b[0mname\u001b[0m \u001b[0;32mis\u001b[0m \u001b[0;32mnot\u001b[0m \u001b[0;32mNone\u001b[0m\u001b[0;34m:\u001b[0m\u001b[0;34m\u001b[0m\u001b[0;34m\u001b[0m\u001b[0m\n",
      "\u001b[0;31mKeyboardInterrupt\u001b[0m: "
     ]
    }
   ],
   "source": [
    "model.compile(optimizer=\"Adam\", loss=tf.keras.losses.BinaryCrossentropy(), metrics=['accuracy'])\n",
    "\n",
    "\n",
    "'''#####CHECK POINTS\n",
    "checkpoint_path = \"/mnt/MD1200A/lconcha/videos/Modelos/DropOut_05_025_025/Group32frames/training/cp-{epoch:04d}.ckpt\"\n",
    "checkpoint_dir = os.path.dirname(checkpoint_path)\n",
    "\n",
    "# Create a callback that saves the model's weights\n",
    "cp_callback = tf.keras.callbacks.ModelCheckpoint(filepath=checkpoint_path,\n",
    "                                                 save_weights_only=True,\n",
    "                                                 save_freq=10*batch_size,\n",
    "                                                 verbose=1)'''\n",
    "\n",
    "\n",
    "history = model.fit_generator(generator=training_generator,\n",
    "                    steps_per_epoch= int((len(h5py.File(train_samples))/2))// batch_size,\n",
    "                    epochs=50,\n",
    "                    #callbacks=[cp_callback],\n",
    "                    verbose=True,\n",
    "                    validation_data=validation_generator,\n",
    "                    validation_steps=int((len(h5py.File(test_samples))/2))// batch_size,\n",
    "                    use_multiprocessing=False,\n",
    "                    workers=0,\n",
    "                    max_queue_size=5)"
   ]
  },
  {
   "cell_type": "code",
   "execution_count": 4,
   "id": "abroad-superior",
   "metadata": {},
   "outputs": [
    {
     "data": {
      "text/plain": [
       "'# Guardar pesos en el disco\\nmodel.save_weights(dirmodel + \"data_augmentation.h5\")\\nprint(\"Saved model to disk\")'"
      ]
     },
     "execution_count": 4,
     "metadata": {},
     "output_type": "execute_result"
    }
   ],
   "source": [
    "from keras.models import model_from_json\n",
    "\n",
    "dirmodel = '/mnt/MD1200A/lconcha/videos/Modelos/Data_augmentation/'\n",
    "\n",
    "# Guardar configuración JSON en el disco\n",
    "model_json = model.to_json()\n",
    "with open(dirmodel + \"data_augmentation.json\", \"w\") as json_file:\n",
    "    json_file.write(model_json)\n",
    "    \n",
    "    \n",
    "'''# Guardar pesos en el disco\n",
    "model.save_weights(dirmodel + \"data_augmentation.h5\")\n",
    "print(\"Saved model to disk\")'''"
   ]
  },
  {
   "cell_type": "code",
   "execution_count": 10,
   "id": "molecular-reproduction",
   "metadata": {},
   "outputs": [
    {
     "name": "stdout",
     "output_type": "stream",
     "text": [
      "Load model to disk\n"
     ]
    }
   ],
   "source": [
    "dirmodel = '/mnt/MD1200A/lconcha/videos/Modelos/Data_augmentation/'\n",
    "\n",
    "# Recargue el modelo de los 2 archivos que guardamos\n",
    "with open(dirmodel + \"data_augmentation.json\") as json_file:\n",
    "    json_config = json_file.read()\n",
    "'''new_model = keras.models.model_from_json(json_config)\n",
    "new_model.load_weights(dirmodel + \"data_augmentation.h5\")\n",
    "print(\"Load model to disk\")'''"
   ]
  },
  {
   "cell_type": "code",
   "execution_count": null,
   "id": "sunset-routine",
   "metadata": {},
   "outputs": [
    {
     "name": "stdout",
     "output_type": "stream",
     "text": [
      "WARNING:tensorflow:`period` argument is deprecated. Please use `save_freq` to specify the frequency in number of batches seen.\n"
     ]
    },
    {
     "name": "stderr",
     "output_type": "stream",
     "text": [
      "/cm/shared/apps/anaconda2/4.3.1/envs/jupyter3.7/lib/python3.7/site-packages/ipykernel_launcher.py:16: H5pyDeprecationWarning: The default file mode will change to 'r' (read-only) in h5py 3.0. To suppress this warning, pass the mode you need to h5py.File(), or set the global default h5.get_config().default_file_mode, or set the environment variable H5PY_DEFAULT_READONLY=1. Available modes are: 'r', 'r+', 'w', 'w-'/'x', 'a'. See the docs for details.\n",
      "  app.launch_new_instance()\n",
      "/cm/shared/apps/anaconda2/4.3.1/envs/jupyter3.7/lib/python3.7/site-packages/ipykernel_launcher.py:21: H5pyDeprecationWarning: The default file mode will change to 'r' (read-only) in h5py 3.0. To suppress this warning, pass the mode you need to h5py.File(), or set the global default h5.get_config().default_file_mode, or set the environment variable H5PY_DEFAULT_READONLY=1. Available modes are: 'r', 'r+', 'w', 'w-'/'x', 'a'. See the docs for details.\n",
      "/cm/shared/apps/anaconda2/4.3.1/envs/jupyter3.7/lib/python3.7/site-packages/ipykernel_launcher.py:58: H5pyDeprecationWarning: dataset.value has been deprecated. Use dataset[()] instead.\n"
     ]
    },
    {
     "name": "stdout",
     "output_type": "stream",
     "text": [
      "Epoch 1/50\n",
      "128/128 [==============================] - 11918s 93s/step - loss: 0.1004 - accuracy: 0.9605 - val_loss: 2.5656 - val_accuracy: 0.5597\n",
      "\n",
      "Epoch 00001: saving model to /mnt/MD1200A/lconcha/videos/Modelos/Data_augmentation/training/cp-0001.ckpt\n",
      "Epoch 2/50\n",
      "128/128 [==============================] - 11904s 93s/step - loss: 0.0885 - accuracy: 0.9670 - val_loss: 1.1835 - val_accuracy: 0.7119\n",
      "\n",
      "Epoch 00002: saving model to /mnt/MD1200A/lconcha/videos/Modelos/Data_augmentation/training/cp-0002.ckpt\n",
      "Epoch 3/50\n",
      "128/128 [==============================] - 11877s 93s/step - loss: 0.0820 - accuracy: 0.9682 - val_loss: 0.1736 - val_accuracy: 0.9284\n",
      "\n",
      "Epoch 00003: saving model to /mnt/MD1200A/lconcha/videos/Modelos/Data_augmentation/training/cp-0003.ckpt\n",
      "Epoch 4/50\n",
      "128/128 [==============================] - 11838s 93s/step - loss: 0.0832 - accuracy: 0.9679 - val_loss: 0.4473 - val_accuracy: 0.8306\n",
      "\n",
      "Epoch 00004: saving model to /mnt/MD1200A/lconcha/videos/Modelos/Data_augmentation/training/cp-0004.ckpt\n",
      "Epoch 5/50\n",
      "128/128 [==============================] - 11830s 92s/step - loss: 0.0713 - accuracy: 0.9742 - val_loss: 0.1211 - val_accuracy: 0.9516\n",
      "\n",
      "Epoch 00005: saving model to /mnt/MD1200A/lconcha/videos/Modelos/Data_augmentation/training/cp-0005.ckpt\n",
      "Epoch 6/50\n",
      "128/128 [==============================] - 11844s 93s/step - loss: 0.0702 - accuracy: 0.9732 - val_loss: 0.3306 - val_accuracy: 0.9149\n",
      "\n",
      "Epoch 00006: saving model to /mnt/MD1200A/lconcha/videos/Modelos/Data_augmentation/training/cp-0006.ckpt\n",
      "Epoch 7/50\n",
      "128/128 [==============================] - 11843s 93s/step - loss: 0.0636 - accuracy: 0.9755 - val_loss: 0.0989 - val_accuracy: 0.9646\n",
      "\n",
      "Epoch 00007: saving model to /mnt/MD1200A/lconcha/videos/Modelos/Data_augmentation/training/cp-0007.ckpt\n",
      "Epoch 8/50\n",
      " 43/128 [=========>....................] - ETA: 2:09:29 - loss: 0.0555 - accuracy: 0.9803"
     ]
    }
   ],
   "source": [
    "new_model.compile(optimizer=\"Adam\", loss=tf.keras.losses.BinaryCrossentropy(), metrics=['accuracy'])\n",
    "\n",
    "\n",
    "#####CHECK POINTS\n",
    "checkpoint_path = \"/mnt/MD1200A/lconcha/videos/Modelos/Data_augmentation/training/cp-{epoch:04d}.ckpt\"\n",
    "checkpoint_dir = os.path.dirname(checkpoint_path)\n",
    "\n",
    "# Create a callback that saves the model's weights\n",
    "cp_callback = tf.keras.callbacks.ModelCheckpoint(filepath=checkpoint_path,\n",
    "                                                 save_weights_only=True,\n",
    "                                                 period=1,\n",
    "                                                 verbose=1)\n",
    "\n",
    "\n",
    "history = new_model.fit_generator(generator=training_generator,\n",
    "                    steps_per_epoch= int((len(h5py.File(train_samples))/2))// batch_size,\n",
    "                    epochs=50,\n",
    "                    callbacks=[cp_callback],\n",
    "                    verbose=True,\n",
    "                    validation_data=validation_generator,\n",
    "                    validation_steps=int((len(h5py.File(test_samples))/2))// batch_size,\n",
    "                    use_multiprocessing=False,\n",
    "                    workers=0,\n",
    "                    max_queue_size=5)"
   ]
  },
  {
   "cell_type": "markdown",
   "id": "gorgeous-knitting",
   "metadata": {},
   "source": [
    "# LOAD CHECKPOINT"
   ]
  },
  {
   "cell_type": "code",
   "execution_count": 7,
   "id": "automated-translation",
   "metadata": {},
   "outputs": [
    {
     "data": {
      "text/plain": [
       "<tensorflow.python.training.tracking.util.CheckpointLoadStatus at 0x2aac2beb90d0>"
      ]
     },
     "execution_count": 7,
     "metadata": {},
     "output_type": "execute_result"
    }
   ],
   "source": [
    "checkpoint_path = \"/mnt/MD1200A/lconcha/videos/Modelos/Data_augmentation/training/cp-0007.ckpt\"\n",
    "checkpoint_dir = os.path.dirname(checkpoint_path)\n",
    "\n",
    "model.load_weights(checkpoint_path)"
   ]
  },
  {
   "cell_type": "code",
   "execution_count": null,
   "id": "opposite-blond",
   "metadata": {},
   "outputs": [
    {
     "name": "stdout",
     "output_type": "stream",
     "text": [
      "WARNING:tensorflow:`period` argument is deprecated. Please use `save_freq` to specify the frequency in number of batches seen.\n"
     ]
    },
    {
     "name": "stderr",
     "output_type": "stream",
     "text": [
      "/cm/shared/apps/anaconda2/4.3.1/envs/jupyter3.7/lib/python3.7/site-packages/ipykernel_launcher.py:18: H5pyDeprecationWarning: The default file mode will change to 'r' (read-only) in h5py 3.0. To suppress this warning, pass the mode you need to h5py.File(), or set the global default h5.get_config().default_file_mode, or set the environment variable H5PY_DEFAULT_READONLY=1. Available modes are: 'r', 'r+', 'w', 'w-'/'x', 'a'. See the docs for details.\n",
      "/cm/shared/apps/anaconda2/4.3.1/envs/jupyter3.7/lib/python3.7/site-packages/ipykernel_launcher.py:23: H5pyDeprecationWarning: The default file mode will change to 'r' (read-only) in h5py 3.0. To suppress this warning, pass the mode you need to h5py.File(), or set the global default h5.get_config().default_file_mode, or set the environment variable H5PY_DEFAULT_READONLY=1. Available modes are: 'r', 'r+', 'w', 'w-'/'x', 'a'. See the docs for details.\n",
      "/cm/shared/apps/anaconda2/4.3.1/envs/jupyter3.7/lib/python3.7/site-packages/ipykernel_launcher.py:58: H5pyDeprecationWarning: dataset.value has been deprecated. Use dataset[()] instead.\n"
     ]
    },
    {
     "name": "stdout",
     "output_type": "stream",
     "text": [
      "Epoch 1/30\n",
      "128/128 [==============================] - 12778s 100s/step - loss: 0.0721 - accuracy: 0.9727 - val_loss: 0.7029 - val_accuracy: 0.7783\n",
      "\n",
      "Epoch 00001: saving model to /mnt/MD1200A/lconcha/videos/Modelos/Data_augmentation/training2/cp-0001.ckpt\n",
      "Epoch 2/30\n",
      "128/128 [==============================] - 13101s 102s/step - loss: 0.0569 - accuracy: 0.9785 - val_loss: 0.1070 - val_accuracy: 0.9656\n",
      "\n",
      "Epoch 00002: saving model to /mnt/MD1200A/lconcha/videos/Modelos/Data_augmentation/training2/cp-0002.ckpt\n",
      "Epoch 3/30\n",
      " 46/128 [=========>....................] - ETA: 2:11:11 - loss: 0.0464 - accuracy: 0.9823"
     ]
    }
   ],
   "source": [
    "model.compile(optimizer=\"Adam\", loss=tf.keras.losses.BinaryCrossentropy(), metrics=['accuracy'])\n",
    "\n",
    "\n",
    "#####CHECK POINTS\n",
    "checkpoint_path = \"/mnt/MD1200A/lconcha/videos/Modelos/Data_augmentation/training2/cp-{epoch:04d}.ckpt\"\n",
    "checkpoint_dir = os.path.dirname(checkpoint_path)\n",
    "\n",
    "csv_logger = CSVLogger(\"/mnt/MD1200A/lconcha/videos/Modelos/Data_augmentation/training2/model_history_log.csv\", append=True)\n",
    "\n",
    "# Create a callback that saves the model's weights\n",
    "cp_callback = tf.keras.callbacks.ModelCheckpoint(filepath=checkpoint_path,\n",
    "                                                 save_weights_only=True,\n",
    "                                                 period=1,\n",
    "                                                 verbose=1)\n",
    "\n",
    "\n",
    "history = model.fit_generator(generator=training_generator,\n",
    "                    steps_per_epoch= int((len(h5py.File(train_samples))/2))// batch_size,\n",
    "                    epochs=30,\n",
    "                    callbacks=[cp_callback, csv_logger],\n",
    "                    verbose=True,\n",
    "                    validation_data=validation_generator,\n",
    "                    validation_steps=int((len(h5py.File(test_samples))/2))// batch_size,\n",
    "                    use_multiprocessing=False,\n",
    "                    workers=0,\n",
    "                    max_queue_size=5)"
   ]
  },
  {
   "cell_type": "code",
   "execution_count": 6,
   "id": "suburban-church",
   "metadata": {},
   "outputs": [
    {
     "name": "stderr",
     "output_type": "stream",
     "text": [
      "/cm/shared/apps/anaconda2/4.3.1/envs/jupyter3.7/lib/python3.7/site-packages/ipykernel_launcher.py:6: H5pyDeprecationWarning: The default file mode will change to 'r' (read-only) in h5py 3.0. To suppress this warning, pass the mode you need to h5py.File(), or set the global default h5.get_config().default_file_mode, or set the environment variable H5PY_DEFAULT_READONLY=1. Available modes are: 'r', 'r+', 'w', 'w-'/'x', 'a'. See the docs for details.\n",
      "  \n",
      "/cm/shared/apps/anaconda2/4.3.1/envs/jupyter3.7/lib/python3.7/site-packages/ipykernel_launcher.py:58: H5pyDeprecationWarning: dataset.value has been deprecated. Use dataset[()] instead.\n"
     ]
    },
    {
     "name": "stdout",
     "output_type": "stream",
     "text": [
      "(712, 8, 128, 128, 3)\n"
     ]
    }
   ],
   "source": [
    "test_samples = '/mnt/MD1200A/lconcha/videos/128x128_Datasets_corregidos/Datasets_corregidos_training/Combinado_test_corregido_1'\n",
    "\n",
    "#con esto vemos el numero de ejemplos que hay en el dataset de test\n",
    "f = h5py.File(test_samples, 'r')\n",
    "a_group_key = list(f.keys())\n",
    "X_test = int(len(a_group_key)/2)\n",
    "\n",
    "\n",
    "batch_size = X_test\n",
    "\n",
    "test_generator = DataGenerator(test_samples, batch_size )\n",
    "\n",
    "test_generator.batch_size = X_test\n",
    "X, Y = test_generator.__getitem__(np.random.randint(0,1))\n",
    "prediction = model.predict(X)\n",
    "\n",
    "array_prediction = np.argmax(prediction, axis=1)\n",
    "array_Y = np.argmax(Y, axis=1)\n",
    "\n",
    "print(X.shape)"
   ]
  },
  {
   "cell_type": "code",
   "execution_count": 7,
   "id": "agreed-observer",
   "metadata": {},
   "outputs": [],
   "source": [
    "from sklearn.metrics import confusion_matrix\n",
    "import pandas as pd\n",
    "import seaborn as sns"
   ]
  },
  {
   "cell_type": "code",
   "execution_count": 8,
   "id": "suffering-belly",
   "metadata": {},
   "outputs": [
    {
     "name": "stdout",
     "output_type": "stream",
     "text": [
      "[[344   0]\n",
      " [361   7]]\n",
      "     RE  EA\n",
      "RE  344   0\n",
      "EA  361   7\n"
     ]
    },
    {
     "data": {
      "image/png": "[encoded data removed]",
      "text/plain": [
       "<Figure size 432x288 with 2 Axes>"
      ]
     },
     "metadata": {
      "needs_background": "light"
     },
     "output_type": "display_data"
    }
   ],
   "source": [
    "confm = confusion_matrix(array_Y,array_prediction)\n",
    "print(confm)\n",
    "\n",
    "columnas = ['RE','EA']\n",
    "df_cm = pd.DataFrame(confm, index=columnas, columns=columnas)\n",
    "\n",
    "print(df_cm)\n",
    "\n",
    "grafica = sns.heatmap(df_cm, cmap='Blues', annot=True, fmt=\"d\")\n",
    "\n",
    "\n",
    "plt.ylabel('Valores verdaderos')\n",
    "plt.xlabel('Predicciones')\n",
    "grafica.set(xlabel='Verdadero',ylabel='Predicción')\n",
    "plt.show\n",
    "plt.savefig('/mnt/MD1200A/lconcha/videos/Modelos/dropout_07505025_corregidos/confm_dropout07505025_corregidos.png', dpi = 500)"
   ]
  },
  {
   "cell_type": "code",
   "execution_count": 9,
   "id": "simplified-duncan",
   "metadata": {},
   "outputs": [
    {
     "name": "stdout",
     "output_type": "stream",
     "text": [
      "[[0.33925049 0.        ]\n",
      " [0.35601578 0.00690335]]\n",
      "          RE        EA\n",
      "RE  0.339250  0.000000\n",
      "EA  0.356016  0.006903\n"
     ]
    },
    {
     "data": {
      "image/png": "[encoded data removed]",
      "text/plain": [
       "<Figure size 432x288 with 2 Axes>"
      ]
     },
     "metadata": {
      "needs_background": "light"
     },
     "output_type": "display_data"
    }
   ],
   "source": [
    "confm = confusion_matrix(array_Y,array_prediction)\n",
    "confm = confm/1014\n",
    "print(confm)\n",
    "\n",
    "columnas = ['RE','EA']\n",
    "df_cm = pd.DataFrame(confm, index=columnas, columns=columnas)\n",
    "\n",
    "print(df_cm)\n",
    "\n",
    "grafica = sns.heatmap(df_cm, cmap='Blues', annot=True)\n",
    "\n",
    "\n",
    "plt.ylabel('Valores verdaderos')\n",
    "plt.xlabel('Predicciones')\n",
    "grafica.set(xlabel='Verdadero',ylabel='Predicción')\n",
    "plt.show\n",
    "plt.savefig('/mnt/MD1200A/lconcha/videos/Modelos/dropout_07505025_corregidos/percent_confm_dropout07505025_corregidos.png', dpi = 500)"
   ]
  },
  {
   "cell_type": "code",
   "execution_count": 10,
   "id": "capital-destiny",
   "metadata": {},
   "outputs": [
    {
     "data": {
      "image/png": "[encoded data removed]",
      "text/plain": [
       "<Figure size 432x288 with 1 Axes>"
      ]
     },
     "metadata": {
      "needs_background": "light"
     },
     "output_type": "display_data"
    }
   ],
   "source": [
    "plt.plot(history.history['loss'], label='loss')\n",
    "plt.plot(history.history['val_loss'], label = 'val_loss')\n",
    "plt.xlabel('Epoch')\n",
    "plt.ylabel('loss')\n",
    "plt.legend(loc='upper right')\n",
    "plt.savefig('/mnt/MD1200A/lconcha/videos/Modelos/dropout_07505025_corregidos/loss_dropout07505025_corregidos.png', dpi = 500)"
   ]
  },
  {
   "cell_type": "code",
   "execution_count": 11,
   "id": "threaded-intersection",
   "metadata": {},
   "outputs": [
    {
     "data": {
      "image/png": "[encoded data removed]",
      "text/plain": [
       "<Figure size 432x288 with 1 Axes>"
      ]
     },
     "metadata": {
      "needs_background": "light"
     },
     "output_type": "display_data"
    }
   ],
   "source": [
    "plt.plot(history.history['accuracy'], label='accuracy')\n",
    "plt.plot(history.history['val_accuracy'], label = 'val_accuracy')\n",
    "plt.xlabel('Epoch')\n",
    "plt.ylabel('Accuracy')\n",
    "plt.ylim([0.5, 1])\n",
    "plt.legend(loc='lower right')\n",
    "plt.savefig('/mnt/MD1200A/lconcha/videos/Modelos/dropout_07505025_corregidos/accuary_dropout07505025_corregidos.png', dpi = 500)"
   ]
  },
  {
   "cell_type": "code",
   "execution_count": 12,
   "id": "speaking-territory",
   "metadata": {},
   "outputs": [
    {
     "name": "stdout",
     "output_type": "stream",
     "text": [
      "[[0.33925049 0.        ]\n",
      " [0.35601578 0.00690335]] [1.37929428 0.77876669 0.72821665 0.69289029 0.68774062 0.65772194\n",
      " 0.65984386 0.65427697 0.65987283 0.63640893 0.62424654 0.64675122\n",
      " 0.59066606 0.60715562 0.61489701 0.58972532 0.59495389 0.5735814\n",
      " 0.56590205 0.58808666 0.58307981 0.56738037 0.5585683  0.53967333\n",
      " 0.53844011 0.53591096 0.52515483 0.51600075 0.51429611 0.50763285\n",
      " 0.51274765 0.50261092 0.5062359  0.48512492 0.50211567 0.4756988\n",
      " 0.49101058 0.48204416 0.45528427 0.46137634 0.45948255 0.48749819\n",
      " 0.47702003 0.45671561 0.43633956 0.45948896 0.45885289 0.45304736\n",
      " 0.44838813 0.46719775] [5.73890162 1.53538656 1.17257833 2.05990076 1.72833252 1.29931235\n",
      " 1.79470706 1.14168072 0.96825409 0.75806856 0.59162116 0.5991599\n",
      " 0.57164884 0.55065602 0.56437504 0.55242807 0.58730227 0.55738825\n",
      " 0.63926113 0.56148982 0.5713672  0.52744555 0.54511923 0.57952535\n",
      " 0.57712114 0.70254517 0.74403197 0.92836159 0.97099143 0.69598693\n",
      " 0.54178393 0.48867512 0.56374335 0.58851272 0.46322381 1.19586444\n",
      " 0.51034576 0.90859914 1.40502179 1.00384176 1.06368661 0.44254711\n",
      " 0.48203507 0.61671716 0.64650941 0.93959188 0.58136767 1.12927735\n",
      " 1.96294439 1.58963668]\n"
     ]
    }
   ],
   "source": [
    "#Con el siguiente codigo guardo los arrays de la matriz de confusion, los valores de loss y val_loss\n",
    "\n",
    "with open('/mnt/MD1200A/lconcha/videos/Modelos/dropout_07505025_corregidos/dropout07505025_corregidos.npy', 'wb') as f:\n",
    "    np.save(f, confm)\n",
    "    np.save(f, history.history['loss'])\n",
    "    np.save(f, history.history['val_loss'])\n",
    "    \n",
    "with open('/mnt/MD1200A/lconcha/videos/Modelos/dropout_07505025_corregidos/dropout07505025_corregidos.npy', 'rb') as f:\n",
    "    a = np.load(f)\n",
    "    b = np.load(f)\n",
    "    c = np.load(f)\n",
    "    \n",
    "print(a, b,c)"
   ]
  }
 ],
 "metadata": {
  "kernelspec": {
   "display_name": "Python 3",
   "language": "python",
   "name": "python3"
  },
  "language_info": {
   "codemirror_mode": {
    "name": "ipython",
    "version": 3
   },
   "file_extension": ".py",
   "mimetype": "text/x-python",
   "name": "python",
   "nbconvert_exporter": "python",
   "pygments_lexer": "ipython3",
   "version": "3.7.9"
  }
 },
 "nbformat": 4,
 "nbformat_minor": 5
}
