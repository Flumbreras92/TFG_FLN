{
 "cells": [
  {
   "cell_type": "code",
   "execution_count": 1,
   "id": "cognitive-brighton",
   "metadata": {},
   "outputs": [],
   "source": [
    "import numpy as np\n",
    "import h5py\n",
    "\n",
    "import tensorflow as tf\n",
    "import keras\n",
    "from keras.models import Sequential\n",
    "from keras.models import Model\n",
    "from keras.callbacks import EarlyStopping, ModelCheckpoint\n",
    "from keras.optimizers import Adam\n",
    "from keras.layers import Input, Flatten, Dense, Dropout,  Activation, Conv3D, MaxPooling3D, UpSampling3D, BatchNormalization, Activation, Reshape\n",
    "from keras.layers import Conv2D, MaxPooling2D\n",
    "#from keras.utils import multi_gpu_model\n",
    "\n",
    "from keras.optimizers import SGD\n",
    "from keras.layers.merge import concatenate, add\n",
    "\n",
    "#from keras.utils.io_utils import HDF5Matrix\n",
    "from keras.utils import plot_model\n",
    "from keras import optimizers\n",
    "\n",
    "import os\n",
    "import numpy as np\n",
    "from os import listdir\n",
    "from os.path import isfile, join\n",
    "import matplotlib.pyplot as plt\n",
    "from random import shuffle"
   ]
  },
  {
   "cell_type": "code",
   "execution_count": 4,
   "id": "million-technical",
   "metadata": {},
   "outputs": [
    {
     "name": "stdout",
     "output_type": "stream",
     "text": [
      "Model: \"model\"\n",
      "_________________________________________________________________\n",
      "Layer (type)                 Output Shape              Param #   \n",
      "=================================================================\n",
      "input_3 (InputLayer)         [(None, 8, 128, 128, 3)]  0         \n",
      "_________________________________________________________________\n",
      "conv3d_4 (Conv3D)            (None, 8, 128, 128, 32)   12032     \n",
      "_________________________________________________________________\n",
      "batch_normalization_8 (Batch (None, 8, 128, 128, 32)   128       \n",
      "_________________________________________________________________\n",
      "activation_4 (Activation)    (None, 8, 128, 128, 32)   0         \n",
      "_________________________________________________________________\n",
      "batch_normalization_9 (Batch (None, 8, 128, 128, 32)   128       \n",
      "_________________________________________________________________\n",
      "max_pooling3d_4 (MaxPooling3 (None, 2, 16, 16, 32)     0         \n",
      "_________________________________________________________________\n",
      "conv3d_5 (Conv3D)            (None, 2, 16, 16, 64)     256064    \n",
      "_________________________________________________________________\n",
      "batch_normalization_10 (Batc (None, 2, 16, 16, 64)     256       \n",
      "_________________________________________________________________\n",
      "activation_5 (Activation)    (None, 2, 16, 16, 64)     0         \n",
      "_________________________________________________________________\n",
      "batch_normalization_11 (Batc (None, 2, 16, 16, 64)     256       \n",
      "_________________________________________________________________\n",
      "max_pooling3d_5 (MaxPooling3 (None, 1, 4, 4, 64)       0         \n",
      "_________________________________________________________________\n",
      "reshape_2 (Reshape)          (None, 1024)              0         \n",
      "_________________________________________________________________\n",
      "dense (Dense)                (None, 2)                 2050      \n",
      "=================================================================\n",
      "Total params: 270,914\n",
      "Trainable params: 270,530\n",
      "Non-trainable params: 384\n",
      "_________________________________________________________________\n"
     ]
    }
   ],
   "source": [
    "def conv3d_block(input_tensor, filters, kernel_size, activation_fun = \"linear\"):\n",
    "    # first layer\n",
    "    x = Conv3D(filters=filters, kernel_size=kernel_size, kernel_initializer=\"he_normal\", padding=\"same\")(input_tensor)\n",
    "    x = BatchNormalization()(x)\n",
    "    x = Activation(activation_fun)(x)\n",
    "\n",
    "    return x\n",
    "\n",
    "kernel_size = (5,5,5)\n",
    "act_fun = \"relu\"\n",
    "\n",
    "############### DEFINE SET OF INPUTS #################\n",
    "\n",
    "x = Input(shape=(8, 128, 128,3)) \n",
    "\n",
    "\n",
    "############## DEFINE PATH FOR INPUT 1 ##################\n",
    "\n",
    "\n",
    "c1 = conv3d_block (x, filters=32, kernel_size=kernel_size, activation_fun = act_fun )\n",
    "c1 = BatchNormalization()(c1)\n",
    "p1 = MaxPooling3D (pool_size=(4, 8, 8), padding='valid')(c1)\n",
    "p1 = Dropout(0.5)(p1)\n",
    "\n",
    "\n",
    "c2 = conv3d_block(p1, filters=64, kernel_size=kernel_size, activation_fun = act_fun )\n",
    "c2 = BatchNormalization()(c2)\n",
    "p2 = MaxPooling3D(pool_size=(2, 4, 4), padding='valid')(c2)\n",
    "p2 = Dropout(0.25)(p2)\n",
    "\n",
    "\n",
    "p2 = Reshape((1024,))(p2)\n",
    "\n",
    "\n",
    "d = Dense(2, activation = 'sigmoid')(p2)\n",
    "\n",
    "\n",
    "\n",
    "model = Model(x , d)\n",
    "model.compile(optimizer=\"Adam\", loss=tf.keras.losses.BinaryCrossentropy())\n",
    "model.summary()"
   ]
  },
  {
   "cell_type": "code",
   "execution_count": 8,
   "id": "stupid-blair",
   "metadata": {},
   "outputs": [
    {
     "name": "stderr",
     "output_type": "stream",
     "text": [
      "/cm/shared/apps/anaconda2/4.3.1/envs/jupyter3.7/lib/python3.7/site-packages/ipykernel_launcher.py:6: H5pyDeprecationWarning: The default file mode will change to 'r' (read-only) in h5py 3.0. To suppress this warning, pass the mode you need to h5py.File(), or set the global default h5.get_config().default_file_mode, or set the environment variable H5PY_DEFAULT_READONLY=1. Available modes are: 'r', 'r+', 'w', 'w-'/'x', 'a'. See the docs for details.\n",
      "  \n"
     ]
    }
   ],
   "source": [
    "class DataGenerator(keras.utils.Sequence):\n",
    "\n",
    "    def __init__(self, Directorio, batch_size = 5):\n",
    "        \n",
    "        self.batch_size = batch_size\n",
    "        self.Directorio = h5py.File(Directorio)\n",
    "\n",
    "    def __len__(self):\n",
    "        \n",
    "        return int((len(self.Directorio)/2) / self.batch_size)\n",
    "\n",
    "    \n",
    "    #Getitem nos devolvera los valores de X e Y para el indice de batch que le pida keras\n",
    "    def __getitem__(self, index):\n",
    "        \n",
    "        #Creamos dos listas vacias en las que se separaran los valores de X e Y de nuestro archivo\n",
    "        array_x = []\n",
    "        array_y = []\n",
    "        \n",
    "        #Numero de ejemplos que tenemos en nuestro dataset, dividimos entre dos por que la longitud total\n",
    "        #viene con el numero de X e Y\n",
    "        self.indexes = np.arange(int(len(self.Directorio)/2))\n",
    "        \n",
    "        #dependiendo del indice de batch, indexes nos dara la posicion de los datos que queremos extraer\n",
    "        indexes = self.indexes[index*self.batch_size:(index+1)*self.batch_size]\n",
    "        \n",
    "        #Recorremos el directorio y extraemos las X con sus frames y las Y con sus estados\n",
    "        for line in self.Directorio:\n",
    "\n",
    "            if line[0] == 'X':\n",
    "                array_x.append(self.Directorio[line])\n",
    "\n",
    "            if line [0] == 'Y':\n",
    "                array_y.append(self.Directorio[line])\n",
    "        \n",
    "        #dos nuevos listas en las que almacenaremos los datos correspondientes a las posiciones que nos pide\n",
    "        #el indice del batch\n",
    "        x = []\n",
    "        y = []\n",
    "        \n",
    "        for i in indexes:\n",
    "            x.append(array_x[i])\n",
    "            y.append(array_y[i])\n",
    "        \n",
    "        #convertimos la lista anterior en un array con shape (batch_size,8,512,512,3)\n",
    "        x_array = np.array(x)\n",
    "        \n",
    "        \n",
    "        #Keras no entiende de strings, por lo que pasamos esos strings a vectores con numeros\n",
    "        RE = [1,0] #vector para estado: reposo\n",
    "        EA = [0,1] #vector para estado: ataque\n",
    "        \n",
    "        #lista donde almacenamos los vectores asociados a su string correspondiente\n",
    "        y_strings = []\n",
    "        \n",
    "        for i in y:\n",
    "\n",
    "            if i.value == 'RE':\n",
    "                y_strings.append(RE)\n",
    "\n",
    "            else:\n",
    "                y_strings.append(EA)\n",
    "                \n",
    "        #convertimos la lista anterior en un array con shape (batch_size,2)\n",
    "        y_array = np.array(y_strings)\n",
    "\n",
    "        X, y = x_array,y_array\n",
    "\n",
    "        return X,y\n",
    "\n",
    "batch_size = 150\n",
    "\n",
    "\n",
    "train_samples = '/mnt/MD1200A/lconcha/videos/128x128_Datasets_corregidos/Datasets_corregidos_training/Combinado_training_corregido_2'\n",
    "test_samples =  '/mnt/MD1200A/lconcha/videos/128x128_Datasets_corregidos/Datasets_corregidos_training/Combinado_validation_corregido_2'\n",
    "\n",
    "training_generator   = DataGenerator(train_samples, batch_size )\n",
    "validation_generator = DataGenerator(test_samples,  batch_size )"
   ]
  },
  {
   "cell_type": "code",
   "execution_count": 9,
   "id": "wicked-argument",
   "metadata": {},
   "outputs": [
    {
     "name": "stderr",
     "output_type": "stream",
     "text": [
      "/cm/shared/apps/anaconda2/4.3.1/envs/jupyter3.7/lib/python3.7/site-packages/ipykernel_launcher.py:16: H5pyDeprecationWarning: The default file mode will change to 'r' (read-only) in h5py 3.0. To suppress this warning, pass the mode you need to h5py.File(), or set the global default h5.get_config().default_file_mode, or set the environment variable H5PY_DEFAULT_READONLY=1. Available modes are: 'r', 'r+', 'w', 'w-'/'x', 'a'. See the docs for details.\n",
      "  app.launch_new_instance()\n",
      "/cm/shared/apps/anaconda2/4.3.1/envs/jupyter3.7/lib/python3.7/site-packages/ipykernel_launcher.py:21: H5pyDeprecationWarning: The default file mode will change to 'r' (read-only) in h5py 3.0. To suppress this warning, pass the mode you need to h5py.File(), or set the global default h5.get_config().default_file_mode, or set the environment variable H5PY_DEFAULT_READONLY=1. Available modes are: 'r', 'r+', 'w', 'w-'/'x', 'a'. See the docs for details.\n",
      "/cm/shared/apps/anaconda2/4.3.1/envs/jupyter3.7/lib/python3.7/site-packages/tensorflow/python/keras/engine/training.py:1844: UserWarning: `Model.fit_generator` is deprecated and will be removed in a future version. Please use `Model.fit`, which supports generators.\n",
      "  warnings.warn('`Model.fit_generator` is deprecated and '\n",
      "/cm/shared/apps/anaconda2/4.3.1/envs/jupyter3.7/lib/python3.7/site-packages/ipykernel_launcher.py:58: H5pyDeprecationWarning: dataset.value has been deprecated. Use dataset[()] instead.\n"
     ]
    },
    {
     "name": "stdout",
     "output_type": "stream",
     "text": [
      "Epoch 1/50\n",
      "14/14 [==============================] - 1252s 89s/step - loss: 1.2043 - accuracy: 0.6097 - val_loss: 3.2824 - val_accuracy: 0.6300\n",
      "Epoch 2/50\n",
      "14/14 [==============================] - 1194s 85s/step - loss: 0.6166 - accuracy: 0.6906 - val_loss: 1.1617 - val_accuracy: 0.6233\n",
      "Epoch 3/50\n",
      "14/14 [==============================] - 1188s 85s/step - loss: 0.5388 - accuracy: 0.7383 - val_loss: 0.6466 - val_accuracy: 0.6917\n",
      "Epoch 4/50\n",
      "14/14 [==============================] - 1197s 86s/step - loss: 0.5296 - accuracy: 0.7468 - val_loss: 0.6114 - val_accuracy: 0.7400\n",
      "Epoch 5/50\n",
      "14/14 [==============================] - 1198s 85s/step - loss: 0.4870 - accuracy: 0.7617 - val_loss: 0.6367 - val_accuracy: 0.7033\n",
      "Epoch 6/50\n",
      "14/14 [==============================] - 1192s 85s/step - loss: 0.4677 - accuracy: 0.7872 - val_loss: 0.5501 - val_accuracy: 0.7783\n",
      "Epoch 7/50\n",
      "14/14 [==============================] - 1198s 86s/step - loss: 0.4682 - accuracy: 0.7892 - val_loss: 0.5069 - val_accuracy: 0.7917\n",
      "Epoch 8/50\n",
      "14/14 [==============================] - 1200s 86s/step - loss: 0.4405 - accuracy: 0.8040 - val_loss: 0.5136 - val_accuracy: 0.7950\n",
      "Epoch 9/50\n",
      "14/14 [==============================] - 1199s 86s/step - loss: 0.4235 - accuracy: 0.8114 - val_loss: 0.4927 - val_accuracy: 0.8000\n",
      "Epoch 10/50\n",
      "14/14 [==============================] - 1204s 86s/step - loss: 0.4284 - accuracy: 0.8092 - val_loss: 0.4943 - val_accuracy: 0.7950\n",
      "Epoch 11/50\n",
      "14/14 [==============================] - 1193s 85s/step - loss: 0.4253 - accuracy: 0.8119 - val_loss: 0.4810 - val_accuracy: 0.7883\n",
      "Epoch 12/50\n",
      "14/14 [==============================] - 1200s 86s/step - loss: 0.4010 - accuracy: 0.8264 - val_loss: 0.4412 - val_accuracy: 0.8367\n",
      "Epoch 13/50\n",
      "14/14 [==============================] - 1182s 84s/step - loss: 0.4202 - accuracy: 0.7963 - val_loss: 0.4432 - val_accuracy: 0.8217\n",
      "Epoch 14/50\n",
      "14/14 [==============================] - 1186s 85s/step - loss: 0.3904 - accuracy: 0.8226 - val_loss: 0.4979 - val_accuracy: 0.7550\n",
      "Epoch 15/50\n",
      "14/14 [==============================] - 1182s 84s/step - loss: 0.3654 - accuracy: 0.8373 - val_loss: 0.5328 - val_accuracy: 0.7233\n",
      "Epoch 16/50\n",
      "14/14 [==============================] - 1203s 86s/step - loss: 0.3927 - accuracy: 0.8315 - val_loss: 0.5634 - val_accuracy: 0.6417\n",
      "Epoch 17/50\n",
      "14/14 [==============================] - 1197s 86s/step - loss: 0.3493 - accuracy: 0.8575 - val_loss: 0.3997 - val_accuracy: 0.8267\n",
      "Epoch 18/50\n",
      "14/14 [==============================] - 1195s 85s/step - loss: 0.3347 - accuracy: 0.8563 - val_loss: 0.4680 - val_accuracy: 0.7650\n",
      "Epoch 19/50\n",
      "14/14 [==============================] - 1199s 86s/step - loss: 0.3456 - accuracy: 0.8383 - val_loss: 0.3846 - val_accuracy: 0.8800\n",
      "Epoch 20/50\n",
      "14/14 [==============================] - 1198s 86s/step - loss: 0.3254 - accuracy: 0.8782 - val_loss: 0.3930 - val_accuracy: 0.8300\n",
      "Epoch 21/50\n",
      "14/14 [==============================] - 1200s 86s/step - loss: 0.3320 - accuracy: 0.8532 - val_loss: 0.3803 - val_accuracy: 0.8617\n",
      "Epoch 22/50\n",
      "14/14 [==============================] - 1182s 84s/step - loss: 0.3224 - accuracy: 0.8777 - val_loss: 0.3491 - val_accuracy: 0.8650\n",
      "Epoch 23/50\n",
      "14/14 [==============================] - 1195s 86s/step - loss: 0.2998 - accuracy: 0.8873 - val_loss: 0.3699 - val_accuracy: 0.8267\n",
      "Epoch 24/50\n",
      "14/14 [==============================] - 1190s 85s/step - loss: 0.2983 - accuracy: 0.8753 - val_loss: 0.5123 - val_accuracy: 0.7217\n",
      "Epoch 25/50\n",
      "14/14 [==============================] - 1193s 85s/step - loss: 0.2859 - accuracy: 0.8810 - val_loss: 0.4149 - val_accuracy: 0.8000\n",
      "Epoch 26/50\n",
      "14/14 [==============================] - 1197s 86s/step - loss: 0.3228 - accuracy: 0.8574 - val_loss: 0.3689 - val_accuracy: 0.8217\n",
      "Epoch 27/50\n",
      "14/14 [==============================] - 1186s 85s/step - loss: 0.3123 - accuracy: 0.8676 - val_loss: 0.3343 - val_accuracy: 0.8783\n",
      "Epoch 28/50\n",
      "14/14 [==============================] - 1198s 86s/step - loss: 0.2854 - accuracy: 0.8913 - val_loss: 0.3092 - val_accuracy: 0.8850\n",
      "Epoch 29/50\n",
      "14/14 [==============================] - 1190s 85s/step - loss: 0.2760 - accuracy: 0.8828 - val_loss: 0.3268 - val_accuracy: 0.8617\n",
      "Epoch 30/50\n",
      "14/14 [==============================] - 1194s 85s/step - loss: 0.2804 - accuracy: 0.8867 - val_loss: 0.3619 - val_accuracy: 0.8567\n",
      "Epoch 31/50\n",
      "14/14 [==============================] - 1192s 85s/step - loss: 0.2669 - accuracy: 0.8994 - val_loss: 0.3510 - val_accuracy: 0.8600\n",
      "Epoch 32/50\n",
      "14/14 [==============================] - 1201s 86s/step - loss: 0.2645 - accuracy: 0.8939 - val_loss: 0.5185 - val_accuracy: 0.7500\n",
      "Epoch 33/50\n",
      "14/14 [==============================] - 1201s 86s/step - loss: 0.2827 - accuracy: 0.8823 - val_loss: 0.6641 - val_accuracy: 0.6650\n",
      "Epoch 34/50\n",
      "14/14 [==============================] - 1205s 86s/step - loss: 0.2476 - accuracy: 0.9060 - val_loss: 0.4615 - val_accuracy: 0.7733\n",
      "Epoch 35/50\n",
      "14/14 [==============================] - 1209s 86s/step - loss: 0.2378 - accuracy: 0.9161 - val_loss: 0.3350 - val_accuracy: 0.8633\n",
      "Epoch 36/50\n",
      "14/14 [==============================] - 1160s 83s/step - loss: 0.2466 - accuracy: 0.9075 - val_loss: 0.3244 - val_accuracy: 0.8767\n",
      "Epoch 37/50\n",
      "14/14 [==============================] - 1062s 76s/step - loss: 0.2342 - accuracy: 0.9105 - val_loss: 0.4533 - val_accuracy: 0.7767\n",
      "Epoch 38/50\n",
      "14/14 [==============================] - 1064s 76s/step - loss: 0.2530 - accuracy: 0.9000 - val_loss: 0.4998 - val_accuracy: 0.7317\n",
      "Epoch 39/50\n",
      "14/14 [==============================] - 1058s 76s/step - loss: 0.2459 - accuracy: 0.9035 - val_loss: 0.5534 - val_accuracy: 0.7150\n",
      "Epoch 40/50\n",
      "14/14 [==============================] - 1062s 76s/step - loss: 0.2470 - accuracy: 0.9055 - val_loss: 0.4952 - val_accuracy: 0.7433\n",
      "Epoch 41/50\n",
      "14/14 [==============================] - 1245s 90s/step - loss: 0.2665 - accuracy: 0.8940 - val_loss: 0.9613 - val_accuracy: 0.5817\n",
      "Epoch 42/50\n",
      "14/14 [==============================] - 1365s 98s/step - loss: 0.2330 - accuracy: 0.9177 - val_loss: 0.6809 - val_accuracy: 0.6633\n",
      "Epoch 43/50\n",
      "14/14 [==============================] - 1340s 96s/step - loss: 0.2171 - accuracy: 0.9212 - val_loss: 0.5228 - val_accuracy: 0.7233\n",
      "Epoch 44/50\n",
      "14/14 [==============================] - 1353s 97s/step - loss: 0.2066 - accuracy: 0.9254 - val_loss: 0.3395 - val_accuracy: 0.8567\n",
      "Epoch 45/50\n",
      "14/14 [==============================] - 1263s 91s/step - loss: 0.1972 - accuracy: 0.9389 - val_loss: 0.3225 - val_accuracy: 0.8517\n",
      "Epoch 46/50\n",
      "14/14 [==============================] - 1406s 100s/step - loss: 0.2404 - accuracy: 0.9081 - val_loss: 0.4174 - val_accuracy: 0.8300\n",
      "Epoch 47/50\n",
      "14/14 [==============================] - 1349s 96s/step - loss: 0.2215 - accuracy: 0.9230 - val_loss: 0.3134 - val_accuracy: 0.8617\n",
      "Epoch 48/50\n",
      "14/14 [==============================] - 1340s 96s/step - loss: 0.1986 - accuracy: 0.9303 - val_loss: 0.4702 - val_accuracy: 0.7583\n",
      "Epoch 49/50\n",
      "14/14 [==============================] - 1289s 92s/step - loss: 0.1820 - accuracy: 0.9428 - val_loss: 0.7284 - val_accuracy: 0.6600\n",
      "Epoch 50/50\n",
      "14/14 [==============================] - 1203s 86s/step - loss: 0.2147 - accuracy: 0.9171 - val_loss: 1.5065 - val_accuracy: 0.4650\n"
     ]
    }
   ],
   "source": [
    "model.compile(optimizer=\"Adam\", loss=tf.keras.losses.BinaryCrossentropy(), metrics=['accuracy'])\n",
    "\n",
    "\n",
    "'''#####CHECK POINTS\n",
    "checkpoint_path = \"/mnt/MD1200A/lconcha/videos/Modelos/DropOut_05_025_025/Group32frames/training/cp-{epoch:04d}.ckpt\"\n",
    "checkpoint_dir = os.path.dirname(checkpoint_path)\n",
    "\n",
    "# Create a callback that saves the model's weights\n",
    "cp_callback = tf.keras.callbacks.ModelCheckpoint(filepath=checkpoint_path,\n",
    "                                                 save_weights_only=True,\n",
    "                                                 save_freq=10*batch_size,\n",
    "                                                 verbose=1)'''\n",
    "\n",
    "\n",
    "history = model.fit_generator(generator=training_generator,\n",
    "                    steps_per_epoch= int((len(h5py.File(train_samples))/2))// batch_size,\n",
    "                    epochs=50,\n",
    "                    #callbacks=[cp_callback],\n",
    "                    verbose=True,\n",
    "                    validation_data=validation_generator,\n",
    "                    validation_steps=int((len(h5py.File(test_samples))/2))// batch_size,\n",
    "                    use_multiprocessing=False,\n",
    "                    workers=0,\n",
    "                    max_queue_size=5)"
   ]
  },
  {
   "cell_type": "code",
   "execution_count": 10,
   "id": "frozen-sierra",
   "metadata": {},
   "outputs": [
    {
     "name": "stdout",
     "output_type": "stream",
     "text": [
      "Saved model to disk\n"
     ]
    }
   ],
   "source": [
    "from keras.models import model_from_json\n",
    "\n",
    "dirmodel = '/mnt/MD1200A/lconcha/videos/Modelos/2layers_corregidos/'\n",
    "\n",
    "# Guardar configuración JSON en el disco\n",
    "model_json = model.to_json()\n",
    "with open(dirmodel + \"2layers_corregidos.json\", \"w\") as json_file:\n",
    "    json_file.write(model_json)\n",
    "# Guardar pesos en el disco\n",
    "model.save_weights(dirmodel + \"2layers_corregidos.h5\")\n",
    "print(\"Saved model to disk\")"
   ]
  },
  {
   "cell_type": "code",
   "execution_count": 11,
   "id": "yellow-composer",
   "metadata": {},
   "outputs": [
    {
     "name": "stderr",
     "output_type": "stream",
     "text": [
      "/cm/shared/apps/anaconda2/4.3.1/envs/jupyter3.7/lib/python3.7/site-packages/ipykernel_launcher.py:6: H5pyDeprecationWarning: The default file mode will change to 'r' (read-only) in h5py 3.0. To suppress this warning, pass the mode you need to h5py.File(), or set the global default h5.get_config().default_file_mode, or set the environment variable H5PY_DEFAULT_READONLY=1. Available modes are: 'r', 'r+', 'w', 'w-'/'x', 'a'. See the docs for details.\n",
      "  \n",
      "/cm/shared/apps/anaconda2/4.3.1/envs/jupyter3.7/lib/python3.7/site-packages/ipykernel_launcher.py:58: H5pyDeprecationWarning: dataset.value has been deprecated. Use dataset[()] instead.\n"
     ]
    },
    {
     "name": "stdout",
     "output_type": "stream",
     "text": [
      "(712, 8, 128, 128, 3)\n"
     ]
    }
   ],
   "source": [
    "test_samples = '/mnt/MD1200A/lconcha/videos/128x128_Datasets_corregidos/Datasets_corregidos_training/Combinado_test_corregido_2'\n",
    "\n",
    "#con esto vemos el numero de ejemplos que hay en el dataset de test\n",
    "f = h5py.File(test_samples, 'r')\n",
    "a_group_key = list(f.keys())\n",
    "X_test = int(len(a_group_key)/2)\n",
    "\n",
    "\n",
    "batch_size = X_test\n",
    "\n",
    "test_generator = DataGenerator(test_samples, batch_size )\n",
    "\n",
    "test_generator.batch_size = X_test\n",
    "X, Y = test_generator.__getitem__(np.random.randint(0,1))\n",
    "prediction = model.predict(X)\n",
    "\n",
    "array_prediction = np.argmax(prediction, axis=1)\n",
    "array_Y = np.argmax(Y, axis=1)\n",
    "\n",
    "print(X.shape)"
   ]
  },
  {
   "cell_type": "code",
   "execution_count": 12,
   "id": "visible-binary",
   "metadata": {},
   "outputs": [
    {
     "name": "stdout",
     "output_type": "stream",
     "text": [
      "[[366   0]\n",
      " [328  18]]\n",
      "     RE  EA\n",
      "RE  366   0\n",
      "EA  328  18\n"
     ]
    },
    {
     "data": {
      "image/png": "[encoded data removed]",
      "text/plain": [
       "<Figure size 432x288 with 2 Axes>"
      ]
     },
     "metadata": {
      "needs_background": "light"
     },
     "output_type": "display_data"
    }
   ],
   "source": [
    "from sklearn.metrics import confusion_matrix\n",
    "import pandas as pd\n",
    "import seaborn as sns\n",
    "\n",
    "confm = confusion_matrix(array_Y,array_prediction)\n",
    "print(confm)\n",
    "\n",
    "columnas = ['RE','EA']\n",
    "df_cm = pd.DataFrame(confm, index=columnas, columns=columnas)\n",
    "\n",
    "print(df_cm)\n",
    "\n",
    "grafica = sns.heatmap(df_cm, cmap='Blues', annot=True, fmt=\"d\")\n",
    "\n",
    "\n",
    "plt.ylabel('Valores verdaderos')\n",
    "plt.xlabel('Predicciones')\n",
    "grafica.set(xlabel='Verdadero',ylabel='Predicción')\n",
    "plt.show\n",
    "plt.savefig('/mnt/MD1200A/lconcha/videos/Modelos/2layers_corregidos/confm_2layers_corregidos.png', dpi = 500)"
   ]
  },
  {
   "cell_type": "code",
   "execution_count": 13,
   "id": "eleven-trinidad",
   "metadata": {},
   "outputs": [
    {
     "name": "stdout",
     "output_type": "stream",
     "text": [
      "[[0.36094675 0.        ]\n",
      " [0.3234714  0.01775148]]\n",
      "          RE        EA\n",
      "RE  0.360947  0.000000\n",
      "EA  0.323471  0.017751\n"
     ]
    },
    {
     "data": {
      "image/png": "[encoded data removed]",
      "text/plain": [
       "<Figure size 432x288 with 2 Axes>"
      ]
     },
     "metadata": {
      "needs_background": "light"
     },
     "output_type": "display_data"
    }
   ],
   "source": [
    "confm = confusion_matrix(array_Y,array_prediction)\n",
    "confm = confm/1014\n",
    "print(confm)\n",
    "\n",
    "columnas = ['RE','EA']\n",
    "df_cm = pd.DataFrame(confm, index=columnas, columns=columnas)\n",
    "\n",
    "print(df_cm)\n",
    "\n",
    "grafica = sns.heatmap(df_cm, cmap='Blues', annot=True)\n",
    "\n",
    "\n",
    "plt.ylabel('Valores verdaderos')\n",
    "plt.xlabel('Predicciones')\n",
    "grafica.set(xlabel='Verdadero',ylabel='Predicción')\n",
    "plt.show\n",
    "plt.savefig('/mnt/MD1200A/lconcha/videos/Modelos/2layers_corregidos/percent_confm_2layers_corregidos.png', dpi = 500)"
   ]
  },
  {
   "cell_type": "code",
   "execution_count": 14,
   "id": "expected-andrew",
   "metadata": {},
   "outputs": [
    {
     "data": {
      "image/png": "[encoded data removed]",
      "text/plain": [
       "<Figure size 432x288 with 1 Axes>"
      ]
     },
     "metadata": {
      "needs_background": "light"
     },
     "output_type": "display_data"
    }
   ],
   "source": [
    "plt.plot(history.history['loss'], label='loss')\n",
    "plt.plot(history.history['val_loss'], label = 'val_loss')\n",
    "plt.xlabel('Epoch')\n",
    "plt.ylabel('loss')\n",
    "plt.legend(loc='upper right')\n",
    "plt.savefig('/mnt/MD1200A/lconcha/videos/Modelos/2layers_corregidos/loss_2layers_corregidos.png', dpi = 500)"
   ]
  },
  {
   "cell_type": "code",
   "execution_count": 15,
   "id": "sufficient-tobacco",
   "metadata": {},
   "outputs": [
    {
     "data": {
      "image/png": "[encoded data removed]",
      "text/plain": [
       "<Figure size 432x288 with 1 Axes>"
      ]
     },
     "metadata": {
      "needs_background": "light"
     },
     "output_type": "display_data"
    }
   ],
   "source": [
    "plt.plot(history.history['accuracy'], label='accuracy')\n",
    "plt.plot(history.history['val_accuracy'], label = 'val_accuracy')\n",
    "plt.xlabel('Epoch')\n",
    "plt.ylabel('Accuracy')\n",
    "plt.ylim([0.5, 1])\n",
    "plt.legend(loc='lower right')\n",
    "plt.savefig('/mnt/MD1200A/lconcha/videos/Modelos/2layers_corregidos/accuary_2layers_corregidos.png', dpi = 500)"
   ]
  },
  {
   "cell_type": "code",
   "execution_count": 16,
   "id": "universal-attribute",
   "metadata": {},
   "outputs": [
    {
     "name": "stdout",
     "output_type": "stream",
     "text": [
      "[[0.36094675 0.        ]\n",
      " [0.3234714  0.01775148]] [0.96170157 0.58918339 0.53711414 0.51384151 0.49275699 0.4761557\n",
      " 0.46075356 0.44098443 0.42888078 0.42580023 0.42056495 0.40294862\n",
      " 0.40096763 0.38320905 0.37883961 0.38098204 0.35930449 0.35241202\n",
      " 0.35102841 0.33352056 0.34041825 0.30410293 0.30068699 0.30875227\n",
      " 0.29272518 0.31876966 0.30939677 0.28755093 0.28664729 0.27784759\n",
      " 0.27205056 0.27532545 0.27591714 0.25689182 0.24136132 0.24300712\n",
      " 0.23846507 0.2375273  0.24650978 0.2627185  0.25482103 0.22900659\n",
      " 0.22568735 0.20677178 0.21969207 0.23542663 0.21355511 0.2083832\n",
      " 0.19208911 0.21111064] [3.2824285  1.1616962  0.64660746 0.61144274 0.63667881 0.55014473\n",
      " 0.50691521 0.51364189 0.49265921 0.49428299 0.48102793 0.44118297\n",
      " 0.44317734 0.49789456 0.53277051 0.56343019 0.39971343 0.46796998\n",
      " 0.38464424 0.39304236 0.38028887 0.34912124 0.36989516 0.51229036\n",
      " 0.41485578 0.36894581 0.33429202 0.3092269  0.32675695 0.36193693\n",
      " 0.35102722 0.51850873 0.66405368 0.46150503 0.33498088 0.32437775\n",
      " 0.45332032 0.49978516 0.55335116 0.49515778 0.96128124 0.68094301\n",
      " 0.52284533 0.33947256 0.32246307 0.41742367 0.31338984 0.47018442\n",
      " 0.7283535  1.5065124 ]\n"
     ]
    }
   ],
   "source": [
    "#Con el siguiente codigo guardo los arrays de la matriz de confusion, los valores de loss y val_loss\n",
    "\n",
    "with open('/mnt/MD1200A/lconcha/videos/Modelos/2layers_corregidos/2layers_corregidos.npy', 'wb') as f:\n",
    "    np.save(f, confm)\n",
    "    np.save(f, history.history['loss'])\n",
    "    np.save(f, history.history['val_loss'])\n",
    "    \n",
    "with open('/mnt/MD1200A/lconcha/videos/Modelos/2layers_corregidos/2layers_corregidos.npy', 'rb') as f:\n",
    "    a = np.load(f)\n",
    "    b = np.load(f)\n",
    "    c = np.load(f)\n",
    "    \n",
    "print(a, b,c)"
   ]
  }
 ],
 "metadata": {
  "kernelspec": {
   "display_name": "Python 3",
   "language": "python",
   "name": "python3"
  },
  "language_info": {
   "codemirror_mode": {
    "name": "ipython",
    "version": 3
   },
   "file_extension": ".py",
   "mimetype": "text/x-python",
   "name": "python",
   "nbconvert_exporter": "python",
   "pygments_lexer": "ipython3",
   "version": "3.7.9"
  }
 },
 "nbformat": 4,
 "nbformat_minor": 5
}
