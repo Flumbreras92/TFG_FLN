{
 "cells": [
  {
   "cell_type": "code",
   "execution_count": 1,
   "id": "regulated-thompson",
   "metadata": {},
   "outputs": [],
   "source": [
    "import numpy as np\n",
    "import h5py\n",
    "\n",
    "import tensorflow as tf\n",
    "import keras\n",
    "from keras.models import Sequential\n",
    "from keras.models import Model\n",
    "from keras.callbacks import EarlyStopping, ModelCheckpoint\n",
    "from keras.optimizers import Adam\n",
    "from keras.layers import Input, Flatten, Dense, Dropout,  Activation, Conv3D, MaxPooling3D, UpSampling3D, BatchNormalization, Activation, Reshape\n",
    "from keras.layers import Conv2D, MaxPooling2D\n",
    "#from keras.utils import multi_gpu_model\n",
    "\n",
    "from keras.optimizers import SGD\n",
    "from keras.layers.merge import concatenate, add\n",
    "\n",
    "#from keras.utils.io_utils import HDF5Matrix\n",
    "from keras.utils import plot_model\n",
    "from keras import optimizers\n",
    "\n",
    "\n",
    "import numpy as np\n",
    "from os import listdir\n",
    "from os.path import isfile, join\n",
    "import matplotlib.pyplot as plt\n",
    "from random import shuffle"
   ]
  },
  {
   "cell_type": "markdown",
   "id": "treated-mining",
   "metadata": {},
   "source": [
    "# STRUCTURE NETWORK 3D"
   ]
  },
  {
   "cell_type": "code",
   "execution_count": 3,
   "id": "convertible-checkout",
   "metadata": {},
   "outputs": [
    {
     "name": "stdout",
     "output_type": "stream",
     "text": [
      "Model: \"model\"\n",
      "_________________________________________________________________\n",
      "Layer (type)                 Output Shape              Param #   \n",
      "=================================================================\n",
      "input_2 (InputLayer)         [(None, 8, 128, 128, 3)]  0         \n",
      "_________________________________________________________________\n",
      "conv3d_2 (Conv3D)            (None, 8, 128, 128, 32)   12032     \n",
      "_________________________________________________________________\n",
      "batch_normalization_4 (Batch (None, 8, 128, 128, 32)   128       \n",
      "_________________________________________________________________\n",
      "activation_2 (Activation)    (None, 8, 128, 128, 32)   0         \n",
      "_________________________________________________________________\n",
      "batch_normalization_5 (Batch (None, 8, 128, 128, 32)   128       \n",
      "_________________________________________________________________\n",
      "max_pooling3d_2 (MaxPooling3 (None, 2, 16, 16, 32)     0         \n",
      "_________________________________________________________________\n",
      "dropout_2 (Dropout)          (None, 2, 16, 16, 32)     0         \n",
      "_________________________________________________________________\n",
      "conv3d_3 (Conv3D)            (None, 2, 16, 16, 64)     256064    \n",
      "_________________________________________________________________\n",
      "batch_normalization_6 (Batch (None, 2, 16, 16, 64)     256       \n",
      "_________________________________________________________________\n",
      "activation_3 (Activation)    (None, 2, 16, 16, 64)     0         \n",
      "_________________________________________________________________\n",
      "batch_normalization_7 (Batch (None, 2, 16, 16, 64)     256       \n",
      "_________________________________________________________________\n",
      "max_pooling3d_3 (MaxPooling3 (None, 1, 4, 4, 64)       0         \n",
      "_________________________________________________________________\n",
      "dropout_3 (Dropout)          (None, 1, 4, 4, 64)       0         \n",
      "_________________________________________________________________\n",
      "reshape_1 (Reshape)          (None, 1024)              0         \n",
      "_________________________________________________________________\n",
      "dense (Dense)                (None, 2)                 2050      \n",
      "=================================================================\n",
      "Total params: 270,914\n",
      "Trainable params: 270,530\n",
      "Non-trainable params: 384\n",
      "_________________________________________________________________\n"
     ]
    }
   ],
   "source": [
    "def conv3d_block(input_tensor, filters, kernel_size, activation_fun = \"linear\"):\n",
    "    # first layer\n",
    "    x = Conv3D(filters=filters, kernel_size=kernel_size, kernel_initializer=\"he_normal\", padding=\"same\")(input_tensor)\n",
    "    x = BatchNormalization()(x)\n",
    "    x = Activation(activation_fun)(x)\n",
    "\n",
    "    return x\n",
    "\n",
    "kernel_size = (5,5,5)\n",
    "act_fun = \"relu\"\n",
    "\n",
    "############### DEFINE SET OF INPUTS #################\n",
    "\n",
    "x = Input(shape=(8, 128, 128,3)) \n",
    "\n",
    "\n",
    "############## DEFINE PATH FOR INPUT 1 ##################\n",
    "\n",
    "\n",
    "c1 = conv3d_block (x, filters=32, kernel_size=kernel_size, activation_fun = act_fun )\n",
    "c1 = BatchNormalization()(c1)\n",
    "p1 = MaxPooling3D (pool_size=(4, 8, 8), padding='valid')(c1)\n",
    "p1 = Dropout(0.5)(p1)\n",
    "\n",
    "\n",
    "c2 = conv3d_block(p1, filters=64, kernel_size=kernel_size, activation_fun = act_fun )\n",
    "c2 = BatchNormalization()(c2)\n",
    "p2 = MaxPooling3D(pool_size=(2, 4, 4), padding='valid')(c2)\n",
    "p2 = Dropout(0.25)(p2)\n",
    "\n",
    "\n",
    "p2 = Reshape((1024,))(p2)\n",
    "\n",
    "\n",
    "d = Dense(2, activation = 'sigmoid')(p2)\n",
    "\n",
    "\n",
    "\n",
    "model = Model(x , d)\n",
    "model.compile(optimizer=\"Adam\", loss=tf.keras.losses.BinaryCrossentropy())\n",
    "model.summary()"
   ]
  },
  {
   "cell_type": "code",
   "execution_count": 6,
   "id": "absolute-integer",
   "metadata": {},
   "outputs": [
    {
     "name": "stderr",
     "output_type": "stream",
     "text": [
      "/cm/shared/apps/anaconda2/4.3.1/envs/jupyter3.7/lib/python3.7/site-packages/ipykernel_launcher.py:6: H5pyDeprecationWarning: The default file mode will change to 'r' (read-only) in h5py 3.0. To suppress this warning, pass the mode you need to h5py.File(), or set the global default h5.get_config().default_file_mode, or set the environment variable H5PY_DEFAULT_READONLY=1. Available modes are: 'r', 'r+', 'w', 'w-'/'x', 'a'. See the docs for details.\n",
      "  \n"
     ]
    }
   ],
   "source": [
    "class DataGenerator(keras.utils.Sequence):\n",
    "\n",
    "    def __init__(self, Directorio, batch_size = 5):\n",
    "        \n",
    "        self.batch_size = batch_size\n",
    "        self.Directorio = h5py.File(Directorio)\n",
    "\n",
    "    def __len__(self):\n",
    "        \n",
    "        return int((len(self.Directorio)/2) / self.batch_size)\n",
    "\n",
    "    \n",
    "    #Getitem nos devolvera los valores de X e Y para el indice de batch que le pida keras\n",
    "    def __getitem__(self, index):\n",
    "        \n",
    "        #Creamos dos listas vacias en las que se separaran los valores de X e Y de nuestro archivo\n",
    "        array_x = []\n",
    "        array_y = []\n",
    "        \n",
    "        #Numero de ejemplos que tenemos en nuestro dataset, dividimos entre dos por que la longitud total\n",
    "        #viene con el numero de X e Y\n",
    "        self.indexes = np.arange(int(len(self.Directorio)/2))\n",
    "        \n",
    "        #dependiendo del indice de batch, indexes nos dara la posicion de los datos que queremos extraer\n",
    "        indexes = self.indexes[index*self.batch_size:(index+1)*self.batch_size]\n",
    "        \n",
    "        #Recorremos el directorio y extraemos las X con sus frames y las Y con sus estados\n",
    "        for line in self.Directorio:\n",
    "\n",
    "            if line[0] == 'X':\n",
    "                array_x.append(self.Directorio[line])\n",
    "\n",
    "            if line [0] == 'Y':\n",
    "                array_y.append(self.Directorio[line])\n",
    "        \n",
    "        #dos nuevos listas en las que almacenaremos los datos correspondientes a las posiciones que nos pide\n",
    "        #el indice del batch\n",
    "        x = []\n",
    "        y = []\n",
    "        \n",
    "        for i in indexes:\n",
    "            x.append(array_x[i])\n",
    "            y.append(array_y[i])\n",
    "        \n",
    "        #convertimos la lista anterior en un array con shape (batch_size,8,512,512,3)\n",
    "        x_array = np.array(x)\n",
    "        \n",
    "        \n",
    "        #Keras no entiende de strings, por lo que pasamos esos strings a vectores con numeros\n",
    "        RE = [1,0] #vector para estado: reposo\n",
    "        EA = [0,1] #vector para estado: ataque\n",
    "        \n",
    "        #lista donde almacenamos los vectores asociados a su string correspondiente\n",
    "        y_strings = []\n",
    "        \n",
    "        for i in y:\n",
    "\n",
    "            if i.value == 'RE':\n",
    "                y_strings.append(RE)\n",
    "\n",
    "            else:\n",
    "                y_strings.append(EA)\n",
    "                \n",
    "        #convertimos la lista anterior en un array con shape (batch_size,2)\n",
    "        y_array = np.array(y_strings)\n",
    "\n",
    "        X, y = x_array,y_array\n",
    "\n",
    "        return X,y\n",
    "\n",
    "batch_size = 175\n",
    "\n",
    "\n",
    "train_samples =  '/mnt/MD1200A/lconcha/videos/128x128/Datasets_training/Combinado_training'\n",
    "test_samples =  '/mnt/MD1200A/lconcha/videos/128x128/Datasets_training/Combinado_validation'\n",
    "\n",
    "training_generator   = DataGenerator(train_samples, batch_size )\n",
    "validation_generator = DataGenerator(test_samples,  batch_size )"
   ]
  },
  {
   "cell_type": "markdown",
   "id": "cosmetic-bennett",
   "metadata": {},
   "source": [
    "# COMPILE MODEL"
   ]
  },
  {
   "cell_type": "code",
   "execution_count": 8,
   "id": "nasty-maple",
   "metadata": {},
   "outputs": [
    {
     "name": "stderr",
     "output_type": "stream",
     "text": [
      "/cm/shared/apps/anaconda2/4.3.1/envs/jupyter3.7/lib/python3.7/site-packages/ipykernel_launcher.py:5: H5pyDeprecationWarning: The default file mode will change to 'r' (read-only) in h5py 3.0. To suppress this warning, pass the mode you need to h5py.File(), or set the global default h5.get_config().default_file_mode, or set the environment variable H5PY_DEFAULT_READONLY=1. Available modes are: 'r', 'r+', 'w', 'w-'/'x', 'a'. See the docs for details.\n",
      "  \"\"\"\n",
      "/cm/shared/apps/anaconda2/4.3.1/envs/jupyter3.7/lib/python3.7/site-packages/ipykernel_launcher.py:9: H5pyDeprecationWarning: The default file mode will change to 'r' (read-only) in h5py 3.0. To suppress this warning, pass the mode you need to h5py.File(), or set the global default h5.get_config().default_file_mode, or set the environment variable H5PY_DEFAULT_READONLY=1. Available modes are: 'r', 'r+', 'w', 'w-'/'x', 'a'. See the docs for details.\n",
      "  if __name__ == '__main__':\n",
      "/cm/shared/apps/anaconda2/4.3.1/envs/jupyter3.7/lib/python3.7/site-packages/ipykernel_launcher.py:58: H5pyDeprecationWarning: dataset.value has been deprecated. Use dataset[()] instead.\n"
     ]
    },
    {
     "name": "stdout",
     "output_type": "stream",
     "text": [
      "Epoch 1/50\n",
      "8/8 [==============================] - 712s 89s/step - loss: 1.4100 - accuracy: 0.5818 - val_loss: 4.6264 - val_accuracy: 0.4914\n",
      "Epoch 2/50\n",
      "8/8 [==============================] - 711s 89s/step - loss: 0.9764 - accuracy: 0.6397 - val_loss: 2.5037 - val_accuracy: 0.5543\n",
      "Epoch 3/50\n",
      "8/8 [==============================] - 707s 88s/step - loss: 0.8673 - accuracy: 0.6689 - val_loss: 2.2323 - val_accuracy: 0.5257\n",
      "Epoch 4/50\n",
      "8/8 [==============================] - 709s 89s/step - loss: 0.8227 - accuracy: 0.6516 - val_loss: 1.5651 - val_accuracy: 0.5400\n",
      "Epoch 5/50\n",
      "8/8 [==============================] - 708s 89s/step - loss: 0.8133 - accuracy: 0.6575 - val_loss: 1.2271 - val_accuracy: 0.5514\n",
      "Epoch 6/50\n",
      "8/8 [==============================] - 710s 89s/step - loss: 0.7625 - accuracy: 0.6950 - val_loss: 1.0752 - val_accuracy: 0.5771\n",
      "Epoch 7/50\n",
      "8/8 [==============================] - 709s 89s/step - loss: 0.7509 - accuracy: 0.6819 - val_loss: 1.0705 - val_accuracy: 0.5657\n",
      "Epoch 8/50\n",
      "8/8 [==============================] - 713s 89s/step - loss: 0.7417 - accuracy: 0.6606 - val_loss: 0.7962 - val_accuracy: 0.6514\n",
      "Epoch 9/50\n",
      "8/8 [==============================] - 708s 89s/step - loss: 0.7288 - accuracy: 0.7062 - val_loss: 0.6734 - val_accuracy: 0.7029\n",
      "Epoch 10/50\n",
      "8/8 [==============================] - 709s 89s/step - loss: 0.7137 - accuracy: 0.6750 - val_loss: 0.8303 - val_accuracy: 0.6114\n",
      "Epoch 11/50\n",
      "8/8 [==============================] - 707s 89s/step - loss: 0.6883 - accuracy: 0.7069 - val_loss: 0.7029 - val_accuracy: 0.6914\n",
      "Epoch 12/50\n",
      "8/8 [==============================] - 728s 92s/step - loss: 0.7119 - accuracy: 0.6776 - val_loss: 0.7367 - val_accuracy: 0.6743\n",
      "Epoch 13/50\n",
      "8/8 [==============================] - 718s 90s/step - loss: 0.6801 - accuracy: 0.7047 - val_loss: 0.6308 - val_accuracy: 0.7314\n",
      "Epoch 14/50\n",
      "8/8 [==============================] - 706s 89s/step - loss: 0.7050 - accuracy: 0.6965 - val_loss: 0.6169 - val_accuracy: 0.7543\n",
      "Epoch 15/50\n",
      "8/8 [==============================] - 711s 89s/step - loss: 0.7039 - accuracy: 0.6651 - val_loss: 0.7009 - val_accuracy: 0.6857\n",
      "Epoch 16/50\n",
      "8/8 [==============================] - 711s 89s/step - loss: 0.6639 - accuracy: 0.7198 - val_loss: 0.5788 - val_accuracy: 0.7571\n",
      "Epoch 17/50\n",
      "8/8 [==============================] - 701s 88s/step - loss: 0.6271 - accuracy: 0.7306 - val_loss: 0.6353 - val_accuracy: 0.7429\n",
      "Epoch 18/50\n",
      "8/8 [==============================] - 703s 88s/step - loss: 0.6276 - accuracy: 0.7302 - val_loss: 0.5808 - val_accuracy: 0.7714\n",
      "Epoch 19/50\n",
      "8/8 [==============================] - 709s 89s/step - loss: 0.6679 - accuracy: 0.7081 - val_loss: 0.6416 - val_accuracy: 0.7343\n",
      "Epoch 20/50\n",
      "8/8 [==============================] - 707s 89s/step - loss: 0.6213 - accuracy: 0.7373 - val_loss: 0.5784 - val_accuracy: 0.7771\n",
      "Epoch 21/50\n",
      "8/8 [==============================] - 705s 88s/step - loss: 0.6806 - accuracy: 0.6975 - val_loss: 0.5580 - val_accuracy: 0.7743\n",
      "Epoch 22/50\n",
      "8/8 [==============================] - 713s 89s/step - loss: 0.6376 - accuracy: 0.7234 - val_loss: 0.6297 - val_accuracy: 0.7543\n",
      "Epoch 23/50\n",
      "8/8 [==============================] - 707s 89s/step - loss: 0.6077 - accuracy: 0.7403 - val_loss: 0.6532 - val_accuracy: 0.7400\n",
      "Epoch 24/50\n",
      "8/8 [==============================] - 705s 88s/step - loss: 0.6536 - accuracy: 0.6911 - val_loss: 0.7140 - val_accuracy: 0.7143\n",
      "Epoch 25/50\n",
      "8/8 [==============================] - 709s 89s/step - loss: 0.6027 - accuracy: 0.7252 - val_loss: 0.6489 - val_accuracy: 0.7371\n",
      "Epoch 26/50\n",
      "8/8 [==============================] - 703s 88s/step - loss: 0.6182 - accuracy: 0.7369 - val_loss: 0.6093 - val_accuracy: 0.7600\n",
      "Epoch 27/50\n",
      "8/8 [==============================] - 708s 88s/step - loss: 0.6201 - accuracy: 0.7126 - val_loss: 0.6776 - val_accuracy: 0.7343\n",
      "Epoch 28/50\n",
      "8/8 [==============================] - 706s 88s/step - loss: 0.6045 - accuracy: 0.7304 - val_loss: 0.6152 - val_accuracy: 0.7543\n",
      "Epoch 29/50\n",
      "8/8 [==============================] - 710s 89s/step - loss: 0.6089 - accuracy: 0.7254 - val_loss: 0.5720 - val_accuracy: 0.7771\n",
      "Epoch 30/50\n",
      "8/8 [==============================] - 711s 89s/step - loss: 0.5869 - accuracy: 0.7263 - val_loss: 0.5663 - val_accuracy: 0.7657\n",
      "Epoch 31/50\n",
      "8/8 [==============================] - 710s 89s/step - loss: 0.5846 - accuracy: 0.7394 - val_loss: 0.5746 - val_accuracy: 0.7714\n",
      "Epoch 32/50\n",
      "8/8 [==============================] - 712s 89s/step - loss: 0.5816 - accuracy: 0.7524 - val_loss: 0.5260 - val_accuracy: 0.7800\n",
      "Epoch 33/50\n",
      "8/8 [==============================] - 709s 89s/step - loss: 0.6159 - accuracy: 0.7189 - val_loss: 0.5238 - val_accuracy: 0.7800\n",
      "Epoch 34/50\n",
      "8/8 [==============================] - 708s 89s/step - loss: 0.5775 - accuracy: 0.7288 - val_loss: 0.5537 - val_accuracy: 0.7714\n",
      "Epoch 35/50\n",
      "8/8 [==============================] - 705s 88s/step - loss: 0.5842 - accuracy: 0.7466 - val_loss: 0.5157 - val_accuracy: 0.7771\n",
      "Epoch 36/50\n",
      "8/8 [==============================] - 713s 89s/step - loss: 0.5796 - accuracy: 0.7372 - val_loss: 0.5297 - val_accuracy: 0.7800\n",
      "Epoch 37/50\n",
      "8/8 [==============================] - 730s 92s/step - loss: 0.5553 - accuracy: 0.7554 - val_loss: 0.5162 - val_accuracy: 0.7800\n",
      "Epoch 38/50\n",
      "8/8 [==============================] - 858s 108s/step - loss: 0.5669 - accuracy: 0.7321 - val_loss: 0.5162 - val_accuracy: 0.7800\n",
      "Epoch 39/50\n",
      "8/8 [==============================] - 880s 110s/step - loss: 0.5444 - accuracy: 0.7761 - val_loss: 0.4977 - val_accuracy: 0.7743\n",
      "Epoch 40/50\n",
      "8/8 [==============================] - 872s 109s/step - loss: 0.5492 - accuracy: 0.7467 - val_loss: 0.5027 - val_accuracy: 0.7771\n",
      "Epoch 41/50\n",
      "8/8 [==============================] - 881s 110s/step - loss: 0.5390 - accuracy: 0.7666 - val_loss: 0.4932 - val_accuracy: 0.7714\n",
      "Epoch 42/50\n",
      "8/8 [==============================] - 873s 109s/step - loss: 0.5280 - accuracy: 0.7738 - val_loss: 0.5645 - val_accuracy: 0.6286\n",
      "Epoch 43/50\n",
      "8/8 [==============================] - 870s 109s/step - loss: 0.5935 - accuracy: 0.7230 - val_loss: 0.5244 - val_accuracy: 0.7257\n",
      "Epoch 44/50\n",
      "8/8 [==============================] - 884s 111s/step - loss: 0.5467 - accuracy: 0.7563 - val_loss: 0.4879 - val_accuracy: 0.7743\n",
      "Epoch 45/50\n",
      "8/8 [==============================] - 901s 112s/step - loss: 0.5646 - accuracy: 0.7525 - val_loss: 0.4922 - val_accuracy: 0.7714\n",
      "Epoch 46/50\n",
      "8/8 [==============================] - 905s 113s/step - loss: 0.5484 - accuracy: 0.7565 - val_loss: 0.4957 - val_accuracy: 0.7743\n",
      "Epoch 47/50\n",
      "8/8 [==============================] - 956s 121s/step - loss: 0.5354 - accuracy: 0.7489 - val_loss: 0.4882 - val_accuracy: 0.7743\n",
      "Epoch 48/50\n",
      "8/8 [==============================] - 1030s 128s/step - loss: 0.5338 - accuracy: 0.7490 - val_loss: 0.5202 - val_accuracy: 0.7800\n",
      "Epoch 49/50\n",
      "8/8 [==============================] - 857s 107s/step - loss: 0.5689 - accuracy: 0.7449 - val_loss: 0.5317 - val_accuracy: 0.7771\n",
      "Epoch 50/50\n",
      "8/8 [==============================] - 849s 106s/step - loss: 0.5448 - accuracy: 0.7485 - val_loss: 0.5188 - val_accuracy: 0.7829\n"
     ]
    }
   ],
   "source": [
    "model.compile(optimizer=\"Adam\", loss=tf.keras.losses.BinaryCrossentropy(), metrics=['accuracy'])\n",
    "\n",
    "\n",
    "history = model.fit_generator(generator=training_generator,\n",
    "                    steps_per_epoch= int((len(h5py.File(train_samples))/2))// batch_size,\n",
    "                    epochs=50,\n",
    "                    verbose=True,\n",
    "                    validation_data=validation_generator,\n",
    "                    validation_steps=int((len(h5py.File(test_samples))/2))// batch_size,\n",
    "                    use_multiprocessing=False,\n",
    "                    workers=0,\n",
    "                    max_queue_size=5)"
   ]
  },
  {
   "cell_type": "markdown",
   "id": "military-millennium",
   "metadata": {},
   "source": [
    "# SAVE MODEL"
   ]
  },
  {
   "cell_type": "code",
   "execution_count": 10,
   "id": "infectious-unemployment",
   "metadata": {},
   "outputs": [
    {
     "name": "stdout",
     "output_type": "stream",
     "text": [
      "Saved model to disk\n"
     ]
    }
   ],
   "source": [
    "from keras.models import model_from_json\n",
    "\n",
    "dirmodel = '/mnt/MD1200A/lconcha/videos/Modelos/2layers_dropout/'\n",
    "\n",
    "# Guardar configuración JSON en el disco\n",
    "model_json = model.to_json()\n",
    "with open(dirmodel + \"2layers_dropout.json\", \"w\") as json_file:\n",
    "    json_file.write(model_json)\n",
    "# Guardar pesos en el disco\n",
    "model.save_weights(dirmodel + \"2layers_dropout.h5\")\n",
    "print(\"Saved model to disk\")"
   ]
  },
  {
   "cell_type": "markdown",
   "id": "intended-portrait",
   "metadata": {},
   "source": [
    "# TESTING PREDICTIONS"
   ]
  },
  {
   "cell_type": "code",
   "execution_count": 12,
   "id": "nearby-activation",
   "metadata": {},
   "outputs": [
    {
     "name": "stderr",
     "output_type": "stream",
     "text": [
      "/cm/shared/apps/anaconda2/4.3.1/envs/jupyter3.7/lib/python3.7/site-packages/ipykernel_launcher.py:6: H5pyDeprecationWarning: The default file mode will change to 'r' (read-only) in h5py 3.0. To suppress this warning, pass the mode you need to h5py.File(), or set the global default h5.get_config().default_file_mode, or set the environment variable H5PY_DEFAULT_READONLY=1. Available modes are: 'r', 'r+', 'w', 'w-'/'x', 'a'. See the docs for details.\n",
      "  \n",
      "/cm/shared/apps/anaconda2/4.3.1/envs/jupyter3.7/lib/python3.7/site-packages/ipykernel_launcher.py:58: H5pyDeprecationWarning: dataset.value has been deprecated. Use dataset[()] instead.\n"
     ]
    },
    {
     "name": "stdout",
     "output_type": "stream",
     "text": [
      "(493, 8, 128, 128, 3)\n"
     ]
    }
   ],
   "source": [
    "test_samples = '/mnt/MD1200A/lconcha/videos/128x128/Datasets_training/Combinado_test'\n",
    "\n",
    "#con esto vemos el numero de ejemplos que hay en el dataset de test\n",
    "f = h5py.File(test_samples, 'r')\n",
    "a_group_key = list(f.keys())\n",
    "X_test = int(len(a_group_key)/2)\n",
    "\n",
    "\n",
    "batch_size = X_test\n",
    "\n",
    "test_generator = DataGenerator(test_samples, batch_size )\n",
    "\n",
    "test_generator.batch_size = X_test\n",
    "X, Y = test_generator.__getitem__(np.random.randint(0,1))\n",
    "prediction = model.predict(X)\n",
    "\n",
    "array_prediction = np.argmax(prediction, axis=1)\n",
    "array_Y = np.argmax(Y, axis=1)\n",
    "\n",
    "print(X.shape)"
   ]
  },
  {
   "cell_type": "markdown",
   "id": "presidential-girlfriend",
   "metadata": {},
   "source": [
    "# GONFUSION MATRIX AND GRAPHS"
   ]
  },
  {
   "cell_type": "code",
   "execution_count": 13,
   "id": "checked-ecuador",
   "metadata": {},
   "outputs": [
    {
     "name": "stdout",
     "output_type": "stream",
     "text": [
      "[[159  88]\n",
      " [ 17 229]]\n",
      "     RE   EA\n",
      "RE  159   88\n",
      "EA   17  229\n"
     ]
    },
    {
     "data": {
      "image/png": "[encoded data removed]",
      "text/plain": [
       "<Figure size 432x288 with 2 Axes>"
      ]
     },
     "metadata": {
      "needs_background": "light"
     },
     "output_type": "display_data"
    }
   ],
   "source": [
    "from sklearn.metrics import confusion_matrix\n",
    "import pandas as pd\n",
    "import seaborn as sns\n",
    "\n",
    "confm = confusion_matrix(array_Y,array_prediction)\n",
    "print(confm)\n",
    "\n",
    "columnas = ['RE','EA']\n",
    "df_cm = pd.DataFrame(confm, index=columnas, columns=columnas)\n",
    "\n",
    "print(df_cm)\n",
    "\n",
    "grafica = sns.heatmap(df_cm, cmap='Blues', annot=True, fmt=\"d\")\n",
    "\n",
    "\n",
    "plt.ylabel('Valores verdaderos')\n",
    "plt.xlabel('Predicciones')\n",
    "grafica.set(xlabel='Verdadero',ylabel='Predicción')\n",
    "plt.show\n",
    "plt.savefig('/mnt/MD1200A/lconcha/videos/Modelos/2layers_dropout/confm_2layers_dropout.png', dpi = 500)"
   ]
  },
  {
   "cell_type": "code",
   "execution_count": 14,
   "id": "boring-cradle",
   "metadata": {},
   "outputs": [
    {
     "name": "stdout",
     "output_type": "stream",
     "text": [
      "[[0.32251521 0.17849899]\n",
      " [0.03448276 0.46450304]]\n",
      "          RE        EA\n",
      "RE  0.322515  0.178499\n",
      "EA  0.034483  0.464503\n"
     ]
    },
    {
     "data": {
      "image/png": "[encoded data removed]",
      "text/plain": [
       "<Figure size 432x288 with 2 Axes>"
      ]
     },
     "metadata": {
      "needs_background": "light"
     },
     "output_type": "display_data"
    }
   ],
   "source": [
    "confm = confusion_matrix(array_Y,array_prediction)\n",
    "confm = confm/493\n",
    "print(confm)\n",
    "\n",
    "columnas = ['RE','EA']\n",
    "df_cm = pd.DataFrame(confm, index=columnas, columns=columnas)\n",
    "\n",
    "print(df_cm)\n",
    "\n",
    "grafica = sns.heatmap(df_cm, cmap='Blues', annot=True)\n",
    "\n",
    "\n",
    "plt.ylabel('Valores verdaderos')\n",
    "plt.xlabel('Predicciones')\n",
    "grafica.set(xlabel='Verdadero',ylabel='Predicción')\n",
    "plt.show\n",
    "plt.savefig('/mnt/MD1200A/lconcha/videos//Modelos/2layers_dropout/percent_confm_2layers_dropout.png', dpi = 500)"
   ]
  },
  {
   "cell_type": "code",
   "execution_count": 15,
   "id": "female-voluntary",
   "metadata": {},
   "outputs": [
    {
     "data": {
      "image/png": "[encoded data removed]",
      "text/plain": [
       "<Figure size 432x288 with 1 Axes>"
      ]
     },
     "metadata": {
      "needs_background": "light"
     },
     "output_type": "display_data"
    }
   ],
   "source": [
    "plt.plot(history.history['loss'], label='loss')\n",
    "plt.plot(history.history['val_loss'], label = 'val_loss')\n",
    "plt.xlabel('Epoch')\n",
    "plt.ylabel('loss')\n",
    "plt.legend(loc='upper right')\n",
    "plt.savefig('/mnt/MD1200A/lconcha/videos/Modelos/2layers_dropout/loss_2layers_dropout.png', dpi = 500)"
   ]
  },
  {
   "cell_type": "code",
   "execution_count": 16,
   "id": "controlled-monitor",
   "metadata": {},
   "outputs": [
    {
     "data": {
      "image/png": "[encoded data removed]",
      "text/plain": [
       "<Figure size 432x288 with 1 Axes>"
      ]
     },
     "metadata": {
      "needs_background": "light"
     },
     "output_type": "display_data"
    }
   ],
   "source": [
    "plt.plot(history.history['accuracy'], label='accuracy')\n",
    "plt.plot(history.history['val_accuracy'], label = 'val_accuracy')\n",
    "plt.xlabel('Epoch')\n",
    "plt.ylabel('Accuracy')\n",
    "plt.ylim([0.5, 1])\n",
    "plt.legend(loc='lower right')\n",
    "plt.savefig('/mnt/MD1200A/lconcha/videos/Modelos/2layers_dropout/accuary_2layers_dropout.png', dpi = 500)"
   ]
  },
  {
   "cell_type": "code",
   "execution_count": 27,
   "id": "neither-bride",
   "metadata": {},
   "outputs": [
    {
     "name": "stdout",
     "output_type": "stream",
     "text": [
      "[[0.29817444 0.20283976]\n",
      " [0.01014199 0.48884381]] [2.02828884 0.89261943 0.77637815 0.73262626 0.7352336  0.71549493\n",
      " 0.67227149 0.66715801 0.67444861 0.65768361 0.65734583 0.60947871\n",
      " 0.62901616 0.60750008 0.59852356 0.60899746 0.59207594 0.59757394\n",
      " 0.56041545 0.56473994 0.56305569 0.55961519 0.55350357 0.56021708\n",
      " 0.54680365 0.54485804 0.51904595 0.51499099 0.54043597 0.53410906\n",
      " 0.50669742 0.49287191 0.48423532 0.4723492  0.49165249 0.47541204\n",
      " 0.4906666  0.47868931 0.47513616 0.46743739 0.47820228 0.45908797\n",
      " 0.46702716 0.45159057 0.46265286 0.46308628 0.45076895 0.43423757\n",
      " 0.43307611 0.43894741 0.44391763 0.44169879 0.43807739 0.42200002\n",
      " 0.40406355 0.41484275 0.42422068 0.41387668 0.41044033 0.41441542\n",
      " 0.41023883 0.40384507 0.4088352  0.40638518 0.3831341  0.39323652\n",
      " 0.41161847 0.39086077 0.39439777 0.3574867  0.37694162 0.38103116\n",
      " 0.34822512 0.35870656 0.33125338 0.33229956 0.33612388 0.33920121\n",
      " 0.33990052 0.33783427 0.32950047 0.34594929 0.34192184 0.34105855\n",
      " 0.32877028 0.34239185 0.3434425  0.31958008 0.32251972 0.33069977\n",
      " 0.31478155 0.30622146 0.30739358 0.32680783 0.37195453 0.34202513\n",
      " 0.31961021 0.33527106 0.32484049 0.30937418] [ 6.23605347 25.70137024 22.87552643 12.31645775  8.10462379  7.39516735\n",
      "  5.74336767  4.25733185  3.15807962  2.75796819  2.85765719  1.81089509\n",
      "  2.04974127  1.30426228  1.59560549  1.55903482  1.21527898  1.1448288\n",
      "  0.91294611  0.72333306  0.66869611  0.60637867  0.92320907  0.68868542\n",
      "  0.52147067  0.64659476  0.69190395  0.52522755  0.69491178  0.60722172\n",
      "  0.51929051  0.55775243  0.57532328  0.51400536  0.57507491  0.56172609\n",
      "  0.53639072  0.56367093  0.5601818   0.60861528  0.53699577  0.49739364\n",
      "  0.52907634  0.5757606   0.49486181  0.49589512  0.504996    0.47636402\n",
      "  0.4958609   0.53914601  0.49528807  0.478432    0.48361233  0.53335577\n",
      "  0.73319042  0.60685211  0.46559152  0.43002537  0.53577209  0.74445468\n",
      "  0.43471158  0.42472818  0.43404976  0.52534509  0.59106332  0.47058189\n",
      "  0.47426105  0.58548194  0.87234724  0.83127636  0.64985257  0.56665307\n",
      "  0.47247109  0.5596748   0.40912941  0.69036096  0.72958976  0.63730794\n",
      "  0.68196577  0.43883526  0.52321857  0.53769886  0.42371708  0.52014458\n",
      "  0.59549594  0.4410049   0.83107597  0.51862329  0.49100158  0.39896232\n",
      "  0.42140737  0.66966432  0.88554776  1.13346362  0.49116054  0.47491744\n",
      "  0.82659727  1.18764591  1.28096676  0.7648347 ]\n"
     ]
    }
   ],
   "source": [
    "#Con el siguiente codigo guardo los arrays de la matriz de confusion, los valores de loss y val_loss\n",
    "\n",
    "with open('/mnt/MD1200A/lconcha/videos/Modelos/2layers_dropout/2layers_dropout.npy', 'wb') as f:\n",
    "    np.save(f, confm)\n",
    "    np.save(f, history.history['loss'])\n",
    "    np.save(f, history.history['val_loss'])\n",
    "    \n",
    "with open('/mnt/MD1200A/lconcha/videos/Modelos/2layers_dropout/2layers_dropout.npy', 'rb') as f:\n",
    "    a = np.load(f)\n",
    "    b = np.load(f)\n",
    "    c = np.load(f)\n",
    "    \n",
    "print(a, b,c)"
   ]
  }
 ],
 "metadata": {
  "kernelspec": {
   "display_name": "Python 3",
   "language": "python",
   "name": "python3"
  },
  "language_info": {
   "codemirror_mode": {
    "name": "ipython",
    "version": 3
   },
   "file_extension": ".py",
   "mimetype": "text/x-python",
   "name": "python",
   "nbconvert_exporter": "python",
   "pygments_lexer": "ipython3",
   "version": "3.7.9"
  }
 },
 "nbformat": 4,
 "nbformat_minor": 5
}
