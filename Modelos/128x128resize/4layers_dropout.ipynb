{
 "cells": [
  {
   "cell_type": "code",
   "execution_count": 3,
   "id": "regulated-thompson",
   "metadata": {},
   "outputs": [],
   "source": [
    "import numpy as np\n",
    "import h5py\n",
    "\n",
    "import tensorflow as tf\n",
    "import keras\n",
    "from keras.models import Sequential\n",
    "from keras.models import Model\n",
    "from keras.callbacks import EarlyStopping, ModelCheckpoint\n",
    "from keras.optimizers import Adam\n",
    "from keras.layers import Input, Flatten, Dense, Dropout,  Activation, Conv3D, MaxPooling3D, UpSampling3D, BatchNormalization, Activation, Reshape\n",
    "from keras.layers import Conv2D, MaxPooling2D\n",
    "#from keras.utils import multi_gpu_model\n",
    "\n",
    "from keras.optimizers import SGD\n",
    "from keras.layers.merge import concatenate, add\n",
    "\n",
    "#from keras.utils.io_utils import HDF5Matrix\n",
    "from keras.utils import plot_model\n",
    "from keras import optimizers\n",
    "\n",
    "\n",
    "import numpy as np\n",
    "from os import listdir\n",
    "from os.path import isfile, join\n",
    "import matplotlib.pyplot as plt\n",
    "from random import shuffle"
   ]
  },
  {
   "cell_type": "markdown",
   "id": "treated-mining",
   "metadata": {},
   "source": [
    "# STRUCTURE NETWORK 3D"
   ]
  },
  {
   "cell_type": "code",
   "execution_count": 18,
   "id": "convertible-checkout",
   "metadata": {},
   "outputs": [
    {
     "name": "stdout",
     "output_type": "stream",
     "text": [
      "Model: \"model_3\"\n",
      "_________________________________________________________________\n",
      "Layer (type)                 Output Shape              Param #   \n",
      "=================================================================\n",
      "input_11 (InputLayer)        [(None, 8, 128, 128, 3)]  0         \n",
      "_________________________________________________________________\n",
      "conv3d_40 (Conv3D)           (None, 8, 128, 128, 32)   12032     \n",
      "_________________________________________________________________\n",
      "batch_normalization_80 (Batc (None, 8, 128, 128, 32)   128       \n",
      "_________________________________________________________________\n",
      "activation_40 (Activation)   (None, 8, 128, 128, 32)   0         \n",
      "_________________________________________________________________\n",
      "batch_normalization_81 (Batc (None, 8, 128, 128, 32)   128       \n",
      "_________________________________________________________________\n",
      "max_pooling3d_40 (MaxPooling (None, 2, 32, 32, 32)     0         \n",
      "_________________________________________________________________\n",
      "dropout_40 (Dropout)         (None, 2, 32, 32, 32)     0         \n",
      "_________________________________________________________________\n",
      "conv3d_41 (Conv3D)           (None, 2, 32, 32, 32)     128032    \n",
      "_________________________________________________________________\n",
      "batch_normalization_82 (Batc (None, 2, 32, 32, 32)     128       \n",
      "_________________________________________________________________\n",
      "activation_41 (Activation)   (None, 2, 32, 32, 32)     0         \n",
      "_________________________________________________________________\n",
      "batch_normalization_83 (Batc (None, 2, 32, 32, 32)     128       \n",
      "_________________________________________________________________\n",
      "max_pooling3d_41 (MaxPooling (None, 1, 16, 16, 32)     0         \n",
      "_________________________________________________________________\n",
      "dropout_41 (Dropout)         (None, 1, 16, 16, 32)     0         \n",
      "_________________________________________________________________\n",
      "conv3d_42 (Conv3D)           (None, 1, 16, 16, 64)     256064    \n",
      "_________________________________________________________________\n",
      "batch_normalization_84 (Batc (None, 1, 16, 16, 64)     256       \n",
      "_________________________________________________________________\n",
      "activation_42 (Activation)   (None, 1, 16, 16, 64)     0         \n",
      "_________________________________________________________________\n",
      "batch_normalization_85 (Batc (None, 1, 16, 16, 64)     256       \n",
      "_________________________________________________________________\n",
      "max_pooling3d_42 (MaxPooling (None, 1, 4, 4, 64)       0         \n",
      "_________________________________________________________________\n",
      "dropout_42 (Dropout)         (None, 1, 4, 4, 64)       0         \n",
      "_________________________________________________________________\n",
      "conv3d_43 (Conv3D)           (None, 1, 4, 4, 128)      1024128   \n",
      "_________________________________________________________________\n",
      "batch_normalization_86 (Batc (None, 1, 4, 4, 128)      512       \n",
      "_________________________________________________________________\n",
      "activation_43 (Activation)   (None, 1, 4, 4, 128)      0         \n",
      "_________________________________________________________________\n",
      "batch_normalization_87 (Batc (None, 1, 4, 4, 128)      512       \n",
      "_________________________________________________________________\n",
      "max_pooling3d_43 (MaxPooling (None, 1, 2, 2, 128)      0         \n",
      "_________________________________________________________________\n",
      "dropout_43 (Dropout)         (None, 1, 2, 2, 128)      0         \n",
      "_________________________________________________________________\n",
      "reshape_10 (Reshape)         (None, 512)               0         \n",
      "_________________________________________________________________\n",
      "dense_3 (Dense)              (None, 2)                 1026      \n",
      "=================================================================\n",
      "Total params: 1,423,330\n",
      "Trainable params: 1,422,306\n",
      "Non-trainable params: 1,024\n",
      "_________________________________________________________________\n"
     ]
    }
   ],
   "source": [
    "def conv3d_block(input_tensor, filters, kernel_size, activation_fun = \"linear\"):\n",
    "    # first layer\n",
    "    x = Conv3D(filters=filters, kernel_size=kernel_size, kernel_initializer=\"he_normal\", padding=\"same\")(input_tensor)\n",
    "    x = BatchNormalization()(x)\n",
    "    x = Activation(activation_fun)(x)\n",
    "\n",
    "    return x\n",
    "\n",
    "kernel_size = (5,5,5)\n",
    "act_fun = \"relu\"\n",
    "\n",
    "############### DEFINE SET OF INPUTS #################\n",
    "\n",
    "x = Input(shape=(8, 128, 128,3)) \n",
    "\n",
    "\n",
    "############## DEFINE PATH FOR INPUT 1 ##################\n",
    "\n",
    "\n",
    "c1 = conv3d_block (x, filters=32, kernel_size=kernel_size, activation_fun = act_fun )\n",
    "c1 = BatchNormalization()(c1)\n",
    "p1 = MaxPooling3D (pool_size=(4, 4, 4), padding='valid')(c1)\n",
    "p1 = Dropout(0.5)(p1)\n",
    "\n",
    "c2 = conv3d_block (p1, filters=32, kernel_size=kernel_size, activation_fun = act_fun )\n",
    "c2 = BatchNormalization()(c2)\n",
    "p2 = MaxPooling3D (pool_size=(2, 2, 2), padding='valid')(c2)\n",
    "p2 = Dropout(0.25)(p2)\n",
    "\n",
    "\n",
    "c3 = conv3d_block(p2, filters=64, kernel_size=kernel_size, activation_fun = act_fun )\n",
    "c3 = BatchNormalization()(c3)\n",
    "p3 = MaxPooling3D(pool_size=(1, 4, 4), padding='valid')(c3)\n",
    "p3 = Dropout(0.25)(p3)\n",
    "\n",
    "\n",
    "c4 = conv3d_block(p3, filters=128, kernel_size=kernel_size, activation_fun = act_fun )\n",
    "c4 = BatchNormalization()(c4)\n",
    "p4 = MaxPooling3D(pool_size=(1, 2, 2), padding='valid')(c4)\n",
    "p4 = Dropout(0.25)(p4)\n",
    "\n",
    "\n",
    "p4 = Reshape((512,))(p4)\n",
    "\n",
    "\n",
    "d = Dense(2, activation = 'sigmoid')(p4)\n",
    "\n",
    "\n",
    "\n",
    "model = Model(x , d)\n",
    "model.compile(optimizer=\"Adam\", loss=tf.keras.losses.BinaryCrossentropy())\n",
    "model.summary()"
   ]
  },
  {
   "cell_type": "code",
   "execution_count": 19,
   "id": "absolute-integer",
   "metadata": {},
   "outputs": [
    {
     "name": "stderr",
     "output_type": "stream",
     "text": [
      "/cm/shared/apps/anaconda2/4.3.1/envs/jupyter3.7/lib/python3.7/site-packages/ipykernel_launcher.py:6: H5pyDeprecationWarning: The default file mode will change to 'r' (read-only) in h5py 3.0. To suppress this warning, pass the mode you need to h5py.File(), or set the global default h5.get_config().default_file_mode, or set the environment variable H5PY_DEFAULT_READONLY=1. Available modes are: 'r', 'r+', 'w', 'w-'/'x', 'a'. See the docs for details.\n",
      "  \n"
     ]
    }
   ],
   "source": [
    "class DataGenerator(keras.utils.Sequence):\n",
    "\n",
    "    def __init__(self, Directorio, batch_size = 5):\n",
    "        \n",
    "        self.batch_size = batch_size\n",
    "        self.Directorio = h5py.File(Directorio)\n",
    "\n",
    "    def __len__(self):\n",
    "        \n",
    "        return int((len(self.Directorio)/2) / self.batch_size)\n",
    "\n",
    "    \n",
    "    #Getitem nos devolvera los valores de X e Y para el indice de batch que le pida keras\n",
    "    def __getitem__(self, index):\n",
    "        \n",
    "        #Creamos dos listas vacias en las que se separaran los valores de X e Y de nuestro archivo\n",
    "        array_x = []\n",
    "        array_y = []\n",
    "        \n",
    "        #Numero de ejemplos que tenemos en nuestro dataset, dividimos entre dos por que la longitud total\n",
    "        #viene con el numero de X e Y\n",
    "        self.indexes = np.arange(int(len(self.Directorio)/2))\n",
    "        \n",
    "        #dependiendo del indice de batch, indexes nos dara la posicion de los datos que queremos extraer\n",
    "        indexes = self.indexes[index*self.batch_size:(index+1)*self.batch_size]\n",
    "        \n",
    "        #Recorremos el directorio y extraemos las X con sus frames y las Y con sus estados\n",
    "        for line in self.Directorio:\n",
    "\n",
    "            if line[0] == 'X':\n",
    "                array_x.append(self.Directorio[line])\n",
    "\n",
    "            if line [0] == 'Y':\n",
    "                array_y.append(self.Directorio[line])\n",
    "        \n",
    "        #dos nuevos listas en las que almacenaremos los datos correspondientes a las posiciones que nos pide\n",
    "        #el indice del batch\n",
    "        x = []\n",
    "        y = []\n",
    "        \n",
    "        for i in indexes:\n",
    "            x.append(array_x[i])\n",
    "            y.append(array_y[i])\n",
    "        \n",
    "        #convertimos la lista anterior en un array con shape (batch_size,8,512,512,3)\n",
    "        x_array = np.array(x)\n",
    "        \n",
    "        \n",
    "        #Keras no entiende de strings, por lo que pasamos esos strings a vectores con numeros\n",
    "        RE = [1,0] #vector para estado: reposo\n",
    "        EA = [0,1] #vector para estado: ataque\n",
    "        \n",
    "        #lista donde almacenamos los vectores asociados a su string correspondiente\n",
    "        y_strings = []\n",
    "        \n",
    "        for i in y:\n",
    "\n",
    "            if i.value == 'RE':\n",
    "                y_strings.append(RE)\n",
    "\n",
    "            else:\n",
    "                y_strings.append(EA)\n",
    "                \n",
    "        #convertimos la lista anterior en un array con shape (batch_size,2)\n",
    "        y_array = np.array(y_strings)\n",
    "\n",
    "        X, y = x_array,y_array\n",
    "\n",
    "        return X,y\n",
    "\n",
    "batch_size = 175\n",
    "\n",
    "\n",
    "train_samples =  '/mnt/MD1200A/lconcha/videos/Datasets_training/Combinado_training'\n",
    "test_samples =  '/mnt/MD1200A/lconcha/videos/Datasets_training/Combinado_validation'\n",
    "\n",
    "training_generator   = DataGenerator(train_samples, batch_size )\n",
    "validation_generator = DataGenerator(test_samples,  batch_size )"
   ]
  },
  {
   "cell_type": "markdown",
   "id": "cosmetic-bennett",
   "metadata": {},
   "source": [
    "# COMPILE MODEL"
   ]
  },
  {
   "cell_type": "code",
   "execution_count": 20,
   "id": "nasty-maple",
   "metadata": {},
   "outputs": [
    {
     "name": "stderr",
     "output_type": "stream",
     "text": [
      "/cm/shared/apps/anaconda2/4.3.1/envs/jupyter3.7/lib/python3.7/site-packages/ipykernel_launcher.py:5: H5pyDeprecationWarning: The default file mode will change to 'r' (read-only) in h5py 3.0. To suppress this warning, pass the mode you need to h5py.File(), or set the global default h5.get_config().default_file_mode, or set the environment variable H5PY_DEFAULT_READONLY=1. Available modes are: 'r', 'r+', 'w', 'w-'/'x', 'a'. See the docs for details.\n",
      "  \"\"\"\n",
      "/cm/shared/apps/anaconda2/4.3.1/envs/jupyter3.7/lib/python3.7/site-packages/ipykernel_launcher.py:9: H5pyDeprecationWarning: The default file mode will change to 'r' (read-only) in h5py 3.0. To suppress this warning, pass the mode you need to h5py.File(), or set the global default h5.get_config().default_file_mode, or set the environment variable H5PY_DEFAULT_READONLY=1. Available modes are: 'r', 'r+', 'w', 'w-'/'x', 'a'. See the docs for details.\n",
      "  if __name__ == '__main__':\n",
      "/cm/shared/apps/anaconda2/4.3.1/envs/jupyter3.7/lib/python3.7/site-packages/ipykernel_launcher.py:58: H5pyDeprecationWarning: dataset.value has been deprecated. Use dataset[()] instead.\n"
     ]
    },
    {
     "name": "stdout",
     "output_type": "stream",
     "text": [
      "Epoch 1/100\n",
      "8/8 [==============================] - 834s 104s/step - loss: 2.2946 - accuracy: 0.5659 - val_loss: 6.2361 - val_accuracy: 0.5686\n",
      "Epoch 2/100\n",
      "8/8 [==============================] - 828s 104s/step - loss: 0.9112 - accuracy: 0.5510 - val_loss: 25.7014 - val_accuracy: 0.4829\n",
      "Epoch 3/100\n",
      "8/8 [==============================] - 831s 104s/step - loss: 0.7737 - accuracy: 0.6308 - val_loss: 22.8755 - val_accuracy: 0.6314\n",
      "Epoch 4/100\n",
      "8/8 [==============================] - 826s 103s/step - loss: 0.7492 - accuracy: 0.6142 - val_loss: 12.3165 - val_accuracy: 0.4829\n",
      "Epoch 5/100\n",
      "8/8 [==============================] - 834s 104s/step - loss: 0.7350 - accuracy: 0.6434 - val_loss: 8.1046 - val_accuracy: 0.4829\n",
      "Epoch 6/100\n",
      "8/8 [==============================] - 825s 103s/step - loss: 0.7190 - accuracy: 0.6354 - val_loss: 7.3952 - val_accuracy: 0.4829\n",
      "Epoch 7/100\n",
      "8/8 [==============================] - 823s 103s/step - loss: 0.6759 - accuracy: 0.6455 - val_loss: 5.7434 - val_accuracy: 0.4829\n",
      "Epoch 8/100\n",
      "8/8 [==============================] - 823s 103s/step - loss: 0.6656 - accuracy: 0.6572 - val_loss: 4.2573 - val_accuracy: 0.4829\n",
      "Epoch 9/100\n",
      "8/8 [==============================] - 831s 104s/step - loss: 0.6822 - accuracy: 0.6612 - val_loss: 3.1581 - val_accuracy: 0.4829\n",
      "Epoch 10/100\n",
      "8/8 [==============================] - 843s 106s/step - loss: 0.6529 - accuracy: 0.6518 - val_loss: 2.7580 - val_accuracy: 0.4800\n",
      "Epoch 11/100\n",
      "8/8 [==============================] - 770s 96s/step - loss: 0.6706 - accuracy: 0.6734 - val_loss: 2.8577 - val_accuracy: 0.4800\n",
      "Epoch 12/100\n",
      "8/8 [==============================] - 761s 95s/step - loss: 0.6145 - accuracy: 0.6889 - val_loss: 1.8109 - val_accuracy: 0.5143\n",
      "Epoch 13/100\n",
      "8/8 [==============================] - 763s 95s/step - loss: 0.6180 - accuracy: 0.7204 - val_loss: 2.0497 - val_accuracy: 0.5029\n",
      "Epoch 14/100\n",
      "8/8 [==============================] - 761s 95s/step - loss: 0.6221 - accuracy: 0.7240 - val_loss: 1.3043 - val_accuracy: 0.5571\n",
      "Epoch 15/100\n",
      "8/8 [==============================] - 761s 95s/step - loss: 0.6121 - accuracy: 0.6981 - val_loss: 1.5956 - val_accuracy: 0.5429\n",
      "Epoch 16/100\n",
      "8/8 [==============================] - 757s 95s/step - loss: 0.6163 - accuracy: 0.7090 - val_loss: 1.5590 - val_accuracy: 0.5486\n",
      "Epoch 17/100\n",
      "8/8 [==============================] - 764s 96s/step - loss: 0.5901 - accuracy: 0.7285 - val_loss: 1.2153 - val_accuracy: 0.5457\n",
      "Epoch 18/100\n",
      "8/8 [==============================] - 768s 96s/step - loss: 0.5904 - accuracy: 0.7335 - val_loss: 1.1448 - val_accuracy: 0.5514\n",
      "Epoch 19/100\n",
      "8/8 [==============================] - 765s 96s/step - loss: 0.5575 - accuracy: 0.7494 - val_loss: 0.9129 - val_accuracy: 0.5600\n",
      "Epoch 20/100\n",
      "8/8 [==============================] - 762s 95s/step - loss: 0.5737 - accuracy: 0.7428 - val_loss: 0.7233 - val_accuracy: 0.6600\n",
      "Epoch 21/100\n",
      "8/8 [==============================] - 773s 97s/step - loss: 0.5641 - accuracy: 0.7509 - val_loss: 0.6687 - val_accuracy: 0.6771\n",
      "Epoch 22/100\n",
      "8/8 [==============================] - 769s 96s/step - loss: 0.5618 - accuracy: 0.7396 - val_loss: 0.6064 - val_accuracy: 0.7229\n",
      "Epoch 23/100\n",
      "8/8 [==============================] - 770s 97s/step - loss: 0.5521 - accuracy: 0.7520 - val_loss: 0.9232 - val_accuracy: 0.5771\n",
      "Epoch 24/100\n",
      "8/8 [==============================] - 769s 96s/step - loss: 0.5700 - accuracy: 0.7652 - val_loss: 0.6887 - val_accuracy: 0.6971\n",
      "Epoch 25/100\n",
      "8/8 [==============================] - 776s 97s/step - loss: 0.5329 - accuracy: 0.7712 - val_loss: 0.5215 - val_accuracy: 0.7486\n",
      "Epoch 26/100\n",
      "8/8 [==============================] - 780s 97s/step - loss: 0.5350 - accuracy: 0.7715 - val_loss: 0.6466 - val_accuracy: 0.7543\n",
      "Epoch 27/100\n",
      "8/8 [==============================] - 776s 97s/step - loss: 0.5213 - accuracy: 0.7535 - val_loss: 0.6919 - val_accuracy: 0.7171\n",
      "Epoch 28/100\n",
      "8/8 [==============================] - 771s 96s/step - loss: 0.5151 - accuracy: 0.7829 - val_loss: 0.5252 - val_accuracy: 0.7314\n",
      "Epoch 29/100\n",
      "8/8 [==============================] - 769s 96s/step - loss: 0.5245 - accuracy: 0.7652 - val_loss: 0.6949 - val_accuracy: 0.7229\n",
      "Epoch 30/100\n",
      "8/8 [==============================] - 771s 96s/step - loss: 0.5402 - accuracy: 0.7703 - val_loss: 0.6072 - val_accuracy: 0.7429\n",
      "Epoch 31/100\n",
      "8/8 [==============================] - 778s 97s/step - loss: 0.5103 - accuracy: 0.7828 - val_loss: 0.5193 - val_accuracy: 0.7686\n",
      "Epoch 32/100\n",
      "8/8 [==============================] - 771s 96s/step - loss: 0.5025 - accuracy: 0.7774 - val_loss: 0.5578 - val_accuracy: 0.7457\n",
      "Epoch 33/100\n",
      "8/8 [==============================] - 766s 96s/step - loss: 0.4854 - accuracy: 0.7941 - val_loss: 0.5753 - val_accuracy: 0.7314\n",
      "Epoch 34/100\n",
      "8/8 [==============================] - 773s 97s/step - loss: 0.4577 - accuracy: 0.8076 - val_loss: 0.5140 - val_accuracy: 0.7429\n",
      "Epoch 35/100\n",
      "8/8 [==============================] - 777s 98s/step - loss: 0.4839 - accuracy: 0.7804 - val_loss: 0.5751 - val_accuracy: 0.7743\n",
      "Epoch 36/100\n",
      "8/8 [==============================] - 778s 97s/step - loss: 0.4598 - accuracy: 0.8066 - val_loss: 0.5617 - val_accuracy: 0.7571\n",
      "Epoch 37/100\n",
      "8/8 [==============================] - 778s 97s/step - loss: 0.4941 - accuracy: 0.7861 - val_loss: 0.5364 - val_accuracy: 0.7371\n",
      "Epoch 38/100\n",
      "8/8 [==============================] - 770s 96s/step - loss: 0.4679 - accuracy: 0.8044 - val_loss: 0.5637 - val_accuracy: 0.7600\n",
      "Epoch 39/100\n",
      "8/8 [==============================] - 768s 96s/step - loss: 0.4673 - accuracy: 0.8011 - val_loss: 0.5602 - val_accuracy: 0.7657\n",
      "Epoch 40/100\n",
      "8/8 [==============================] - 786s 98s/step - loss: 0.4581 - accuracy: 0.7951 - val_loss: 0.6086 - val_accuracy: 0.7143\n",
      "Epoch 41/100\n",
      "8/8 [==============================] - 779s 98s/step - loss: 0.4723 - accuracy: 0.7825 - val_loss: 0.5370 - val_accuracy: 0.7686\n",
      "Epoch 42/100\n",
      "8/8 [==============================] - 776s 97s/step - loss: 0.4448 - accuracy: 0.8106 - val_loss: 0.4974 - val_accuracy: 0.7657\n",
      "Epoch 43/100\n",
      "8/8 [==============================] - 774s 97s/step - loss: 0.4574 - accuracy: 0.8028 - val_loss: 0.5291 - val_accuracy: 0.7314\n",
      "Epoch 44/100\n",
      "8/8 [==============================] - 777s 98s/step - loss: 0.4514 - accuracy: 0.8114 - val_loss: 0.5758 - val_accuracy: 0.7171\n",
      "Epoch 45/100\n",
      "8/8 [==============================] - 780s 97s/step - loss: 0.4722 - accuracy: 0.7801 - val_loss: 0.4949 - val_accuracy: 0.7800\n",
      "Epoch 46/100\n",
      "8/8 [==============================] - 772s 97s/step - loss: 0.4512 - accuracy: 0.8045 - val_loss: 0.4959 - val_accuracy: 0.7514\n",
      "Epoch 47/100\n",
      "8/8 [==============================] - 815s 103s/step - loss: 0.4421 - accuracy: 0.8087 - val_loss: 0.5050 - val_accuracy: 0.7343\n",
      "Epoch 48/100\n",
      "8/8 [==============================] - 841s 105s/step - loss: 0.4626 - accuracy: 0.7945 - val_loss: 0.4764 - val_accuracy: 0.7629\n",
      "Epoch 49/100\n",
      "8/8 [==============================] - 852s 107s/step - loss: 0.4080 - accuracy: 0.8300 - val_loss: 0.4959 - val_accuracy: 0.7543\n",
      "Epoch 50/100\n",
      "8/8 [==============================] - 847s 106s/step - loss: 0.4304 - accuracy: 0.8143 - val_loss: 0.5391 - val_accuracy: 0.7657\n",
      "Epoch 51/100\n",
      "8/8 [==============================] - 837s 105s/step - loss: 0.4181 - accuracy: 0.8004 - val_loss: 0.4953 - val_accuracy: 0.7971\n",
      "Epoch 52/100\n",
      "8/8 [==============================] - 843s 105s/step - loss: 0.4403 - accuracy: 0.8109 - val_loss: 0.4784 - val_accuracy: 0.8086\n",
      "Epoch 53/100\n",
      "8/8 [==============================] - 841s 105s/step - loss: 0.4246 - accuracy: 0.8113 - val_loss: 0.4836 - val_accuracy: 0.7600\n",
      "Epoch 54/100\n",
      "8/8 [==============================] - 840s 105s/step - loss: 0.4281 - accuracy: 0.8149 - val_loss: 0.5334 - val_accuracy: 0.7143\n",
      "Epoch 55/100\n",
      "8/8 [==============================] - 850s 106s/step - loss: 0.3987 - accuracy: 0.8230 - val_loss: 0.7332 - val_accuracy: 0.5486\n",
      "Epoch 56/100\n",
      "8/8 [==============================] - 842s 106s/step - loss: 0.4156 - accuracy: 0.8182 - val_loss: 0.6069 - val_accuracy: 0.6743\n",
      "Epoch 57/100\n",
      "8/8 [==============================] - 834s 104s/step - loss: 0.4149 - accuracy: 0.8254 - val_loss: 0.4656 - val_accuracy: 0.7829\n",
      "Epoch 58/100\n"
     ]
    },
    {
     "name": "stdout",
     "output_type": "stream",
     "text": [
      "8/8 [==============================] - 848s 106s/step - loss: 0.4065 - accuracy: 0.8318 - val_loss: 0.4300 - val_accuracy: 0.7943\n",
      "Epoch 59/100\n",
      "8/8 [==============================] - 847s 105s/step - loss: 0.3889 - accuracy: 0.8343 - val_loss: 0.5358 - val_accuracy: 0.7200\n",
      "Epoch 60/100\n",
      "8/8 [==============================] - 826s 103s/step - loss: 0.4135 - accuracy: 0.8261 - val_loss: 0.7445 - val_accuracy: 0.7571\n",
      "Epoch 61/100\n",
      "8/8 [==============================] - 820s 103s/step - loss: 0.4120 - accuracy: 0.8263 - val_loss: 0.4347 - val_accuracy: 0.8143\n",
      "Epoch 62/100\n",
      "8/8 [==============================] - 824s 103s/step - loss: 0.3953 - accuracy: 0.8398 - val_loss: 0.4247 - val_accuracy: 0.7971\n",
      "Epoch 63/100\n",
      "8/8 [==============================] - 830s 104s/step - loss: 0.4106 - accuracy: 0.8186 - val_loss: 0.4340 - val_accuracy: 0.8000\n",
      "Epoch 64/100\n",
      "8/8 [==============================] - 778s 97s/step - loss: 0.4036 - accuracy: 0.8208 - val_loss: 0.5253 - val_accuracy: 0.7143\n",
      "Epoch 65/100\n",
      "8/8 [==============================] - 743s 93s/step - loss: 0.3718 - accuracy: 0.8340 - val_loss: 0.5911 - val_accuracy: 0.7057\n",
      "Epoch 66/100\n",
      "8/8 [==============================] - 748s 93s/step - loss: 0.3921 - accuracy: 0.8231 - val_loss: 0.4706 - val_accuracy: 0.7829\n",
      "Epoch 67/100\n",
      "8/8 [==============================] - 744s 93s/step - loss: 0.3916 - accuracy: 0.8249 - val_loss: 0.4743 - val_accuracy: 0.8029\n",
      "Epoch 68/100\n",
      "8/8 [==============================] - 749s 94s/step - loss: 0.3812 - accuracy: 0.8387 - val_loss: 0.5855 - val_accuracy: 0.7971\n",
      "Epoch 69/100\n",
      "8/8 [==============================] - 745s 94s/step - loss: 0.4198 - accuracy: 0.8158 - val_loss: 0.8723 - val_accuracy: 0.5629\n",
      "Epoch 70/100\n",
      "8/8 [==============================] - 749s 94s/step - loss: 0.3538 - accuracy: 0.8495 - val_loss: 0.8313 - val_accuracy: 0.5429\n",
      "Epoch 71/100\n",
      "8/8 [==============================] - 741s 93s/step - loss: 0.3525 - accuracy: 0.8540 - val_loss: 0.6499 - val_accuracy: 0.6743\n",
      "Epoch 72/100\n",
      "8/8 [==============================] - 744s 93s/step - loss: 0.3617 - accuracy: 0.8305 - val_loss: 0.5667 - val_accuracy: 0.6971\n",
      "Epoch 73/100\n",
      "8/8 [==============================] - 742s 93s/step - loss: 0.3432 - accuracy: 0.8580 - val_loss: 0.4725 - val_accuracy: 0.7857\n",
      "Epoch 74/100\n",
      "8/8 [==============================] - 749s 94s/step - loss: 0.3699 - accuracy: 0.8385 - val_loss: 0.5597 - val_accuracy: 0.7886\n",
      "Epoch 75/100\n",
      "8/8 [==============================] - 745s 93s/step - loss: 0.3098 - accuracy: 0.8649 - val_loss: 0.4091 - val_accuracy: 0.8029\n",
      "Epoch 76/100\n",
      "8/8 [==============================] - 742s 93s/step - loss: 0.3195 - accuracy: 0.8676 - val_loss: 0.6904 - val_accuracy: 0.6571\n",
      "Epoch 77/100\n",
      "8/8 [==============================] - 740s 93s/step - loss: 0.3320 - accuracy: 0.8634 - val_loss: 0.7296 - val_accuracy: 0.6343\n",
      "Epoch 78/100\n",
      "8/8 [==============================] - 742s 93s/step - loss: 0.3524 - accuracy: 0.8427 - val_loss: 0.6373 - val_accuracy: 0.6514\n",
      "Epoch 79/100\n",
      "8/8 [==============================] - 742s 93s/step - loss: 0.3504 - accuracy: 0.8441 - val_loss: 0.6820 - val_accuracy: 0.6229\n",
      "Epoch 80/100\n",
      "8/8 [==============================] - 751s 94s/step - loss: 0.3404 - accuracy: 0.8467 - val_loss: 0.4388 - val_accuracy: 0.7971\n",
      "Epoch 81/100\n",
      "8/8 [==============================] - 789s 99s/step - loss: 0.3229 - accuracy: 0.8617 - val_loss: 0.5232 - val_accuracy: 0.7686\n",
      "Epoch 82/100\n",
      "8/8 [==============================] - 782s 98s/step - loss: 0.3286 - accuracy: 0.8618 - val_loss: 0.5377 - val_accuracy: 0.8114\n",
      "Epoch 83/100\n",
      "8/8 [==============================] - 777s 97s/step - loss: 0.3278 - accuracy: 0.8529 - val_loss: 0.4237 - val_accuracy: 0.7971\n",
      "Epoch 84/100\n",
      "8/8 [==============================] - 750s 94s/step - loss: 0.3493 - accuracy: 0.8412 - val_loss: 0.5201 - val_accuracy: 0.8200\n",
      "Epoch 85/100\n",
      "8/8 [==============================] - 744s 93s/step - loss: 0.3371 - accuracy: 0.8450 - val_loss: 0.5955 - val_accuracy: 0.8114\n",
      "Epoch 86/100\n",
      "8/8 [==============================] - 744s 93s/step - loss: 0.3363 - accuracy: 0.8400 - val_loss: 0.4410 - val_accuracy: 0.8029\n",
      "Epoch 87/100\n",
      "8/8 [==============================] - 774s 97s/step - loss: 0.3436 - accuracy: 0.8560 - val_loss: 0.8311 - val_accuracy: 0.7429\n",
      "Epoch 88/100\n",
      "8/8 [==============================] - 814s 102s/step - loss: 0.3030 - accuracy: 0.8643 - val_loss: 0.5186 - val_accuracy: 0.7943\n",
      "Epoch 89/100\n",
      "8/8 [==============================] - 831s 104s/step - loss: 0.3092 - accuracy: 0.8802 - val_loss: 0.4910 - val_accuracy: 0.7771\n",
      "Epoch 90/100\n",
      "8/8 [==============================] - 834s 104s/step - loss: 0.3352 - accuracy: 0.8533 - val_loss: 0.3990 - val_accuracy: 0.8143\n",
      "Epoch 91/100\n",
      "8/8 [==============================] - 835s 105s/step - loss: 0.3070 - accuracy: 0.8638 - val_loss: 0.4214 - val_accuracy: 0.7943\n",
      "Epoch 92/100\n",
      "8/8 [==============================] - 829s 104s/step - loss: 0.2936 - accuracy: 0.8735 - val_loss: 0.6697 - val_accuracy: 0.6200\n",
      "Epoch 93/100\n",
      "8/8 [==============================] - 835s 105s/step - loss: 0.2992 - accuracy: 0.8639 - val_loss: 0.8855 - val_accuracy: 0.5829\n",
      "Epoch 94/100\n",
      "8/8 [==============================] - 834s 104s/step - loss: 0.3264 - accuracy: 0.8644 - val_loss: 1.1335 - val_accuracy: 0.5629\n",
      "Epoch 95/100\n",
      "8/8 [==============================] - 840s 105s/step - loss: 0.3605 - accuracy: 0.8349 - val_loss: 0.4912 - val_accuracy: 0.7686\n",
      "Epoch 96/100\n",
      "8/8 [==============================] - 827s 103s/step - loss: 0.3474 - accuracy: 0.8507 - val_loss: 0.4749 - val_accuracy: 0.8171\n",
      "Epoch 97/100\n",
      "8/8 [==============================] - 822s 103s/step - loss: 0.3357 - accuracy: 0.8522 - val_loss: 0.8266 - val_accuracy: 0.7686\n",
      "Epoch 98/100\n",
      "8/8 [==============================] - 816s 102s/step - loss: 0.3216 - accuracy: 0.8528 - val_loss: 1.1876 - val_accuracy: 0.6971\n",
      "Epoch 99/100\n",
      "8/8 [==============================] - 826s 103s/step - loss: 0.3228 - accuracy: 0.8579 - val_loss: 1.2810 - val_accuracy: 0.6657\n",
      "Epoch 100/100\n",
      "8/8 [==============================] - 819s 103s/step - loss: 0.2989 - accuracy: 0.8564 - val_loss: 0.7648 - val_accuracy: 0.7771\n"
     ]
    }
   ],
   "source": [
    "model.compile(optimizer=\"Adam\", loss=tf.keras.losses.BinaryCrossentropy(), metrics=['accuracy'])\n",
    "\n",
    "\n",
    "history = model.fit_generator(generator=training_generator,\n",
    "                    steps_per_epoch= int((len(h5py.File(train_samples))/2))// batch_size,\n",
    "                    epochs=100,\n",
    "                    verbose=True,\n",
    "                    validation_data=validation_generator,\n",
    "                    validation_steps=int((len(h5py.File(test_samples))/2))// batch_size,\n",
    "                    use_multiprocessing=False,\n",
    "                    workers=0,\n",
    "                    max_queue_size=5)"
   ]
  },
  {
   "cell_type": "markdown",
   "id": "military-millennium",
   "metadata": {},
   "source": [
    "# SAVE MODEL"
   ]
  },
  {
   "cell_type": "code",
   "execution_count": 21,
   "id": "infectious-unemployment",
   "metadata": {},
   "outputs": [
    {
     "name": "stdout",
     "output_type": "stream",
     "text": [
      "Saved model to disk\n"
     ]
    }
   ],
   "source": [
    "from keras.models import model_from_json\n",
    "\n",
    "dirmodel = '/mnt/MD1200A/lconcha/videos/Modelos/4layers_dropout/'\n",
    "\n",
    "# Guardar configuración JSON en el disco\n",
    "model_json = model.to_json()\n",
    "with open(dirmodel + \"4layers_dropout.json\", \"w\") as json_file:\n",
    "    json_file.write(model_json)\n",
    "# Guardar pesos en el disco\n",
    "model.save_weights(dirmodel + \"4layers_dropout.h5\")\n",
    "print(\"Saved model to disk\")"
   ]
  },
  {
   "cell_type": "markdown",
   "id": "intended-portrait",
   "metadata": {},
   "source": [
    "# TESTING PREDICTIONS"
   ]
  },
  {
   "cell_type": "code",
   "execution_count": 22,
   "id": "nearby-activation",
   "metadata": {},
   "outputs": [
    {
     "name": "stderr",
     "output_type": "stream",
     "text": [
      "/cm/shared/apps/anaconda2/4.3.1/envs/jupyter3.7/lib/python3.7/site-packages/ipykernel_launcher.py:6: H5pyDeprecationWarning: The default file mode will change to 'r' (read-only) in h5py 3.0. To suppress this warning, pass the mode you need to h5py.File(), or set the global default h5.get_config().default_file_mode, or set the environment variable H5PY_DEFAULT_READONLY=1. Available modes are: 'r', 'r+', 'w', 'w-'/'x', 'a'. See the docs for details.\n",
      "  \n",
      "/cm/shared/apps/anaconda2/4.3.1/envs/jupyter3.7/lib/python3.7/site-packages/ipykernel_launcher.py:58: H5pyDeprecationWarning: dataset.value has been deprecated. Use dataset[()] instead.\n"
     ]
    },
    {
     "name": "stdout",
     "output_type": "stream",
     "text": [
      "(493, 8, 128, 128, 3)\n"
     ]
    }
   ],
   "source": [
    "test_samples = '/mnt/MD1200A/lconcha/videos/Datasets_training/Combinado_test'\n",
    "\n",
    "#con esto vemos el numero de ejemplos que hay en el dataset de test\n",
    "f = h5py.File(test_samples, 'r')\n",
    "a_group_key = list(f.keys())\n",
    "X_test = int(len(a_group_key)/2)\n",
    "\n",
    "\n",
    "batch_size = X_test\n",
    "\n",
    "test_generator = DataGenerator(test_samples, batch_size )\n",
    "\n",
    "test_generator.batch_size = X_test\n",
    "X, Y = test_generator.__getitem__(np.random.randint(0,1))\n",
    "prediction = model.predict(X)\n",
    "\n",
    "array_prediction = np.argmax(prediction, axis=1)\n",
    "array_Y = np.argmax(Y, axis=1)\n",
    "\n",
    "print(X.shape)"
   ]
  },
  {
   "cell_type": "markdown",
   "id": "presidential-girlfriend",
   "metadata": {},
   "source": [
    "# GONFUSION MATRIX AND GRAPHS"
   ]
  },
  {
   "cell_type": "code",
   "execution_count": 23,
   "id": "checked-ecuador",
   "metadata": {},
   "outputs": [
    {
     "name": "stdout",
     "output_type": "stream",
     "text": [
      "[[147 100]\n",
      " [  5 241]]\n",
      "     RE   EA\n",
      "RE  147  100\n",
      "EA    5  241\n"
     ]
    },
    {
     "data": {
      "image/png": "[encoded data removed]",
      "text/plain": [
       "<Figure size 432x288 with 2 Axes>"
      ]
     },
     "metadata": {
      "needs_background": "light"
     },
     "output_type": "display_data"
    }
   ],
   "source": [
    "from sklearn.metrics import confusion_matrix\n",
    "import pandas as pd\n",
    "import seaborn as sns\n",
    "\n",
    "confm = confusion_matrix(array_Y,array_prediction)\n",
    "print(confm)\n",
    "\n",
    "columnas = ['RE','EA']\n",
    "df_cm = pd.DataFrame(confm, index=columnas, columns=columnas)\n",
    "\n",
    "print(df_cm)\n",
    "\n",
    "grafica = sns.heatmap(df_cm, cmap='Blues', annot=True, fmt=\"d\")\n",
    "\n",
    "\n",
    "plt.ylabel('Valores verdaderos')\n",
    "plt.xlabel('Predicciones')\n",
    "grafica.set(xlabel='Verdadero',ylabel='Predicción')\n",
    "plt.show\n",
    "plt.savefig('/mnt/MD1200A/lconcha/videos/Modelos/4layers_dropout/confm_4layers_dropout.png', dpi = 500)"
   ]
  },
  {
   "cell_type": "code",
   "execution_count": 24,
   "id": "boring-cradle",
   "metadata": {},
   "outputs": [
    {
     "name": "stdout",
     "output_type": "stream",
     "text": [
      "[[0.29817444 0.20283976]\n",
      " [0.01014199 0.48884381]]\n",
      "          RE        EA\n",
      "RE  0.298174  0.202840\n",
      "EA  0.010142  0.488844\n"
     ]
    },
    {
     "data": {
      "image/png": "[encoded data removed]",
      "text/plain": [
       "<Figure size 432x288 with 2 Axes>"
      ]
     },
     "metadata": {
      "needs_background": "light"
     },
     "output_type": "display_data"
    }
   ],
   "source": [
    "confm = confusion_matrix(array_Y,array_prediction)\n",
    "confm = confm/493\n",
    "print(confm)\n",
    "\n",
    "columnas = ['RE','EA']\n",
    "df_cm = pd.DataFrame(confm, index=columnas, columns=columnas)\n",
    "\n",
    "print(df_cm)\n",
    "\n",
    "grafica = sns.heatmap(df_cm, cmap='Blues', annot=True)\n",
    "\n",
    "\n",
    "plt.ylabel('Valores verdaderos')\n",
    "plt.xlabel('Predicciones')\n",
    "grafica.set(xlabel='Verdadero',ylabel='Predicción')\n",
    "plt.show\n",
    "plt.savefig('/mnt/MD1200A/lconcha/videos//Modelos/4layers_dropout/%confm_4layers_dropout.png', dpi = 500)"
   ]
  },
  {
   "cell_type": "code",
   "execution_count": 25,
   "id": "female-voluntary",
   "metadata": {},
   "outputs": [
    {
     "data": {
      "image/png": "[encoded data removed]",
      "text/plain": [
       "<Figure size 432x288 with 1 Axes>"
      ]
     },
     "metadata": {
      "needs_background": "light"
     },
     "output_type": "display_data"
    }
   ],
   "source": [
    "plt.plot(history.history['loss'], label='loss')\n",
    "plt.plot(history.history['val_loss'], label = 'val_loss')\n",
    "plt.xlabel('Epoch')\n",
    "plt.ylabel('loss')\n",
    "plt.legend(loc='upper right')\n",
    "plt.savefig('/mnt/MD1200A/lconcha/videos/Modelos/4layers_dropout/loss_4layers_dropout.png', dpi = 500)"
   ]
  },
  {
   "cell_type": "code",
   "execution_count": 26,
   "id": "controlled-monitor",
   "metadata": {},
   "outputs": [
    {
     "data": {
      "image/png": "[encoded data removed]",
      "text/plain": [
       "<Figure size 432x288 with 1 Axes>"
      ]
     },
     "metadata": {
      "needs_background": "light"
     },
     "output_type": "display_data"
    }
   ],
   "source": [
    "plt.plot(history.history['accuracy'], label='accuracy')\n",
    "plt.plot(history.history['val_accuracy'], label = 'val_accuracy')\n",
    "plt.xlabel('Epoch')\n",
    "plt.ylabel('Accuracy')\n",
    "plt.ylim([0.5, 1])\n",
    "plt.legend(loc='lower right')\n",
    "plt.savefig('/mnt/MD1200A/lconcha/videos/Modelos/4layers_dropout/accuary_4layers_dropout.png', dpi = 500)"
   ]
  },
  {
   "cell_type": "code",
   "execution_count": 27,
   "id": "neither-bride",
   "metadata": {},
   "outputs": [
    {
     "name": "stdout",
     "output_type": "stream",
     "text": [
      "[[0.29817444 0.20283976]\n",
      " [0.01014199 0.48884381]] [2.02828884 0.89261943 0.77637815 0.73262626 0.7352336  0.71549493\n",
      " 0.67227149 0.66715801 0.67444861 0.65768361 0.65734583 0.60947871\n",
      " 0.62901616 0.60750008 0.59852356 0.60899746 0.59207594 0.59757394\n",
      " 0.56041545 0.56473994 0.56305569 0.55961519 0.55350357 0.56021708\n",
      " 0.54680365 0.54485804 0.51904595 0.51499099 0.54043597 0.53410906\n",
      " 0.50669742 0.49287191 0.48423532 0.4723492  0.49165249 0.47541204\n",
      " 0.4906666  0.47868931 0.47513616 0.46743739 0.47820228 0.45908797\n",
      " 0.46702716 0.45159057 0.46265286 0.46308628 0.45076895 0.43423757\n",
      " 0.43307611 0.43894741 0.44391763 0.44169879 0.43807739 0.42200002\n",
      " 0.40406355 0.41484275 0.42422068 0.41387668 0.41044033 0.41441542\n",
      " 0.41023883 0.40384507 0.4088352  0.40638518 0.3831341  0.39323652\n",
      " 0.41161847 0.39086077 0.39439777 0.3574867  0.37694162 0.38103116\n",
      " 0.34822512 0.35870656 0.33125338 0.33229956 0.33612388 0.33920121\n",
      " 0.33990052 0.33783427 0.32950047 0.34594929 0.34192184 0.34105855\n",
      " 0.32877028 0.34239185 0.3434425  0.31958008 0.32251972 0.33069977\n",
      " 0.31478155 0.30622146 0.30739358 0.32680783 0.37195453 0.34202513\n",
      " 0.31961021 0.33527106 0.32484049 0.30937418] [ 6.23605347 25.70137024 22.87552643 12.31645775  8.10462379  7.39516735\n",
      "  5.74336767  4.25733185  3.15807962  2.75796819  2.85765719  1.81089509\n",
      "  2.04974127  1.30426228  1.59560549  1.55903482  1.21527898  1.1448288\n",
      "  0.91294611  0.72333306  0.66869611  0.60637867  0.92320907  0.68868542\n",
      "  0.52147067  0.64659476  0.69190395  0.52522755  0.69491178  0.60722172\n",
      "  0.51929051  0.55775243  0.57532328  0.51400536  0.57507491  0.56172609\n",
      "  0.53639072  0.56367093  0.5601818   0.60861528  0.53699577  0.49739364\n",
      "  0.52907634  0.5757606   0.49486181  0.49589512  0.504996    0.47636402\n",
      "  0.4958609   0.53914601  0.49528807  0.478432    0.48361233  0.53335577\n",
      "  0.73319042  0.60685211  0.46559152  0.43002537  0.53577209  0.74445468\n",
      "  0.43471158  0.42472818  0.43404976  0.52534509  0.59106332  0.47058189\n",
      "  0.47426105  0.58548194  0.87234724  0.83127636  0.64985257  0.56665307\n",
      "  0.47247109  0.5596748   0.40912941  0.69036096  0.72958976  0.63730794\n",
      "  0.68196577  0.43883526  0.52321857  0.53769886  0.42371708  0.52014458\n",
      "  0.59549594  0.4410049   0.83107597  0.51862329  0.49100158  0.39896232\n",
      "  0.42140737  0.66966432  0.88554776  1.13346362  0.49116054  0.47491744\n",
      "  0.82659727  1.18764591  1.28096676  0.7648347 ]\n"
     ]
    }
   ],
   "source": [
    "#Con el siguiente codigo guardo los arrays de la matriz de confusion, los valores de loss y val_loss\n",
    "\n",
    "with open('/mnt/MD1200A/lconcha/videos/Modelos/4layers_dropout/4layers_dropout.npy', 'wb') as f:\n",
    "    np.save(f, confm)\n",
    "    np.save(f, history.history['loss'])\n",
    "    np.save(f, history.history['val_loss'])\n",
    "    \n",
    "with open('/mnt/MD1200A/lconcha/videos/Modelos/4layers_dropout/4layers_dropout.npy', 'rb') as f:\n",
    "    a = np.load(f)\n",
    "    b = np.load(f)\n",
    "    c = np.load(f)\n",
    "    \n",
    "print(a, b,c)"
   ]
  }
 ],
 "metadata": {
  "kernelspec": {
   "display_name": "Python 3",
   "language": "python",
   "name": "python3"
  },
  "language_info": {
   "codemirror_mode": {
    "name": "ipython",
    "version": 3
   },
   "file_extension": ".py",
   "mimetype": "text/x-python",
   "name": "python",
   "nbconvert_exporter": "python",
   "pygments_lexer": "ipython3",
   "version": "3.7.9"
  }
 },
 "nbformat": 4,
 "nbformat_minor": 5
}
