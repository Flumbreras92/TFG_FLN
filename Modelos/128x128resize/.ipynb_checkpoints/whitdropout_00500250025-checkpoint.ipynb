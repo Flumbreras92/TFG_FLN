{
 "cells": [
  {
   "cell_type": "code",
   "execution_count": 2,
   "metadata": {},
   "outputs": [],
   "source": [
    "import numpy as np\n",
    "import h5py\n",
    "\n",
    "import tensorflow as tf\n",
    "import keras\n",
    "from keras.models import Sequential\n",
    "from keras.models import Model\n",
    "from keras.callbacks import EarlyStopping, ModelCheckpoint\n",
    "from keras.optimizers import Adam\n",
    "from keras.layers import Input, Flatten, Dense, Dropout,  Activation, Conv3D, MaxPooling3D, UpSampling3D, BatchNormalization, Activation, Reshape\n",
    "from keras.layers import Conv2D, MaxPooling2D\n",
    "#from keras.utils import multi_gpu_model\n",
    "\n",
    "from keras.optimizers import SGD\n",
    "from keras.layers.merge import concatenate, add\n",
    "\n",
    "#from keras.utils.io_utils import HDF5Matrix\n",
    "from keras.utils import plot_model\n",
    "from keras import optimizers\n",
    "\n",
    "\n",
    "import os\n",
    "import numpy as np\n",
    "from os import listdir\n",
    "from os.path import isfile, join\n",
    "import matplotlib.pyplot as plt\n",
    "from random import shuffle"
   ]
  },
  {
   "cell_type": "markdown",
   "metadata": {},
   "source": [
    "# STRUCTURE NETWORK 3D"
   ]
  },
  {
   "cell_type": "code",
   "execution_count": 2,
   "metadata": {},
   "outputs": [
    {
     "name": "stdout",
     "output_type": "stream",
     "text": [
      "Model: \"model\"\n",
      "_________________________________________________________________\n",
      "Layer (type)                 Output Shape              Param #   \n",
      "=================================================================\n",
      "input_1 (InputLayer)         [(None, 8, 128, 128, 3)]  0         \n",
      "_________________________________________________________________\n",
      "conv3d (Conv3D)              (None, 8, 128, 128, 32)   12032     \n",
      "_________________________________________________________________\n",
      "batch_normalization (BatchNo (None, 8, 128, 128, 32)   128       \n",
      "_________________________________________________________________\n",
      "activation (Activation)      (None, 8, 128, 128, 32)   0         \n",
      "_________________________________________________________________\n",
      "batch_normalization_1 (Batch (None, 8, 128, 128, 32)   128       \n",
      "_________________________________________________________________\n",
      "max_pooling3d (MaxPooling3D) (None, 2, 32, 32, 32)     0         \n",
      "_________________________________________________________________\n",
      "dropout (Dropout)            (None, 2, 32, 32, 32)     0         \n",
      "_________________________________________________________________\n",
      "conv3d_1 (Conv3D)            (None, 2, 32, 32, 64)     256064    \n",
      "_________________________________________________________________\n",
      "batch_normalization_2 (Batch (None, 2, 32, 32, 64)     256       \n",
      "_________________________________________________________________\n",
      "activation_1 (Activation)    (None, 2, 32, 32, 64)     0         \n",
      "_________________________________________________________________\n",
      "batch_normalization_3 (Batch (None, 2, 32, 32, 64)     256       \n",
      "_________________________________________________________________\n",
      "max_pooling3d_1 (MaxPooling3 (None, 1, 8, 8, 64)       0         \n",
      "_________________________________________________________________\n",
      "dropout_1 (Dropout)          (None, 1, 8, 8, 64)       0         \n",
      "_________________________________________________________________\n",
      "conv3d_2 (Conv3D)            (None, 1, 8, 8, 128)      1024128   \n",
      "_________________________________________________________________\n",
      "batch_normalization_4 (Batch (None, 1, 8, 8, 128)      512       \n",
      "_________________________________________________________________\n",
      "activation_2 (Activation)    (None, 1, 8, 8, 128)      0         \n",
      "_________________________________________________________________\n",
      "batch_normalization_5 (Batch (None, 1, 8, 8, 128)      512       \n",
      "_________________________________________________________________\n",
      "max_pooling3d_2 (MaxPooling3 (None, 1, 4, 4, 128)      0         \n",
      "_________________________________________________________________\n",
      "dropout_2 (Dropout)          (None, 1, 4, 4, 128)      0         \n",
      "_________________________________________________________________\n",
      "reshape (Reshape)            (None, 2048)              0         \n",
      "_________________________________________________________________\n",
      "dense (Dense)                (None, 2)                 4098      \n",
      "=================================================================\n",
      "Total params: 1,298,114\n",
      "Trainable params: 1,297,218\n",
      "Non-trainable params: 896\n",
      "_________________________________________________________________\n"
     ]
    }
   ],
   "source": [
    "def conv3d_block(input_tensor, filters, kernel_size, activation_fun = \"linear\"):\n",
    "    # first layer\n",
    "    x = Conv3D(filters=filters, kernel_size=kernel_size, kernel_initializer=\"he_normal\", padding=\"same\")(input_tensor)\n",
    "    x = BatchNormalization()(x)\n",
    "    x = Activation(activation_fun)(x)\n",
    "\n",
    "    return x\n",
    "\n",
    "kernel_size = (5,5,5)\n",
    "act_fun = \"relu\"\n",
    "\n",
    "############### DEFINE SET OF INPUTS #################\n",
    "\n",
    "x = Input(shape=(8, 128, 128,3)) \n",
    "\n",
    "\n",
    "############## DEFINE PATH FOR INPUT 1 ##################\n",
    "\n",
    "\n",
    "c1 = conv3d_block (x, filters=32, kernel_size=kernel_size, activation_fun = act_fun )\n",
    "c1 = BatchNormalization()(c1)\n",
    "p1 = MaxPooling3D (pool_size=(4, 4, 4), padding='valid')(c1)\n",
    "p1 = Dropout(0.05)(p1)\n",
    "\n",
    "\n",
    "c2 = conv3d_block(p1, filters=64, kernel_size=kernel_size, activation_fun = act_fun )\n",
    "c2 = BatchNormalization()(c2)\n",
    "p2 = MaxPooling3D(pool_size=(2, 4, 4), padding='valid')(c2)\n",
    "p2 = Dropout(0.025)(p2)\n",
    "\n",
    "\n",
    "c3 = conv3d_block(p2, filters=128, kernel_size=kernel_size, activation_fun = act_fun )\n",
    "c3 = BatchNormalization()(c3)\n",
    "p3 = MaxPooling3D(pool_size=(1, 2, 2), padding='valid')(c3)\n",
    "p3 = Dropout(0.025)(p3)\n",
    "\n",
    "\n",
    "p3 = Reshape((2048,))(p3)\n",
    "\n",
    "\n",
    "d = Dense(2, activation = 'sigmoid')(p3)\n",
    "\n",
    "\n",
    "\n",
    "model = Model(x , d)\n",
    "model.compile(optimizer=\"Adam\", loss=tf.keras.losses.BinaryCrossentropy())\n",
    "model.summary()"
   ]
  },
  {
   "cell_type": "markdown",
   "metadata": {},
   "source": [
    "# FILTER MODEL"
   ]
  },
  {
   "cell_type": "code",
   "execution_count": 3,
   "metadata": {},
   "outputs": [
    {
     "name": "stderr",
     "output_type": "stream",
     "text": [
      "/cm/shared/apps/anaconda2/4.3.1/envs/jupyter3.7/lib/python3.7/site-packages/ipykernel_launcher.py:6: H5pyDeprecationWarning: The default file mode will change to 'r' (read-only) in h5py 3.0. To suppress this warning, pass the mode you need to h5py.File(), or set the global default h5.get_config().default_file_mode, or set the environment variable H5PY_DEFAULT_READONLY=1. Available modes are: 'r', 'r+', 'w', 'w-'/'x', 'a'. See the docs for details.\n",
      "  \n"
     ]
    }
   ],
   "source": [
    "class DataGenerator(keras.utils.Sequence):\n",
    "\n",
    "    def __init__(self, Directorio, batch_size = 5):\n",
    "        \n",
    "        self.batch_size = batch_size\n",
    "        self.Directorio = h5py.File(Directorio)\n",
    "\n",
    "    def __len__(self):\n",
    "        \n",
    "        return int((len(self.Directorio)/2) / self.batch_size)\n",
    "\n",
    "    \n",
    "    #Getitem nos devolvera los valores de X e Y para el indice de batch que le pida keras\n",
    "    def __getitem__(self, index):\n",
    "        \n",
    "        #Creamos dos listas vacias en las que se separaran los valores de X e Y de nuestro archivo\n",
    "        array_x = []\n",
    "        array_y = []\n",
    "        \n",
    "        #Numero de ejemplos que tenemos en nuestro dataset, dividimos entre dos por que la longitud total\n",
    "        #viene con el numero de X e Y\n",
    "        self.indexes = np.arange(int(len(self.Directorio)/2))\n",
    "        \n",
    "        #dependiendo del indice de batch, indexes nos dara la posicion de los datos que queremos extraer\n",
    "        indexes = self.indexes[index*self.batch_size:(index+1)*self.batch_size]\n",
    "        \n",
    "        #Recorremos el directorio y extraemos las X con sus frames y las Y con sus estados\n",
    "        for line in self.Directorio:\n",
    "\n",
    "            if line[0] == 'X':\n",
    "                array_x.append(self.Directorio[line])\n",
    "\n",
    "            if line [0] == 'Y':\n",
    "                array_y.append(self.Directorio[line])\n",
    "        \n",
    "        #dos nuevos listas en las que almacenaremos los datos correspondientes a las posiciones que nos pide\n",
    "        #el indice del batch\n",
    "        x = []\n",
    "        y = []\n",
    "        \n",
    "        for i in indexes:\n",
    "            x.append(array_x[i])\n",
    "            y.append(array_y[i])\n",
    "        \n",
    "        #convertimos la lista anterior en un array con shape (batch_size,8,512,512,3)\n",
    "        x_array = np.array(x)\n",
    "        \n",
    "        \n",
    "        #Keras no entiende de strings, por lo que pasamos esos strings a vectores con numeros\n",
    "        RE = [1,0] #vector para estado: reposo\n",
    "        EA = [0,1] #vector para estado: ataque\n",
    "        \n",
    "        #lista donde almacenamos los vectores asociados a su string correspondiente\n",
    "        y_strings = []\n",
    "        \n",
    "        for i in y:\n",
    "\n",
    "            if i.value == 'RE':\n",
    "                y_strings.append(RE)\n",
    "\n",
    "            else:\n",
    "                y_strings.append(EA)\n",
    "                \n",
    "        #convertimos la lista anterior en un array con shape (batch_size,2)\n",
    "        y_array = np.array(y_strings)\n",
    "\n",
    "        X, y = x_array,y_array\n",
    "\n",
    "        return X,y\n",
    "\n",
    "batch_size = 150\n",
    "\n",
    "\n",
    "train_samples =  '/mnt/MD1200A/lconcha/videos/Datasets_training/Combinado_training_group32_2'\n",
    "test_samples =  '/mnt/MD1200A/lconcha/videos/Datasets_training/Combinado_validation_group32_2'\n",
    "\n",
    "training_generator   = DataGenerator(train_samples, batch_size )\n",
    "validation_generator = DataGenerator(test_samples,  batch_size )"
   ]
  },
  {
   "cell_type": "markdown",
   "metadata": {},
   "source": [
    "# COMPILE MODEL"
   ]
  },
  {
   "cell_type": "code",
   "execution_count": 4,
   "metadata": {},
   "outputs": [
    {
     "name": "stderr",
     "output_type": "stream",
     "text": [
      "/cm/shared/apps/anaconda2/4.3.1/envs/jupyter3.7/lib/python3.7/site-packages/ipykernel_launcher.py:15: H5pyDeprecationWarning: The default file mode will change to 'r' (read-only) in h5py 3.0. To suppress this warning, pass the mode you need to h5py.File(), or set the global default h5.get_config().default_file_mode, or set the environment variable H5PY_DEFAULT_READONLY=1. Available modes are: 'r', 'r+', 'w', 'w-'/'x', 'a'. See the docs for details.\n",
      "  from ipykernel import kernelapp as app\n",
      "/cm/shared/apps/anaconda2/4.3.1/envs/jupyter3.7/lib/python3.7/site-packages/ipykernel_launcher.py:20: H5pyDeprecationWarning: The default file mode will change to 'r' (read-only) in h5py 3.0. To suppress this warning, pass the mode you need to h5py.File(), or set the global default h5.get_config().default_file_mode, or set the environment variable H5PY_DEFAULT_READONLY=1. Available modes are: 'r', 'r+', 'w', 'w-'/'x', 'a'. See the docs for details.\n",
      "/cm/shared/apps/anaconda2/4.3.1/envs/jupyter3.7/lib/python3.7/site-packages/tensorflow/python/keras/engine/training.py:1844: UserWarning: `Model.fit_generator` is deprecated and will be removed in a future version. Please use `Model.fit`, which supports generators.\n",
      "  warnings.warn('`Model.fit_generator` is deprecated and '\n",
      "/cm/shared/apps/anaconda2/4.3.1/envs/jupyter3.7/lib/python3.7/site-packages/ipykernel_launcher.py:58: H5pyDeprecationWarning: dataset.value has been deprecated. Use dataset[()] instead.\n"
     ]
    },
    {
     "name": "stdout",
     "output_type": "stream",
     "text": [
      "Epoch 1/50\n",
      "20/20 [==============================] - 1832s 91s/step - loss: 1.7506 - accuracy: 0.5769 - val_loss: 12.5752 - val_accuracy: 0.4933\n",
      "Epoch 2/50\n",
      "20/20 [==============================] - 1819s 91s/step - loss: 0.6648 - accuracy: 0.6873 - val_loss: 2.7995 - val_accuracy: 0.5100\n",
      "Epoch 3/50\n",
      "20/20 [==============================] - 1811s 91s/step - loss: 0.5569 - accuracy: 0.7269 - val_loss: 2.1455 - val_accuracy: 0.5011\n",
      "Epoch 4/50\n",
      "20/20 [==============================] - 1806s 90s/step - loss: 0.5262 - accuracy: 0.7486 - val_loss: 1.4230 - val_accuracy: 0.5322\n",
      "Epoch 5/50\n",
      "20/20 [==============================] - 1805s 90s/step - loss: 0.5246 - accuracy: 0.7409 - val_loss: 1.5318 - val_accuracy: 0.5789\n",
      "Epoch 6/50\n",
      "20/20 [==============================] - 1811s 91s/step - loss: 0.5363 - accuracy: 0.7477 - val_loss: 1.0715 - val_accuracy: 0.6244\n",
      "Epoch 7/50\n",
      "20/20 [==============================] - 1811s 91s/step - loss: 0.4897 - accuracy: 0.7668 - val_loss: 0.8557 - val_accuracy: 0.6522\n",
      "Epoch 8/50\n",
      "20/20 [==============================] - 1825s 91s/step - loss: 0.4699 - accuracy: 0.7709 - val_loss: 0.8055 - val_accuracy: 0.6522\n",
      "Epoch 9/50\n",
      "20/20 [==============================] - 1823s 91s/step - loss: 0.4918 - accuracy: 0.7588 - val_loss: 0.5451 - val_accuracy: 0.7422\n",
      "Epoch 10/50\n",
      "20/20 [==============================] - 1826s 91s/step - loss: 0.4520 - accuracy: 0.7800 - val_loss: 0.5494 - val_accuracy: 0.7456\n",
      "Epoch 11/50\n",
      "20/20 [==============================] - 1829s 92s/step - loss: 0.4410 - accuracy: 0.7852 - val_loss: 0.6504 - val_accuracy: 0.7300\n",
      "Epoch 12/50\n",
      "20/20 [==============================] - 1829s 92s/step - loss: 0.4405 - accuracy: 0.8000 - val_loss: 0.5275 - val_accuracy: 0.7533\n",
      "Epoch 13/50\n",
      "20/20 [==============================] - 1833s 92s/step - loss: 0.4218 - accuracy: 0.8037 - val_loss: 0.6769 - val_accuracy: 0.7078\n",
      "Epoch 14/50\n",
      "20/20 [==============================] - 1834s 92s/step - loss: 0.4203 - accuracy: 0.8062 - val_loss: 0.5380 - val_accuracy: 0.7656\n",
      "Epoch 15/50\n",
      "20/20 [==============================] - 1835s 92s/step - loss: 0.4043 - accuracy: 0.8192 - val_loss: 0.4858 - val_accuracy: 0.7789\n",
      "Epoch 16/50\n",
      "20/20 [==============================] - 1832s 92s/step - loss: 0.4060 - accuracy: 0.8156 - val_loss: 0.5044 - val_accuracy: 0.7767\n",
      "Epoch 17/50\n",
      "20/20 [==============================] - 1834s 92s/step - loss: 0.3898 - accuracy: 0.8155 - val_loss: 0.5274 - val_accuracy: 0.7500\n",
      "Epoch 18/50\n",
      "20/20 [==============================] - 1835s 92s/step - loss: 0.3790 - accuracy: 0.8224 - val_loss: 0.7664 - val_accuracy: 0.7211\n",
      "Epoch 19/50\n",
      "20/20 [==============================] - 1834s 92s/step - loss: 0.3708 - accuracy: 0.8308 - val_loss: 0.5408 - val_accuracy: 0.7667\n",
      "Epoch 20/50\n",
      "20/20 [==============================] - 1835s 92s/step - loss: 0.3681 - accuracy: 0.8271 - val_loss: 0.5190 - val_accuracy: 0.7556\n",
      "Epoch 21/50\n",
      "20/20 [==============================] - 1825s 91s/step - loss: 0.3579 - accuracy: 0.8408 - val_loss: 0.4310 - val_accuracy: 0.7867\n",
      "Epoch 22/50\n",
      "20/20 [==============================] - 1821s 91s/step - loss: 0.3597 - accuracy: 0.8392 - val_loss: 0.3786 - val_accuracy: 0.8233\n",
      "Epoch 23/50\n",
      "20/20 [==============================] - 1826s 91s/step - loss: 0.3660 - accuracy: 0.8348 - val_loss: 0.4030 - val_accuracy: 0.8111\n",
      "Epoch 24/50\n",
      "20/20 [==============================] - 1825s 91s/step - loss: 0.3612 - accuracy: 0.8292 - val_loss: 0.3733 - val_accuracy: 0.8167\n",
      "Epoch 25/50\n",
      "20/20 [==============================] - 1826s 91s/step - loss: 0.3216 - accuracy: 0.8600 - val_loss: 0.4404 - val_accuracy: 0.7622\n",
      "Epoch 26/50\n",
      "20/20 [==============================] - 1819s 91s/step - loss: 0.3232 - accuracy: 0.8546 - val_loss: 0.6327 - val_accuracy: 0.6656\n",
      "Epoch 27/50\n",
      "20/20 [==============================] - 1827s 92s/step - loss: 0.3035 - accuracy: 0.8651 - val_loss: 0.5557 - val_accuracy: 0.7000\n",
      "Epoch 28/50\n",
      "20/20 [==============================] - 1823s 91s/step - loss: 0.3171 - accuracy: 0.8561 - val_loss: 0.3546 - val_accuracy: 0.8333\n",
      "Epoch 29/50\n",
      "20/20 [==============================] - 1827s 91s/step - loss: 0.2880 - accuracy: 0.8821 - val_loss: 0.3879 - val_accuracy: 0.8189\n",
      "Epoch 30/50\n",
      "20/20 [==============================] - 1826s 91s/step - loss: 0.2937 - accuracy: 0.8731 - val_loss: 0.4715 - val_accuracy: 0.7467\n",
      "Epoch 31/50\n",
      "20/20 [==============================] - 1832s 92s/step - loss: 0.2856 - accuracy: 0.8726 - val_loss: 0.4050 - val_accuracy: 0.8089\n",
      "Epoch 32/50\n",
      "20/20 [==============================] - 1831s 92s/step - loss: 0.2912 - accuracy: 0.8755 - val_loss: 0.3492 - val_accuracy: 0.8356\n",
      "Epoch 33/50\n",
      "20/20 [==============================] - 1833s 92s/step - loss: 0.3172 - accuracy: 0.8518 - val_loss: 0.5678 - val_accuracy: 0.7933\n",
      "Epoch 34/50\n",
      "20/20 [==============================] - 1832s 92s/step - loss: 0.2895 - accuracy: 0.8719 - val_loss: 0.7209 - val_accuracy: 0.7333\n",
      "Epoch 35/50\n",
      "20/20 [==============================] - 1835s 92s/step - loss: 0.2532 - accuracy: 0.8967 - val_loss: 0.5448 - val_accuracy: 0.7889\n",
      "Epoch 36/50\n",
      "20/20 [==============================] - 1838s 92s/step - loss: 0.2583 - accuracy: 0.8872 - val_loss: 0.3730 - val_accuracy: 0.8278\n",
      "Epoch 37/50\n",
      "20/20 [==============================] - 1827s 91s/step - loss: 0.2401 - accuracy: 0.8934 - val_loss: 0.4615 - val_accuracy: 0.7811\n",
      "Epoch 38/50\n",
      "20/20 [==============================] - 1819s 91s/step - loss: 0.2593 - accuracy: 0.8892 - val_loss: 0.4465 - val_accuracy: 0.7833\n",
      "Epoch 39/50\n",
      "20/20 [==============================] - 1828s 92s/step - loss: 0.2343 - accuracy: 0.9041 - val_loss: 0.3762 - val_accuracy: 0.8244\n",
      "Epoch 40/50\n",
      "20/20 [==============================] - 1823s 91s/step - loss: 0.2307 - accuracy: 0.9044 - val_loss: 0.8276 - val_accuracy: 0.6522\n",
      "Epoch 41/50\n",
      "20/20 [==============================] - 1820s 91s/step - loss: 0.2397 - accuracy: 0.8940 - val_loss: 0.4585 - val_accuracy: 0.7822\n",
      "Epoch 42/50\n",
      "20/20 [==============================] - 1821s 91s/step - loss: 0.2277 - accuracy: 0.9030 - val_loss: 0.4645 - val_accuracy: 0.8256\n",
      "Epoch 43/50\n",
      "20/20 [==============================] - 1824s 91s/step - loss: 0.2358 - accuracy: 0.8941 - val_loss: 0.4525 - val_accuracy: 0.8356\n",
      "Epoch 44/50\n",
      "20/20 [==============================] - 1825s 91s/step - loss: 0.2307 - accuracy: 0.8998 - val_loss: 0.4177 - val_accuracy: 0.8011\n",
      "Epoch 45/50\n",
      "20/20 [==============================] - 1835s 92s/step - loss: 0.2274 - accuracy: 0.9078 - val_loss: 0.4634 - val_accuracy: 0.7789\n",
      "Epoch 46/50\n",
      "20/20 [==============================] - 1826s 91s/step - loss: 0.2199 - accuracy: 0.9059 - val_loss: 0.4283 - val_accuracy: 0.7922\n",
      "Epoch 47/50\n",
      "20/20 [==============================] - 1823s 91s/step - loss: 0.1877 - accuracy: 0.9271 - val_loss: 1.0329 - val_accuracy: 0.6111\n",
      "Epoch 48/50\n",
      "20/20 [==============================] - 1820s 91s/step - loss: 0.2144 - accuracy: 0.9095 - val_loss: 0.6928 - val_accuracy: 0.7156\n",
      "Epoch 49/50\n",
      "20/20 [==============================] - 1824s 91s/step - loss: 0.2000 - accuracy: 0.9142 - val_loss: 0.4273 - val_accuracy: 0.8100\n",
      "Epoch 50/50\n",
      "20/20 [==============================] - 1821s 91s/step - loss: 0.1903 - accuracy: 0.9250 - val_loss: 0.4549 - val_accuracy: 0.7944\n"
     ]
    }
   ],
   "source": [
    "model.compile(optimizer=\"Adam\", loss=tf.keras.losses.BinaryCrossentropy(), metrics=['accuracy'])\n",
    "#####CHECK POINTS\n",
    "checkpoint_path = \"/mnt/MD1200A/lconcha/videos/Modelos/DropOut_005_0025_0025/Group32frames/training/cp-{epoch:04d}.ckpt\"\n",
    "checkpoint_dir = os.path.dirname(checkpoint_path)\n",
    "\n",
    "# Create a callback that saves the model's weights\n",
    "cp_callback = tf.keras.callbacks.ModelCheckpoint(filepath=checkpoint_path,\n",
    "                                                 save_weights_only=True,\n",
    "                                                 save_freq=10*batch_size,\n",
    "                                                 verbose=1)\n",
    "\n",
    "\n",
    "\n",
    "history = model.fit_generator(generator=training_generator,\n",
    "                    steps_per_epoch= int((len(h5py.File(train_samples))/2))// batch_size,\n",
    "                    epochs=50,\n",
    "                    callbacks=[cp_callback],    \n",
    "                    verbose=True,\n",
    "                    validation_data=validation_generator,\n",
    "                    validation_steps=int((len(h5py.File(test_samples))/2))// batch_size,\n",
    "                    use_multiprocessing=False,\n",
    "                    workers=0,\n",
    "                    max_queue_size=5)"
   ]
  },
  {
   "cell_type": "markdown",
   "metadata": {},
   "source": [
    "# SAVE MODEL"
   ]
  },
  {
   "cell_type": "code",
   "execution_count": 5,
   "metadata": {},
   "outputs": [],
   "source": [
    "from keras.models import model_from_json"
   ]
  },
  {
   "cell_type": "code",
   "execution_count": 6,
   "metadata": {},
   "outputs": [
    {
     "name": "stdout",
     "output_type": "stream",
     "text": [
      "Saved model to disk\n"
     ]
    }
   ],
   "source": [
    "dirmodel = '/mnt/MD1200A/lconcha/videos/Modelos/DropOut_005_0025_0025/Group32frames/'\n",
    "\n",
    "# Guardar configuración JSON en el disco\n",
    "model_json = model.to_json()\n",
    "with open(dirmodel + \"dropout_00500250025_32.json\", \"w\") as json_file:\n",
    "    json_file.write(model_json)\n",
    "# Guardar pesos en el disco\n",
    "model.save_weights(dirmodel + \"dropout_00500250025_32.h5\")\n",
    "print(\"Saved model to disk\")"
   ]
  },
  {
   "cell_type": "markdown",
   "metadata": {},
   "source": [
    "# LOAD MODEL"
   ]
  },
  {
   "cell_type": "code",
   "execution_count": 3,
   "metadata": {},
   "outputs": [
    {
     "ename": "FileNotFoundError",
     "evalue": "[Errno 2] No such file or directory: '/mnt/MD1200A/lconcha/videos/dropout_05025025.json'",
     "output_type": "error",
     "traceback": [
      "\u001b[0;31m---------------------------------------------------------------------------\u001b[0m",
      "\u001b[0;31mFileNotFoundError\u001b[0m                         Traceback (most recent call last)",
      "\u001b[0;32m<ipython-input-3-f04ed27c0b65>\u001b[0m in \u001b[0;36m<module>\u001b[0;34m\u001b[0m\n\u001b[1;32m      2\u001b[0m \u001b[0;34m\u001b[0m\u001b[0m\n\u001b[1;32m      3\u001b[0m \u001b[0;31m# Recargue el modelo de los 2 archivos que guardamos\u001b[0m\u001b[0;34m\u001b[0m\u001b[0;34m\u001b[0m\u001b[0;34m\u001b[0m\u001b[0m\n\u001b[0;32m----> 4\u001b[0;31m \u001b[0;32mwith\u001b[0m \u001b[0mopen\u001b[0m\u001b[0;34m(\u001b[0m\u001b[0mdirmodel\u001b[0m \u001b[0;34m+\u001b[0m \u001b[0;34m\"dropout_05025025.json\"\u001b[0m\u001b[0;34m)\u001b[0m \u001b[0;32mas\u001b[0m \u001b[0mjson_file\u001b[0m\u001b[0;34m:\u001b[0m\u001b[0;34m\u001b[0m\u001b[0;34m\u001b[0m\u001b[0m\n\u001b[0m\u001b[1;32m      5\u001b[0m     \u001b[0mjson_config\u001b[0m \u001b[0;34m=\u001b[0m \u001b[0mjson_file\u001b[0m\u001b[0;34m.\u001b[0m\u001b[0mread\u001b[0m\u001b[0;34m(\u001b[0m\u001b[0;34m)\u001b[0m\u001b[0;34m\u001b[0m\u001b[0;34m\u001b[0m\u001b[0m\n\u001b[1;32m      6\u001b[0m \u001b[0mnew_model\u001b[0m \u001b[0;34m=\u001b[0m \u001b[0mkeras\u001b[0m\u001b[0;34m.\u001b[0m\u001b[0mmodels\u001b[0m\u001b[0;34m.\u001b[0m\u001b[0mmodel_from_json\u001b[0m\u001b[0;34m(\u001b[0m\u001b[0mjson_config\u001b[0m\u001b[0;34m)\u001b[0m\u001b[0;34m\u001b[0m\u001b[0;34m\u001b[0m\u001b[0m\n",
      "\u001b[0;31mFileNotFoundError\u001b[0m: [Errno 2] No such file or directory: '/mnt/MD1200A/lconcha/videos/dropout_05025025.json'"
     ]
    }
   ],
   "source": [
    "dirmodel = '/mnt/MD1200A/lconcha/videos/'\n",
    "\n",
    "# Recargue el modelo de los 2 archivos que guardamos\n",
    "with open(dirmodel + \"dropout_05025025.json\") as json_file:\n",
    "    json_config = json_file.read()\n",
    "new_model = keras.models.model_from_json(json_config)\n",
    "new_model.load_weights(dirmodel + \"dropout_05025025.h5\")\n",
    "print(\"Load model to disk\")"
   ]
  },
  {
   "cell_type": "markdown",
   "metadata": {},
   "source": [
    "# TEST MODEL"
   ]
  },
  {
   "cell_type": "code",
   "execution_count": 8,
   "metadata": {},
   "outputs": [
    {
     "name": "stderr",
     "output_type": "stream",
     "text": [
      "/cm/shared/apps/anaconda2/4.3.1/envs/jupyter3.7/lib/python3.7/site-packages/ipykernel_launcher.py:6: H5pyDeprecationWarning: The default file mode will change to 'r' (read-only) in h5py 3.0. To suppress this warning, pass the mode you need to h5py.File(), or set the global default h5.get_config().default_file_mode, or set the environment variable H5PY_DEFAULT_READONLY=1. Available modes are: 'r', 'r+', 'w', 'w-'/'x', 'a'. See the docs for details.\n",
      "  \n",
      "/cm/shared/apps/anaconda2/4.3.1/envs/jupyter3.7/lib/python3.7/site-packages/ipykernel_launcher.py:58: H5pyDeprecationWarning: dataset.value has been deprecated. Use dataset[()] instead.\n"
     ]
    },
    {
     "name": "stdout",
     "output_type": "stream",
     "text": [
      "(1014, 8, 128, 128, 3)\n"
     ]
    }
   ],
   "source": [
    "test_samples = '/mnt/MD1200A/lconcha/videos/Datasets_training/Combinado_test_group32_2'\n",
    "\n",
    "#con esto vemos el numero de ejemplos que hay en el dataset de test\n",
    "f = h5py.File(test_samples, 'r')\n",
    "a_group_key = list(f.keys())\n",
    "X_test = int(len(a_group_key)/2)\n",
    "\n",
    "\n",
    "batch_size = X_test\n",
    "\n",
    "test_generator = DataGenerator(test_samples, batch_size )\n",
    "\n",
    "test_generator.batch_size = X_test\n",
    "X, Y = test_generator.__getitem__(np.random.randint(0,1))\n",
    "prediction = model.predict(X)\n",
    "\n",
    "array_prediction = np.argmax(prediction, axis=1)\n",
    "array_Y = np.argmax(Y, axis=1)\n",
    "\n",
    "print(X.shape)"
   ]
  },
  {
   "cell_type": "markdown",
   "metadata": {},
   "source": [
    "# CONFUSION MATRIX"
   ]
  },
  {
   "cell_type": "code",
   "execution_count": 9,
   "metadata": {},
   "outputs": [],
   "source": [
    "from sklearn.metrics import confusion_matrix\n",
    "import pandas as pd\n",
    "import seaborn as sns"
   ]
  },
  {
   "cell_type": "code",
   "execution_count": 10,
   "metadata": {},
   "outputs": [
    {
     "name": "stdout",
     "output_type": "stream",
     "text": [
      "[[461  60]\n",
      " [140 353]]\n",
      "     RE   EA\n",
      "RE  461   60\n",
      "EA  140  353\n"
     ]
    },
    {
     "data": {
      "image/png": "[encoded data removed]",
      "text/plain": [
       "<Figure size 432x288 with 2 Axes>"
      ]
     },
     "metadata": {
      "needs_background": "light"
     },
     "output_type": "display_data"
    }
   ],
   "source": [
    "confm = confusion_matrix(array_Y,array_prediction)\n",
    "print(confm)\n",
    "\n",
    "columnas = ['RE','EA']\n",
    "df_cm = pd.DataFrame(confm, index=columnas, columns=columnas)\n",
    "\n",
    "print(df_cm)\n",
    "\n",
    "grafica = sns.heatmap(df_cm, cmap='Blues', annot=True, fmt=\"d\")\n",
    "\n",
    "\n",
    "plt.ylabel('Valores verdaderos')\n",
    "plt.xlabel('Predicciones')\n",
    "grafica.set(xlabel='Verdadero',ylabel='Predicción')\n",
    "plt.show\n",
    "plt.savefig('/mnt/MD1200A/lconcha/videos/Modelos/DropOut_005_0025_0025/Group32frames/confm_dropout00500250025_32.png', dpi = 500)"
   ]
  },
  {
   "cell_type": "code",
   "execution_count": 11,
   "metadata": {},
   "outputs": [
    {
     "name": "stdout",
     "output_type": "stream",
     "text": [
      "[[0.93509128 0.12170385]\n",
      " [0.28397566 0.71602434]]\n",
      "          RE        EA\n",
      "RE  0.935091  0.121704\n",
      "EA  0.283976  0.716024\n"
     ]
    },
    {
     "data": {
      "image/png": "[encoded data removed]",
      "text/plain": [
       "<Figure size 432x288 with 2 Axes>"
      ]
     },
     "metadata": {
      "needs_background": "light"
     },
     "output_type": "display_data"
    }
   ],
   "source": [
    "confm = confusion_matrix(array_Y,array_prediction)\n",
    "confm = confm/493\n",
    "print(confm)\n",
    "\n",
    "columnas = ['RE','EA']\n",
    "df_cm = pd.DataFrame(confm, index=columnas, columns=columnas)\n",
    "\n",
    "print(df_cm)\n",
    "\n",
    "grafica = sns.heatmap(df_cm, cmap='Blues', annot=True)\n",
    "\n",
    "\n",
    "plt.ylabel('Valores verdaderos')\n",
    "plt.xlabel('Predicciones')\n",
    "grafica.set(xlabel='Verdadero',ylabel='Predicción')\n",
    "plt.show\n",
    "plt.savefig('/mnt/MD1200A/lconcha/videos/Modelos/DropOut_005_0025_0025/Group32frames/%confm_dropout00500250025_32.png', dpi = 500)"
   ]
  },
  {
   "cell_type": "markdown",
   "metadata": {},
   "source": [
    "# Gráficas para valores de loss y accuary"
   ]
  },
  {
   "cell_type": "code",
   "execution_count": 12,
   "metadata": {},
   "outputs": [
    {
     "data": {
      "image/png": "[encoded data removed]",
      "text/plain": [
       "<Figure size 432x288 with 1 Axes>"
      ]
     },
     "metadata": {
      "needs_background": "light"
     },
     "output_type": "display_data"
    }
   ],
   "source": [
    "plt.plot(history.history['loss'], label='loss')\n",
    "plt.plot(history.history['val_loss'], label = 'val_loss')\n",
    "plt.xlabel('Epoch')\n",
    "plt.ylabel('loss')\n",
    "plt.legend(loc='upper right')\n",
    "plt.savefig('/mnt/MD1200A/lconcha/videos/Modelos/DropOut_005_0025_0025/Group32frames/loss_dropout00500250025_32.png', dpi = 500)"
   ]
  },
  {
   "cell_type": "code",
   "execution_count": 13,
   "metadata": {},
   "outputs": [
    {
     "data": {
      "image/png": "[encoded data removed]",
      "text/plain": [
       "<Figure size 432x288 with 1 Axes>"
      ]
     },
     "metadata": {
      "needs_background": "light"
     },
     "output_type": "display_data"
    }
   ],
   "source": [
    "plt.plot(history.history['accuracy'], label='accuracy')\n",
    "plt.plot(history.history['val_accuracy'], label = 'val_accuracy')\n",
    "plt.xlabel('Epoch')\n",
    "plt.ylabel('Accuracy')\n",
    "plt.ylim([0.5, 1])\n",
    "plt.legend(loc='lower right')\n",
    "plt.savefig('/mnt/MD1200A/lconcha/videos/Modelos/DropOut_005_0025_0025/Group32frames/accuary_dropout00500250025_32.png', dpi = 500)"
   ]
  },
  {
   "cell_type": "code",
   "execution_count": 14,
   "metadata": {},
   "outputs": [
    {
     "name": "stdout",
     "output_type": "stream",
     "text": [
      "[[0.93509128 0.12170385]\n",
      " [0.28397566 0.71602434]] [1.21227813 0.6317628  0.54646105 0.52464586 0.51418459 0.52097499\n",
      " 0.48086369 0.46517703 0.46671623 0.46495855 0.44088435 0.44568095\n",
      " 0.42470542 0.41797072 0.414287   0.41507646 0.39013457 0.38329867\n",
      " 0.38231876 0.3755312  0.35904267 0.36920816 0.36179098 0.3414613\n",
      " 0.32989293 0.32742712 0.30468708 0.31224847 0.29163891 0.29649261\n",
      " 0.28799823 0.29723412 0.31228128 0.29328531 0.26331812 0.26101282\n",
      " 0.25912583 0.25510192 0.23993233 0.24200161 0.25113347 0.23721941\n",
      " 0.22853293 0.22228402 0.2322278  0.21060409 0.20260862 0.21074829\n",
      " 0.206302   0.19901352] [12.57519531  2.79950619  2.14546585  1.42304349  1.53180313  1.07151461\n",
      "  0.85566694  0.80546916  0.54514778  0.54939169  0.6503886   0.52747601\n",
      "  0.67686433  0.53802085  0.48583049  0.50440323  0.52739292  0.76636469\n",
      "  0.54082388  0.51899171  0.43096724  0.37861657  0.40298718  0.37329862\n",
      "  0.44042999  0.63270825  0.55571651  0.35459545  0.38790366  0.47148573\n",
      "  0.40504265  0.34922603  0.56776881  0.72086346  0.54475117  0.37297639\n",
      "  0.4614678   0.44647342  0.3762098   0.82758105  0.45853549  0.46451017\n",
      "  0.45245695  0.41767591  0.46335298  0.42832643  1.03294563  0.69277465\n",
      "  0.4273116   0.45486918]\n"
     ]
    }
   ],
   "source": [
    "#Con el siguiente codigo guardo los arrays de la matriz de confusion, los valores de loss y val_loss\n",
    "\n",
    "with open('/mnt/MD1200A/lconcha/videos/Modelos/DropOut_005_0025_0025/Group32frames/dropout_00500250025_32.npy', 'wb') as f:\n",
    "    np.save(f, confm)\n",
    "    np.save(f, history.history['loss'])\n",
    "    np.save(f, history.history['val_loss'])\n",
    "    \n",
    "with open('/mnt/MD1200A/lconcha/videos/Modelos/DropOut_005_0025_0025/Group32frames/dropout_00500250025_32.npy', 'rb') as f:\n",
    "    a = np.load(f)\n",
    "    b = np.load(f)\n",
    "    c = np.load(f)\n",
    "    \n",
    "print(a, b,c)"
   ]
  }
 ],
 "metadata": {
  "kernelspec": {
   "display_name": "Python 3",
   "language": "python",
   "name": "python3"
  },
  "language_info": {
   "codemirror_mode": {
    "name": "ipython",
    "version": 3
   },
   "file_extension": ".py",
   "mimetype": "text/x-python",
   "name": "python",
   "nbconvert_exporter": "python",
   "pygments_lexer": "ipython3",
   "version": "3.7.9"
  }
 },
 "nbformat": 4,
 "nbformat_minor": 4
}
