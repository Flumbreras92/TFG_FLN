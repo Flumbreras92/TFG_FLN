{
 "cells": [
  {
   "cell_type": "code",
   "execution_count": 14,
   "id": "impressed-london",
   "metadata": {},
   "outputs": [],
   "source": [
    "import numpy as np\n",
    "import h5py\n",
    "\n",
    "import tensorflow as tf\n",
    "import keras\n",
    "from keras.models import Sequential\n",
    "from keras.models import Model\n",
    "from keras.callbacks import EarlyStopping, ModelCheckpoint\n",
    "from keras.optimizers import Adam\n",
    "from keras.layers import Input, Flatten, Dense, Dropout,  Activation, Conv3D, MaxPooling3D, UpSampling3D, BatchNormalization, Activation, Reshape\n",
    "from keras.layers import Conv2D, MaxPooling2D\n",
    "#from keras.utils import multi_gpu_model\n",
    "\n",
    "from keras.optimizers import SGD\n",
    "from keras.layers.merge import concatenate, add\n",
    "\n",
    "#from keras.utils.io_utils import HDF5Matrix\n",
    "from keras.utils import plot_model\n",
    "from keras import optimizers\n",
    "\n",
    "import os\n",
    "import numpy as np\n",
    "from os import listdir\n",
    "from os.path import isfile, join\n",
    "import matplotlib.pyplot as plt\n",
    "from random import shuffle"
   ]
  },
  {
   "cell_type": "code",
   "execution_count": 2,
   "id": "convenient-observer",
   "metadata": {},
   "outputs": [
    {
     "name": "stdout",
     "output_type": "stream",
     "text": [
      "Model: \"model\"\n",
      "_________________________________________________________________\n",
      "Layer (type)                 Output Shape              Param #   \n",
      "=================================================================\n",
      "input_1 (InputLayer)         [(None, 8, 128, 128, 3)]  0         \n",
      "_________________________________________________________________\n",
      "conv3d (Conv3D)              (None, 8, 128, 128, 32)   12032     \n",
      "_________________________________________________________________\n",
      "batch_normalization (BatchNo (None, 8, 128, 128, 32)   128       \n",
      "_________________________________________________________________\n",
      "activation (Activation)      (None, 8, 128, 128, 32)   0         \n",
      "_________________________________________________________________\n",
      "batch_normalization_1 (Batch (None, 8, 128, 128, 32)   128       \n",
      "_________________________________________________________________\n",
      "max_pooling3d (MaxPooling3D) (None, 2, 32, 32, 32)     0         \n",
      "_________________________________________________________________\n",
      "dropout (Dropout)            (None, 2, 32, 32, 32)     0         \n",
      "_________________________________________________________________\n",
      "conv3d_1 (Conv3D)            (None, 2, 32, 32, 64)     256064    \n",
      "_________________________________________________________________\n",
      "batch_normalization_2 (Batch (None, 2, 32, 32, 64)     256       \n",
      "_________________________________________________________________\n",
      "activation_1 (Activation)    (None, 2, 32, 32, 64)     0         \n",
      "_________________________________________________________________\n",
      "batch_normalization_3 (Batch (None, 2, 32, 32, 64)     256       \n",
      "_________________________________________________________________\n",
      "max_pooling3d_1 (MaxPooling3 (None, 1, 8, 8, 64)       0         \n",
      "_________________________________________________________________\n",
      "dropout_1 (Dropout)          (None, 1, 8, 8, 64)       0         \n",
      "_________________________________________________________________\n",
      "conv3d_2 (Conv3D)            (None, 1, 8, 8, 128)      1024128   \n",
      "_________________________________________________________________\n",
      "batch_normalization_4 (Batch (None, 1, 8, 8, 128)      512       \n",
      "_________________________________________________________________\n",
      "activation_2 (Activation)    (None, 1, 8, 8, 128)      0         \n",
      "_________________________________________________________________\n",
      "batch_normalization_5 (Batch (None, 1, 8, 8, 128)      512       \n",
      "_________________________________________________________________\n",
      "max_pooling3d_2 (MaxPooling3 (None, 1, 4, 4, 128)      0         \n",
      "_________________________________________________________________\n",
      "dropout_2 (Dropout)          (None, 1, 4, 4, 128)      0         \n",
      "_________________________________________________________________\n",
      "reshape (Reshape)            (None, 2048)              0         \n",
      "_________________________________________________________________\n",
      "dense (Dense)                (None, 2)                 4098      \n",
      "=================================================================\n",
      "Total params: 1,298,114\n",
      "Trainable params: 1,297,218\n",
      "Non-trainable params: 896\n",
      "_________________________________________________________________\n"
     ]
    }
   ],
   "source": [
    "def conv3d_block(input_tensor, filters, kernel_size, activation_fun = \"linear\"):\n",
    "    # first layer\n",
    "    x = Conv3D(filters=filters, kernel_size=kernel_size, kernel_initializer=\"he_normal\", padding=\"same\")(input_tensor)\n",
    "    x = BatchNormalization()(x)\n",
    "    x = Activation(activation_fun)(x)\n",
    "\n",
    "    return x\n",
    "\n",
    "kernel_size = (5,5,5)\n",
    "act_fun = \"relu\"\n",
    "\n",
    "############### DEFINE SET OF INPUTS #################\n",
    "\n",
    "x = Input(shape=(8, 128, 128,3)) \n",
    "\n",
    "\n",
    "############## DEFINE PATH FOR INPUT 1 ##################\n",
    "\n",
    "\n",
    "c1 = conv3d_block (x, filters=32, kernel_size=kernel_size, activation_fun = act_fun )\n",
    "c1 = BatchNormalization()(c1)\n",
    "p1 = MaxPooling3D (pool_size=(4, 4, 4), padding='valid')(c1)\n",
    "p1 = Dropout(0.5)(p1)\n",
    "\n",
    "\n",
    "c2 = conv3d_block(p1, filters=64, kernel_size=kernel_size, activation_fun = act_fun )\n",
    "c2 = BatchNormalization()(c2)\n",
    "p2 = MaxPooling3D(pool_size=(2, 4, 4), padding='valid')(c2)\n",
    "p2 = Dropout(0.25)(p2)\n",
    "\n",
    "\n",
    "c3 = conv3d_block(p2, filters=128, kernel_size=kernel_size, activation_fun = act_fun )\n",
    "c3 = BatchNormalization()(c3)\n",
    "p3 = MaxPooling3D(pool_size=(1, 2, 2), padding='valid')(c3)\n",
    "p3 = Dropout(0.25)(p3)\n",
    "\n",
    "\n",
    "p3 = Reshape((2048,))(p3)\n",
    "\n",
    "\n",
    "d = Dense(2, activation = 'sigmoid')(p3)\n",
    "\n",
    "\n",
    "\n",
    "model = Model(x , d)\n",
    "model.compile(optimizer=\"Adam\", loss=tf.keras.losses.BinaryCrossentropy())\n",
    "model.summary()"
   ]
  },
  {
   "cell_type": "code",
   "execution_count": 3,
   "id": "seeing-immigration",
   "metadata": {},
   "outputs": [
    {
     "name": "stderr",
     "output_type": "stream",
     "text": [
      "/cm/shared/apps/anaconda2/4.3.1/envs/jupyter3.7/lib/python3.7/site-packages/ipykernel_launcher.py:6: H5pyDeprecationWarning: The default file mode will change to 'r' (read-only) in h5py 3.0. To suppress this warning, pass the mode you need to h5py.File(), or set the global default h5.get_config().default_file_mode, or set the environment variable H5PY_DEFAULT_READONLY=1. Available modes are: 'r', 'r+', 'w', 'w-'/'x', 'a'. See the docs for details.\n",
      "  \n"
     ]
    }
   ],
   "source": [
    "class DataGenerator(keras.utils.Sequence):\n",
    "\n",
    "    def __init__(self, Directorio, batch_size = 5):\n",
    "        \n",
    "        self.batch_size = batch_size\n",
    "        self.Directorio = h5py.File(Directorio)\n",
    "\n",
    "    def __len__(self):\n",
    "        \n",
    "        return int((len(self.Directorio)/2) / self.batch_size)\n",
    "\n",
    "    \n",
    "    #Getitem nos devolvera los valores de X e Y para el indice de batch que le pida keras\n",
    "    def __getitem__(self, index):\n",
    "        \n",
    "        #Creamos dos listas vacias en las que se separaran los valores de X e Y de nuestro archivo\n",
    "        array_x = []\n",
    "        array_y = []\n",
    "        \n",
    "        #Numero de ejemplos que tenemos en nuestro dataset, dividimos entre dos por que la longitud total\n",
    "        #viene con el numero de X e Y\n",
    "        self.indexes = np.arange(int(len(self.Directorio)/2))\n",
    "        \n",
    "        #dependiendo del indice de batch, indexes nos dara la posicion de los datos que queremos extraer\n",
    "        indexes = self.indexes[index*self.batch_size:(index+1)*self.batch_size]\n",
    "        \n",
    "        #Recorremos el directorio y extraemos las X con sus frames y las Y con sus estados\n",
    "        for line in self.Directorio:\n",
    "\n",
    "            if line[0] == 'X':\n",
    "                array_x.append(self.Directorio[line])\n",
    "\n",
    "            if line [0] == 'Y':\n",
    "                array_y.append(self.Directorio[line])\n",
    "        \n",
    "        #dos nuevos listas en las que almacenaremos los datos correspondientes a las posiciones que nos pide\n",
    "        #el indice del batch\n",
    "        x = []\n",
    "        y = []\n",
    "        \n",
    "        for i in indexes:\n",
    "            x.append(array_x[i])\n",
    "            y.append(array_y[i])\n",
    "        \n",
    "        #convertimos la lista anterior en un array con shape (batch_size,8,512,512,3)\n",
    "        x_array = np.array(x)\n",
    "        \n",
    "        \n",
    "        #Keras no entiende de strings, por lo que pasamos esos strings a vectores con numeros\n",
    "        RE = [1,0] #vector para estado: reposo\n",
    "        EA = [0,1] #vector para estado: ataque\n",
    "        \n",
    "        #lista donde almacenamos los vectores asociados a su string correspondiente\n",
    "        y_strings = []\n",
    "        \n",
    "        for i in y:\n",
    "\n",
    "            if i.value == 'RE':\n",
    "                y_strings.append(RE)\n",
    "\n",
    "            else:\n",
    "                y_strings.append(EA)\n",
    "                \n",
    "        #convertimos la lista anterior en un array con shape (batch_size,2)\n",
    "        y_array = np.array(y_strings)\n",
    "\n",
    "        X, y = x_array,y_array\n",
    "\n",
    "        return X,y\n",
    "\n",
    "batch_size = 150\n",
    "\n",
    "\n",
    "train_samples =  '/mnt/MD1200A/lconcha/videos/Datasets_training/Combinado_training_group32'\n",
    "test_samples =  '/mnt/MD1200A/lconcha/videos/Datasets_training/Combinado_validation_group32'\n",
    "\n",
    "training_generator   = DataGenerator(train_samples, batch_size )\n",
    "validation_generator = DataGenerator(test_samples,  batch_size )"
   ]
  },
  {
   "cell_type": "markdown",
   "id": "cognitive-badge",
   "metadata": {},
   "source": [
    "# COMPILE "
   ]
  },
  {
   "cell_type": "code",
   "execution_count": 4,
   "id": "negative-ivory",
   "metadata": {},
   "outputs": [
    {
     "name": "stderr",
     "output_type": "stream",
     "text": [
      "/cm/shared/apps/anaconda2/4.3.1/envs/jupyter3.7/lib/python3.7/site-packages/ipykernel_launcher.py:16: H5pyDeprecationWarning: The default file mode will change to 'r' (read-only) in h5py 3.0. To suppress this warning, pass the mode you need to h5py.File(), or set the global default h5.get_config().default_file_mode, or set the environment variable H5PY_DEFAULT_READONLY=1. Available modes are: 'r', 'r+', 'w', 'w-'/'x', 'a'. See the docs for details.\n",
      "  app.launch_new_instance()\n",
      "/cm/shared/apps/anaconda2/4.3.1/envs/jupyter3.7/lib/python3.7/site-packages/ipykernel_launcher.py:21: H5pyDeprecationWarning: The default file mode will change to 'r' (read-only) in h5py 3.0. To suppress this warning, pass the mode you need to h5py.File(), or set the global default h5.get_config().default_file_mode, or set the environment variable H5PY_DEFAULT_READONLY=1. Available modes are: 'r', 'r+', 'w', 'w-'/'x', 'a'. See the docs for details.\n",
      "/cm/shared/apps/anaconda2/4.3.1/envs/jupyter3.7/lib/python3.7/site-packages/tensorflow/python/keras/engine/training.py:1844: UserWarning: `Model.fit_generator` is deprecated and will be removed in a future version. Please use `Model.fit`, which supports generators.\n",
      "  warnings.warn('`Model.fit_generator` is deprecated and '\n",
      "/cm/shared/apps/anaconda2/4.3.1/envs/jupyter3.7/lib/python3.7/site-packages/ipykernel_launcher.py:58: H5pyDeprecationWarning: dataset.value has been deprecated. Use dataset[()] instead.\n"
     ]
    },
    {
     "name": "stdout",
     "output_type": "stream",
     "text": [
      "Epoch 1/50\n",
      "20/20 [==============================] - 1756s 88s/step - loss: 1.5781 - accuracy: 0.5710 - val_loss: 16.3799 - val_accuracy: 0.5800\n",
      "Epoch 2/50\n",
      "20/20 [==============================] - 1754s 88s/step - loss: 0.7222 - accuracy: 0.6404 - val_loss: 5.4576 - val_accuracy: 0.5811\n",
      "Epoch 3/50\n",
      "20/20 [==============================] - 1759s 88s/step - loss: 0.6713 - accuracy: 0.6705 - val_loss: 1.8076 - val_accuracy: 0.5244\n",
      "Epoch 4/50\n",
      "20/20 [==============================] - 1758s 88s/step - loss: 0.6359 - accuracy: 0.7024 - val_loss: 0.7637 - val_accuracy: 0.6389\n",
      "Epoch 5/50\n",
      "20/20 [==============================] - 1760s 88s/step - loss: 0.6285 - accuracy: 0.7103 - val_loss: 1.0268 - val_accuracy: 0.6433\n",
      "Epoch 6/50\n",
      "20/20 [==============================] - 2002s 101s/step - loss: 0.5879 - accuracy: 0.7282 - val_loss: 0.7222 - val_accuracy: 0.6956\n",
      "Epoch 7/50\n",
      "20/20 [==============================] - 1900s 94s/step - loss: 0.5905 - accuracy: 0.7166 - val_loss: 0.7778 - val_accuracy: 0.6611\n",
      "Epoch 8/50\n",
      "20/20 [==============================] - 1851s 93s/step - loss: 0.5816 - accuracy: 0.7361 - val_loss: 0.7164 - val_accuracy: 0.6744\n",
      "Epoch 9/50\n",
      "20/20 [==============================] - 1857s 93s/step - loss: 0.5983 - accuracy: 0.7187 - val_loss: 0.5578 - val_accuracy: 0.7567\n",
      "Epoch 10/50\n",
      "20/20 [==============================] - 1893s 95s/step - loss: 0.5617 - accuracy: 0.7472 - val_loss: 0.6575 - val_accuracy: 0.7300\n",
      "Epoch 11/50\n",
      "20/20 [==============================] - 1860s 93s/step - loss: 0.5711 - accuracy: 0.7438 - val_loss: 0.5774 - val_accuracy: 0.7467\n",
      "Epoch 12/50\n",
      "20/20 [==============================] - 1867s 93s/step - loss: 0.5419 - accuracy: 0.7509 - val_loss: 0.5501 - val_accuracy: 0.7556\n",
      "Epoch 13/50\n",
      "20/20 [==============================] - 1866s 93s/step - loss: 0.5499 - accuracy: 0.7502 - val_loss: 0.4950 - val_accuracy: 0.7833\n",
      "Epoch 14/50\n",
      "20/20 [==============================] - 1859s 93s/step - loss: 0.5110 - accuracy: 0.7713 - val_loss: 0.5095 - val_accuracy: 0.7556\n",
      "Epoch 15/50\n",
      "20/20 [==============================] - 1804s 90s/step - loss: 0.5369 - accuracy: 0.7527 - val_loss: 0.4863 - val_accuracy: 0.7756\n",
      "Epoch 16/50\n",
      "20/20 [==============================] - 1810s 91s/step - loss: 0.5486 - accuracy: 0.7526 - val_loss: 0.4992 - val_accuracy: 0.7767\n",
      "Epoch 17/50\n",
      "20/20 [==============================] - 1812s 91s/step - loss: 0.5195 - accuracy: 0.7787 - val_loss: 0.4873 - val_accuracy: 0.7833\n",
      "Epoch 18/50\n",
      "20/20 [==============================] - 1814s 91s/step - loss: 0.5024 - accuracy: 0.7690 - val_loss: 0.4510 - val_accuracy: 0.8078\n",
      "Epoch 19/50\n",
      "20/20 [==============================] - 1815s 91s/step - loss: 0.4852 - accuracy: 0.7874 - val_loss: 0.5671 - val_accuracy: 0.7667\n",
      "Epoch 20/50\n",
      "20/20 [==============================] - 1815s 91s/step - loss: 0.4819 - accuracy: 0.7745 - val_loss: 0.7083 - val_accuracy: 0.7411\n",
      "Epoch 21/50\n",
      "20/20 [==============================] - 1824s 91s/step - loss: 0.4967 - accuracy: 0.7707 - val_loss: 0.4901 - val_accuracy: 0.7811\n",
      "Epoch 22/50\n",
      "20/20 [==============================] - 1838s 92s/step - loss: 0.4610 - accuracy: 0.7950 - val_loss: 0.5057 - val_accuracy: 0.7756\n",
      "Epoch 23/50\n",
      "20/20 [==============================] - 1839s 92s/step - loss: 0.4606 - accuracy: 0.7886 - val_loss: 0.8649 - val_accuracy: 0.6844\n",
      "Epoch 24/50\n",
      "20/20 [==============================] - 1827s 91s/step - loss: 0.4862 - accuracy: 0.7832 - val_loss: 0.6704 - val_accuracy: 0.7289\n",
      "Epoch 25/50\n",
      "20/20 [==============================] - 1839s 92s/step - loss: 0.4856 - accuracy: 0.7862 - val_loss: 0.6676 - val_accuracy: 0.7511\n",
      "Epoch 26/50\n",
      "20/20 [==============================] - 1821s 91s/step - loss: 0.4850 - accuracy: 0.7796 - val_loss: 1.1451 - val_accuracy: 0.6522\n",
      "Epoch 27/50\n",
      "20/20 [==============================] - 1815s 91s/step - loss: 0.4838 - accuracy: 0.7876 - val_loss: 0.7670 - val_accuracy: 0.7411\n",
      "Epoch 28/50\n",
      "20/20 [==============================] - 1816s 91s/step - loss: 0.4333 - accuracy: 0.8049 - val_loss: 0.5095 - val_accuracy: 0.7856\n",
      "Epoch 29/50\n",
      "20/20 [==============================] - 1818s 91s/step - loss: 0.4405 - accuracy: 0.7941 - val_loss: 0.4947 - val_accuracy: 0.7911\n",
      "Epoch 30/50\n",
      "20/20 [==============================] - 1812s 91s/step - loss: 0.4297 - accuracy: 0.7976 - val_loss: 0.4317 - val_accuracy: 0.8289\n",
      "Epoch 31/50\n",
      "20/20 [==============================] - 1814s 91s/step - loss: 0.4490 - accuracy: 0.7911 - val_loss: 0.4256 - val_accuracy: 0.8111\n",
      "Epoch 32/50\n",
      "20/20 [==============================] - 1815s 91s/step - loss: 0.4791 - accuracy: 0.7772 - val_loss: 0.6670 - val_accuracy: 0.6100\n",
      "Epoch 33/50\n",
      "20/20 [==============================] - 1820s 91s/step - loss: 0.4684 - accuracy: 0.7803 - val_loss: 0.4467 - val_accuracy: 0.8044\n",
      "Epoch 34/50\n",
      "20/20 [==============================] - 1829s 92s/step - loss: 0.4342 - accuracy: 0.7958 - val_loss: 0.6052 - val_accuracy: 0.7689\n",
      "Epoch 35/50\n",
      "20/20 [==============================] - 1826s 91s/step - loss: 0.4164 - accuracy: 0.8100 - val_loss: 0.5167 - val_accuracy: 0.8078\n",
      "Epoch 36/50\n",
      "20/20 [==============================] - 1825s 91s/step - loss: 0.4301 - accuracy: 0.8095 - val_loss: 0.5871 - val_accuracy: 0.6600\n",
      "Epoch 37/50\n",
      "20/20 [==============================] - 1813s 91s/step - loss: 0.4226 - accuracy: 0.8056 - val_loss: 0.4188 - val_accuracy: 0.8089\n",
      "Epoch 38/50\n",
      "20/20 [==============================] - 1812s 91s/step - loss: 0.4136 - accuracy: 0.8157 - val_loss: 0.5329 - val_accuracy: 0.7856\n",
      "Epoch 39/50\n",
      "20/20 [==============================] - 1815s 91s/step - loss: 0.4104 - accuracy: 0.8232 - val_loss: 0.4272 - val_accuracy: 0.7989\n",
      "Epoch 40/50\n",
      "20/20 [==============================] - 1813s 91s/step - loss: 0.4236 - accuracy: 0.8077 - val_loss: 0.5035 - val_accuracy: 0.7911\n",
      "Epoch 41/50\n",
      "20/20 [==============================] - 1808s 91s/step - loss: 0.3950 - accuracy: 0.8238 - val_loss: 0.5213 - val_accuracy: 0.7967\n",
      "Epoch 42/50\n",
      "20/20 [==============================] - 1816s 91s/step - loss: 0.4219 - accuracy: 0.8083 - val_loss: 0.4651 - val_accuracy: 0.7778\n",
      "Epoch 43/50\n",
      "20/20 [==============================] - 1828s 92s/step - loss: 0.4030 - accuracy: 0.8228 - val_loss: 0.4018 - val_accuracy: 0.8222\n",
      "Epoch 44/50\n",
      "20/20 [==============================] - 1821s 91s/step - loss: 0.3804 - accuracy: 0.8340 - val_loss: 0.4073 - val_accuracy: 0.8178\n",
      "Epoch 45/50\n",
      "20/20 [==============================] - 1813s 91s/step - loss: 0.4131 - accuracy: 0.7976 - val_loss: 0.3962 - val_accuracy: 0.8256\n",
      "Epoch 46/50\n",
      "20/20 [==============================] - 1817s 91s/step - loss: 0.3739 - accuracy: 0.8211 - val_loss: 0.4130 - val_accuracy: 0.8122\n",
      "Epoch 47/50\n",
      "20/20 [==============================] - 1817s 91s/step - loss: 0.3998 - accuracy: 0.8170 - val_loss: 0.8582 - val_accuracy: 0.5533\n",
      "Epoch 48/50\n",
      "20/20 [==============================] - 1819s 91s/step - loss: 0.3820 - accuracy: 0.8319 - val_loss: 0.4367 - val_accuracy: 0.7744\n",
      "Epoch 49/50\n",
      "20/20 [==============================] - 1811s 91s/step - loss: 0.3771 - accuracy: 0.8260 - val_loss: 0.3913 - val_accuracy: 0.8244\n",
      "Epoch 50/50\n",
      "20/20 [==============================] - 1814s 91s/step - loss: 0.3608 - accuracy: 0.8395 - val_loss: 0.4726 - val_accuracy: 0.7578\n"
     ]
    }
   ],
   "source": [
    "model.compile(optimizer=\"Adam\", loss=tf.keras.losses.BinaryCrossentropy(), metrics=['accuracy'])\n",
    "\n",
    "\n",
    "#####CHECK POINTS\n",
    "checkpoint_path = \"/mnt/MD1200A/lconcha/videos/Modelos/DropOut_05_025_025/Group32frames/training/cp-{epoch:04d}.ckpt\"\n",
    "checkpoint_dir = os.path.dirname(checkpoint_path)\n",
    "\n",
    "# Create a callback that saves the model's weights\n",
    "cp_callback = tf.keras.callbacks.ModelCheckpoint(filepath=checkpoint_path,\n",
    "                                                 save_weights_only=True,\n",
    "                                                 save_freq=10*batch_size,\n",
    "                                                 verbose=1)\n",
    "\n",
    "\n",
    "history = model.fit_generator(generator=training_generator,\n",
    "                    steps_per_epoch= int((len(h5py.File(train_samples))/2))// batch_size,\n",
    "                    epochs=50,\n",
    "                    callbacks=[cp_callback],\n",
    "                    verbose=True,\n",
    "                    validation_data=validation_generator,\n",
    "                    validation_steps=int((len(h5py.File(test_samples))/2))// batch_size,\n",
    "                    use_multiprocessing=False,\n",
    "                    workers=0,\n",
    "                    max_queue_size=5)"
   ]
  },
  {
   "cell_type": "markdown",
   "id": "outside-authority",
   "metadata": {},
   "source": [
    "# SAVE MODEL"
   ]
  },
  {
   "cell_type": "code",
   "execution_count": 6,
   "id": "unlike-difficulty",
   "metadata": {},
   "outputs": [
    {
     "name": "stdout",
     "output_type": "stream",
     "text": [
      "Saved model to disk\n"
     ]
    }
   ],
   "source": [
    "from keras.models import model_from_json\n",
    "\n",
    "dirmodel = '/mnt/MD1200A/lconcha/videos/Modelos/DropOut_05_025_025/Group32frames/'\n",
    "\n",
    "# Guardar configuración JSON en el disco\n",
    "model_json = model.to_json()\n",
    "with open(dirmodel + \"dropout_05025025_32.json\", \"w\") as json_file:\n",
    "    json_file.write(model_json)\n",
    "# Guardar pesos en el disco\n",
    "model.save_weights(dirmodel + \"dropout_05025025_32.h5\")\n",
    "print(\"Saved model to disk\")"
   ]
  },
  {
   "cell_type": "markdown",
   "id": "humanitarian-repository",
   "metadata": {},
   "source": [
    "# LOAD MODEL"
   ]
  },
  {
   "cell_type": "code",
   "execution_count": 11,
   "id": "alpha-christian",
   "metadata": {},
   "outputs": [
    {
     "name": "stdout",
     "output_type": "stream",
     "text": [
      "Load model to disk\n"
     ]
    }
   ],
   "source": [
    "dirmodel = '/mnt/MD1200A/lconcha/videos/Modelos/DropOut_05_025_025/Group32frames/'\n",
    "\n",
    "# Recargue el modelo de los 2 archivos que guardamos\n",
    "with open(dirmodel + \"dropout_05025025_32.json\") as json_file:\n",
    "    json_config = json_file.read()\n",
    "new_model = keras.models.model_from_json(json_config)\n",
    "new_model.load_weights(dirmodel + \"dropout_05025025_32.h5\")\n",
    "print(\"Load model to disk\")"
   ]
  },
  {
   "cell_type": "markdown",
   "id": "incident-clark",
   "metadata": {},
   "source": [
    "# TESTING PREDICTIONS"
   ]
  },
  {
   "cell_type": "code",
   "execution_count": 7,
   "id": "black-restoration",
   "metadata": {},
   "outputs": [
    {
     "name": "stderr",
     "output_type": "stream",
     "text": [
      "/cm/shared/apps/anaconda2/4.3.1/envs/jupyter3.7/lib/python3.7/site-packages/ipykernel_launcher.py:6: H5pyDeprecationWarning: The default file mode will change to 'r' (read-only) in h5py 3.0. To suppress this warning, pass the mode you need to h5py.File(), or set the global default h5.get_config().default_file_mode, or set the environment variable H5PY_DEFAULT_READONLY=1. Available modes are: 'r', 'r+', 'w', 'w-'/'x', 'a'. See the docs for details.\n",
      "  \n",
      "/cm/shared/apps/anaconda2/4.3.1/envs/jupyter3.7/lib/python3.7/site-packages/ipykernel_launcher.py:58: H5pyDeprecationWarning: dataset.value has been deprecated. Use dataset[()] instead.\n"
     ]
    },
    {
     "name": "stdout",
     "output_type": "stream",
     "text": [
      "(1014, 8, 128, 128, 3)\n"
     ]
    }
   ],
   "source": [
    "test_samples = '/mnt/MD1200A/lconcha/videos/Datasets_training/Combinado_test_group32'\n",
    "\n",
    "#con esto vemos el numero de ejemplos que hay en el dataset de test\n",
    "f = h5py.File(test_samples, 'r')\n",
    "a_group_key = list(f.keys())\n",
    "X_test = int(len(a_group_key)/2)\n",
    "\n",
    "\n",
    "batch_size = X_test\n",
    "\n",
    "test_generator = DataGenerator(test_samples, batch_size )\n",
    "\n",
    "test_generator.batch_size = X_test\n",
    "X, Y = test_generator.__getitem__(np.random.randint(0,1))\n",
    "prediction = model.predict(X)\n",
    "\n",
    "array_prediction = np.argmax(prediction, axis=1)\n",
    "array_Y = np.argmax(Y, axis=1)\n",
    "\n",
    "print(X.shape)"
   ]
  },
  {
   "cell_type": "markdown",
   "id": "registered-statistics",
   "metadata": {},
   "source": [
    "# GONFUSION MATRIX AND GRAPHS"
   ]
  },
  {
   "cell_type": "code",
   "execution_count": 8,
   "id": "particular-aluminum",
   "metadata": {},
   "outputs": [],
   "source": [
    "from sklearn.metrics import confusion_matrix\n",
    "import pandas as pd\n",
    "import seaborn as sns"
   ]
  },
  {
   "cell_type": "code",
   "execution_count": 9,
   "id": "crude-adventure",
   "metadata": {},
   "outputs": [
    {
     "name": "stdout",
     "output_type": "stream",
     "text": [
      "[[441  48]\n",
      " [179 346]]\n",
      "     RE   EA\n",
      "RE  441   48\n",
      "EA  179  346\n"
     ]
    },
    {
     "data": {
      "image/png": "[encoded data removed]",
      "text/plain": [
       "<Figure size 432x288 with 2 Axes>"
      ]
     },
     "metadata": {
      "needs_background": "light"
     },
     "output_type": "display_data"
    }
   ],
   "source": [
    "confm = confusion_matrix(array_Y,array_prediction)\n",
    "print(confm)\n",
    "\n",
    "columnas = ['RE','EA']\n",
    "df_cm = pd.DataFrame(confm, index=columnas, columns=columnas)\n",
    "\n",
    "print(df_cm)\n",
    "\n",
    "grafica = sns.heatmap(df_cm, cmap='Blues', annot=True, fmt=\"d\")\n",
    "\n",
    "\n",
    "plt.ylabel('Valores verdaderos')\n",
    "plt.xlabel('Predicciones')\n",
    "grafica.set(xlabel='Verdadero',ylabel='Predicción')\n",
    "plt.show\n",
    "plt.savefig('/mnt/MD1200A/lconcha/videos/Modelos/DropOut_05_025_025/Group32frames/confm_dropout05025025_32.png', dpi = 500)"
   ]
  },
  {
   "cell_type": "code",
   "execution_count": 10,
   "id": "wired-wrestling",
   "metadata": {},
   "outputs": [
    {
     "name": "stdout",
     "output_type": "stream",
     "text": [
      "[[0.43491124 0.04733728]\n",
      " [0.1765286  0.34122288]]\n",
      "          RE        EA\n",
      "RE  0.434911  0.047337\n",
      "EA  0.176529  0.341223\n"
     ]
    },
    {
     "data": {
      "image/png": "[encoded data removed]",
      "text/plain": [
       "<Figure size 432x288 with 2 Axes>"
      ]
     },
     "metadata": {
      "needs_background": "light"
     },
     "output_type": "display_data"
    }
   ],
   "source": [
    "confm = confusion_matrix(array_Y,array_prediction)\n",
    "confm = confm/1014\n",
    "print(confm)\n",
    "\n",
    "columnas = ['RE','EA']\n",
    "df_cm = pd.DataFrame(confm, index=columnas, columns=columnas)\n",
    "\n",
    "print(df_cm)\n",
    "\n",
    "grafica = sns.heatmap(df_cm, cmap='Blues', annot=True)\n",
    "\n",
    "\n",
    "plt.ylabel('Valores verdaderos')\n",
    "plt.xlabel('Predicciones')\n",
    "grafica.set(xlabel='Verdadero',ylabel='Predicción')\n",
    "plt.show\n",
    "plt.savefig('/mnt/MD1200A/lconcha/videos/Modelos/DropOut_05_025_025/Group32frames/%confm_dropout05025025.png', dpi = 500)"
   ]
  },
  {
   "cell_type": "code",
   "execution_count": 11,
   "id": "voluntary-christianity",
   "metadata": {},
   "outputs": [
    {
     "data": {
      "image/png": "[encoded data removed]",
      "text/plain": [
       "<Figure size 432x288 with 1 Axes>"
      ]
     },
     "metadata": {
      "needs_background": "light"
     },
     "output_type": "display_data"
    }
   ],
   "source": [
    "plt.plot(history.history['loss'], label='loss')\n",
    "plt.plot(history.history['val_loss'], label = 'val_loss')\n",
    "plt.xlabel('Epoch')\n",
    "plt.ylabel('loss')\n",
    "plt.legend(loc='upper right')\n",
    "plt.savefig('/mnt/MD1200A/lconcha/videos/Modelos/DropOut_05_025_025/Group32frames/loss_dropout05025025_32.png', dpi = 500)"
   ]
  },
  {
   "cell_type": "code",
   "execution_count": 12,
   "id": "gentle-protocol",
   "metadata": {},
   "outputs": [
    {
     "data": {
      "image/png": "[encoded data removed]",
      "text/plain": [
       "<Figure size 432x288 with 1 Axes>"
      ]
     },
     "metadata": {
      "needs_background": "light"
     },
     "output_type": "display_data"
    }
   ],
   "source": [
    "plt.plot(history.history['accuracy'], label='accuracy')\n",
    "plt.plot(history.history['val_accuracy'], label = 'val_accuracy')\n",
    "plt.xlabel('Epoch')\n",
    "plt.ylabel('Accuracy')\n",
    "plt.ylim([0.5, 1])\n",
    "plt.legend(loc='lower right')\n",
    "plt.savefig('/mnt/MD1200A/lconcha/videos/Modelos/DropOut_05_025_025/Group32frames/accuary_dropout05025025_32.png', dpi = 500)"
   ]
  },
  {
   "cell_type": "code",
   "execution_count": 13,
   "id": "conservative-precipitation",
   "metadata": {},
   "outputs": [
    {
     "name": "stdout",
     "output_type": "stream",
     "text": [
      "[[0.43491124 0.04733728]\n",
      " [0.1765286  0.34122288]] [1.15547752 0.70998049 0.66817898 0.6431343  0.62233591 0.59504735\n",
      " 0.5961532  0.58247769 0.58787823 0.55824065 0.55921584 0.54163516\n",
      " 0.54371768 0.51752025 0.53626853 0.53813189 0.52085    0.50638896\n",
      " 0.49559924 0.48375353 0.49842569 0.46089342 0.47590885 0.50211138\n",
      " 0.46333024 0.46845907 0.47196561 0.45094368 0.44627139 0.44221935\n",
      " 0.44751358 0.47376224 0.46119353 0.42483062 0.43431762 0.4300839\n",
      " 0.41239899 0.42615813 0.4177489  0.41400611 0.3994734  0.42181298\n",
      " 0.39654732 0.40040755 0.39195159 0.3810249  0.39910936 0.38128904\n",
      " 0.36721337 0.37009728] [16.37988663  5.45757866  1.80763555  0.76370692  1.02676153  0.72217339\n",
      "  0.77780545  0.71642768  0.55783862  0.65750217  0.57744789  0.55011028\n",
      "  0.49504346  0.50946122  0.48629808  0.49919587  0.48726922  0.45095083\n",
      "  0.56712645  0.70833302  0.49014816  0.50570673  0.86491358  0.67039788\n",
      "  0.6676209   1.14508438  0.76698387  0.50954765  0.49471077  0.43167514\n",
      "  0.4255946   0.66696149  0.4466919   0.60519683  0.51667136  0.58705097\n",
      "  0.41881067  0.53288853  0.42718562  0.50350702  0.52131855  0.46510234\n",
      "  0.40175855  0.40733987  0.39624727  0.41304505  0.85815364  0.43672514\n",
      "  0.39132503  0.47258243]\n"
     ]
    }
   ],
   "source": [
    "#Con el siguiente codigo guardo los arrays de la matriz de confusion, los valores de loss y val_loss\n",
    "\n",
    "with open('/mnt/MD1200A/lconcha/videos/Modelos/DropOut_05_025_025/Group32frames/dropout_05025025_32.npy', 'wb') as f:\n",
    "    np.save(f, confm)\n",
    "    np.save(f, history.history['loss'])\n",
    "    np.save(f, history.history['val_loss'])\n",
    "    \n",
    "with open('/mnt/MD1200A/lconcha/videos/Modelos/DropOut_05_025_025/Group32frames/dropout_05025025_32.npy', 'rb') as f:\n",
    "    a = np.load(f)\n",
    "    b = np.load(f)\n",
    "    c = np.load(f)\n",
    "    \n",
    "print(a, b,c)"
   ]
  }
 ],
 "metadata": {
  "kernelspec": {
   "display_name": "Python 3",
   "language": "python",
   "name": "python3"
  },
  "language_info": {
   "codemirror_mode": {
    "name": "ipython",
    "version": 3
   },
   "file_extension": ".py",
   "mimetype": "text/x-python",
   "name": "python",
   "nbconvert_exporter": "python",
   "pygments_lexer": "ipython3",
   "version": "3.7.9"
  }
 },
 "nbformat": 4,
 "nbformat_minor": 5
}
