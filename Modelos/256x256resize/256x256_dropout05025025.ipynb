{
 "cells": [
  {
   "cell_type": "code",
   "execution_count": 1,
   "id": "sought-mathematics",
   "metadata": {},
   "outputs": [],
   "source": [
    "import numpy as np\n",
    "import h5py\n",
    "\n",
    "import tensorflow as tf\n",
    "import keras\n",
    "from keras.models import Sequential\n",
    "from keras.models import Model\n",
    "from keras.callbacks import EarlyStopping, ModelCheckpoint\n",
    "from keras.optimizers import Adam\n",
    "from keras.layers import Input, Flatten, Dense, Dropout,  Activation, Conv3D, MaxPooling3D, UpSampling3D, BatchNormalization, Activation, Reshape\n",
    "from keras.layers import Conv2D, MaxPooling2D\n",
    "#from keras.utils import multi_gpu_model\n",
    "\n",
    "from keras.optimizers import SGD\n",
    "from keras.layers.merge import concatenate, add\n",
    "\n",
    "#from keras.utils.io_utils import HDF5Matrix\n",
    "from keras.utils import plot_model\n",
    "from keras import optimizers\n",
    "\n",
    "import os\n",
    "import numpy as np\n",
    "from os import listdir\n",
    "from os.path import isfile, join\n",
    "import matplotlib.pyplot as plt\n",
    "from random import shuffle"
   ]
  },
  {
   "cell_type": "code",
   "execution_count": 2,
   "id": "measured-funeral",
   "metadata": {},
   "outputs": [
    {
     "name": "stdout",
     "output_type": "stream",
     "text": [
      "Model: \"model\"\n",
      "_________________________________________________________________\n",
      "Layer (type)                 Output Shape              Param #   \n",
      "=================================================================\n",
      "input_1 (InputLayer)         [(None, 8, 256, 256, 3)]  0         \n",
      "_________________________________________________________________\n",
      "conv3d (Conv3D)              (None, 8, 256, 256, 16)   6016      \n",
      "_________________________________________________________________\n",
      "batch_normalization (BatchNo (None, 8, 256, 256, 16)   64        \n",
      "_________________________________________________________________\n",
      "activation (Activation)      (None, 8, 256, 256, 16)   0         \n",
      "_________________________________________________________________\n",
      "batch_normalization_1 (Batch (None, 8, 256, 256, 16)   64        \n",
      "_________________________________________________________________\n",
      "max_pooling3d (MaxPooling3D) (None, 2, 32, 32, 16)     0         \n",
      "_________________________________________________________________\n",
      "dropout (Dropout)            (None, 2, 32, 32, 16)     0         \n",
      "_________________________________________________________________\n",
      "conv3d_1 (Conv3D)            (None, 2, 32, 32, 32)     64032     \n",
      "_________________________________________________________________\n",
      "batch_normalization_2 (Batch (None, 2, 32, 32, 32)     128       \n",
      "_________________________________________________________________\n",
      "activation_1 (Activation)    (None, 2, 32, 32, 32)     0         \n",
      "_________________________________________________________________\n",
      "batch_normalization_3 (Batch (None, 2, 32, 32, 32)     128       \n",
      "_________________________________________________________________\n",
      "max_pooling3d_1 (MaxPooling3 (None, 1, 8, 8, 32)       0         \n",
      "_________________________________________________________________\n",
      "dropout_1 (Dropout)          (None, 1, 8, 8, 32)       0         \n",
      "_________________________________________________________________\n",
      "conv3d_2 (Conv3D)            (None, 1, 8, 8, 64)       256064    \n",
      "_________________________________________________________________\n",
      "batch_normalization_4 (Batch (None, 1, 8, 8, 64)       256       \n",
      "_________________________________________________________________\n",
      "activation_2 (Activation)    (None, 1, 8, 8, 64)       0         \n",
      "_________________________________________________________________\n",
      "batch_normalization_5 (Batch (None, 1, 8, 8, 64)       256       \n",
      "_________________________________________________________________\n",
      "max_pooling3d_2 (MaxPooling3 (None, 1, 4, 4, 64)       0         \n",
      "_________________________________________________________________\n",
      "dropout_2 (Dropout)          (None, 1, 4, 4, 64)       0         \n",
      "_________________________________________________________________\n",
      "reshape (Reshape)            (None, 1024)              0         \n",
      "_________________________________________________________________\n",
      "dense (Dense)                (None, 2)                 2050      \n",
      "=================================================================\n",
      "Total params: 329,058\n",
      "Trainable params: 328,610\n",
      "Non-trainable params: 448\n",
      "_________________________________________________________________\n"
     ]
    }
   ],
   "source": [
    "def conv3d_block(input_tensor, filters, kernel_size, activation_fun = \"linear\"):\n",
    "    # first layer\n",
    "    x = Conv3D(filters=filters, kernel_size=kernel_size, kernel_initializer=\"he_normal\", padding=\"same\")(input_tensor)\n",
    "    x = BatchNormalization()(x)\n",
    "    x = Activation(activation_fun)(x)\n",
    "\n",
    "    return x\n",
    "\n",
    "kernel_size = (5,5,5)\n",
    "act_fun = \"relu\"\n",
    "\n",
    "############### DEFINE SET OF INPUTS #################\n",
    "\n",
    "x = Input(shape=(8, 256, 256,3)) \n",
    "\n",
    "\n",
    "############## DEFINE PATH FOR INPUT 1 ##################\n",
    "\n",
    "\n",
    "c1 = conv3d_block (x, filters=16, kernel_size=kernel_size, activation_fun = act_fun )\n",
    "c1 = BatchNormalization()(c1)\n",
    "p1 = MaxPooling3D (pool_size=(4, 8, 8), padding='valid')(c1)\n",
    "p1 = Dropout(0.5)(p1)\n",
    "\n",
    "\n",
    "c2 = conv3d_block(p1, filters=32, kernel_size=kernel_size, activation_fun = act_fun )\n",
    "c2 = BatchNormalization()(c2)\n",
    "p2 = MaxPooling3D(pool_size=(2, 4, 4), padding='valid')(c2)\n",
    "p2 = Dropout(0.25)(p2)\n",
    "\n",
    "\n",
    "c3 = conv3d_block(p2, filters=64, kernel_size=kernel_size, activation_fun = act_fun )\n",
    "c3 = BatchNormalization()(c3)\n",
    "p3 = MaxPooling3D(pool_size=(1, 2, 2), padding='valid')(c3)\n",
    "p3 = Dropout(0.25)(p3)\n",
    "\n",
    "\n",
    "p3 = Reshape((1024,))(p3)\n",
    "\n",
    "\n",
    "d = Dense(2, activation = 'sigmoid')(p3)\n",
    "\n",
    "\n",
    "\n",
    "model = Model(x , d)\n",
    "model.compile(optimizer=\"Adam\", loss=tf.keras.losses.BinaryCrossentropy())\n",
    "model.summary()"
   ]
  },
  {
   "cell_type": "code",
   "execution_count": 3,
   "id": "simplified-training",
   "metadata": {},
   "outputs": [
    {
     "name": "stderr",
     "output_type": "stream",
     "text": [
      "/cm/shared/apps/anaconda2/4.3.1/envs/jupyter3.7/lib/python3.7/site-packages/ipykernel_launcher.py:6: H5pyDeprecationWarning: The default file mode will change to 'r' (read-only) in h5py 3.0. To suppress this warning, pass the mode you need to h5py.File(), or set the global default h5.get_config().default_file_mode, or set the environment variable H5PY_DEFAULT_READONLY=1. Available modes are: 'r', 'r+', 'w', 'w-'/'x', 'a'. See the docs for details.\n",
      "  \n"
     ]
    }
   ],
   "source": [
    "class DataGenerator(keras.utils.Sequence):\n",
    "\n",
    "    def __init__(self, Directorio, batch_size = 5):\n",
    "        \n",
    "        self.batch_size = batch_size\n",
    "        self.Directorio = h5py.File(Directorio)\n",
    "\n",
    "    def __len__(self):\n",
    "        \n",
    "        return int((len(self.Directorio)/2) / self.batch_size)\n",
    "\n",
    "    \n",
    "    #Getitem nos devolvera los valores de X e Y para el indice de batch que le pida keras\n",
    "    def __getitem__(self, index):\n",
    "        \n",
    "        #Creamos dos listas vacias en las que se separaran los valores de X e Y de nuestro archivo\n",
    "        array_x = []\n",
    "        array_y = []\n",
    "        \n",
    "        #Numero de ejemplos que tenemos en nuestro dataset, dividimos entre dos por que la longitud total\n",
    "        #viene con el numero de X e Y\n",
    "        self.indexes = np.arange(int(len(self.Directorio)/2))\n",
    "        \n",
    "        #dependiendo del indice de batch, indexes nos dara la posicion de los datos que queremos extraer\n",
    "        indexes = self.indexes[index*self.batch_size:(index+1)*self.batch_size]\n",
    "        \n",
    "        #Recorremos el directorio y extraemos las X con sus frames y las Y con sus estados\n",
    "        for line in self.Directorio:\n",
    "\n",
    "            if line[0] == 'X':\n",
    "                array_x.append(self.Directorio[line])\n",
    "\n",
    "            if line [0] == 'Y':\n",
    "                array_y.append(self.Directorio[line])\n",
    "        \n",
    "        #dos nuevos listas en las que almacenaremos los datos correspondientes a las posiciones que nos pide\n",
    "        #el indice del batch\n",
    "        x = []\n",
    "        y = []\n",
    "        \n",
    "        for i in indexes:\n",
    "            x.append(array_x[i])\n",
    "            y.append(array_y[i])\n",
    "        \n",
    "        #convertimos la lista anterior en un array con shape (batch_size,8,512,512,3)\n",
    "        x_array = np.array(x)\n",
    "        \n",
    "        \n",
    "        #Keras no entiende de strings, por lo que pasamos esos strings a vectores con numeros\n",
    "        RE = [1,0] #vector para estado: reposo\n",
    "        EA = [0,1] #vector para estado: ataque\n",
    "        \n",
    "        #lista donde almacenamos los vectores asociados a su string correspondiente\n",
    "        y_strings = []\n",
    "        \n",
    "        for i in y:\n",
    "\n",
    "            if i.value == 'RE':\n",
    "                y_strings.append(RE)\n",
    "\n",
    "            else:\n",
    "                y_strings.append(EA)\n",
    "                \n",
    "        #convertimos la lista anterior en un array con shape (batch_size,2)\n",
    "        y_array = np.array(y_strings)\n",
    "\n",
    "        X, y = x_array,y_array\n",
    "\n",
    "        return X,y\n",
    "\n",
    "batch_size = 100\n",
    "\n",
    "\n",
    "train_samples =  '/mnt/MD1200A/lconcha/videos/256x256/Datasets_training_256/Combinado_training_group32_256'\n",
    "test_samples =  '/mnt/MD1200A/lconcha/videos/256x256/Datasets_training_256/Combinado_validation_group32_256'\n",
    "\n",
    "training_generator   = DataGenerator(train_samples, batch_size )\n",
    "validation_generator = DataGenerator(test_samples,  batch_size )"
   ]
  },
  {
   "cell_type": "code",
   "execution_count": null,
   "id": "informal-balloon",
   "metadata": {},
   "outputs": [
    {
     "name": "stderr",
     "output_type": "stream",
     "text": [
      "/cm/shared/apps/anaconda2/4.3.1/envs/jupyter3.7/lib/python3.7/site-packages/ipykernel_launcher.py:11: H5pyDeprecationWarning: The default file mode will change to 'r' (read-only) in h5py 3.0. To suppress this warning, pass the mode you need to h5py.File(), or set the global default h5.get_config().default_file_mode, or set the environment variable H5PY_DEFAULT_READONLY=1. Available modes are: 'r', 'r+', 'w', 'w-'/'x', 'a'. See the docs for details.\n",
      "  # This is added back by InteractiveShellApp.init_path()\n",
      "/cm/shared/apps/anaconda2/4.3.1/envs/jupyter3.7/lib/python3.7/site-packages/ipykernel_launcher.py:16: H5pyDeprecationWarning: The default file mode will change to 'r' (read-only) in h5py 3.0. To suppress this warning, pass the mode you need to h5py.File(), or set the global default h5.get_config().default_file_mode, or set the environment variable H5PY_DEFAULT_READONLY=1. Available modes are: 'r', 'r+', 'w', 'w-'/'x', 'a'. See the docs for details.\n",
      "  app.launch_new_instance()\n",
      "/cm/shared/apps/anaconda2/4.3.1/envs/jupyter3.7/lib/python3.7/site-packages/ipykernel_launcher.py:21: H5pyDeprecationWarning: The default file mode will change to 'r' (read-only) in h5py 3.0. To suppress this warning, pass the mode you need to h5py.File(), or set the global default h5.get_config().default_file_mode, or set the environment variable H5PY_DEFAULT_READONLY=1. Available modes are: 'r', 'r+', 'w', 'w-'/'x', 'a'. See the docs for details.\n",
      "/cm/shared/apps/anaconda2/4.3.1/envs/jupyter3.7/lib/python3.7/site-packages/tensorflow/python/keras/engine/training.py:1844: UserWarning: `Model.fit_generator` is deprecated and will be removed in a future version. Please use `Model.fit`, which supports generators.\n",
      "  warnings.warn('`Model.fit_generator` is deprecated and '\n",
      "/cm/shared/apps/anaconda2/4.3.1/envs/jupyter3.7/lib/python3.7/site-packages/ipykernel_launcher.py:58: H5pyDeprecationWarning: dataset.value has been deprecated. Use dataset[()] instead.\n"
     ]
    },
    {
     "name": "stdout",
     "output_type": "stream",
     "text": [
      "Epoch 1/50\n",
      "30/30 [==============================] - 4500s 150s/step - loss: 1.0477 - accuracy: 0.5760 - val_loss: 2.6298 - val_accuracy: 0.5040\n",
      "Epoch 2/50\n",
      "30/30 [==============================] - 4423s 147s/step - loss: 0.7108 - accuracy: 0.6659 - val_loss: 1.2920 - val_accuracy: 0.5040\n",
      "Epoch 3/50\n",
      "30/30 [==============================] - 4335s 144s/step - loss: 0.6729 - accuracy: 0.6584 - val_loss: 0.9716 - val_accuracy: 0.5630\n",
      "Epoch 4/50\n",
      "30/30 [==============================] - 4368s 146s/step - loss: 0.6947 - accuracy: 0.6667 - val_loss: 0.6785 - val_accuracy: 0.6510\n",
      "Epoch 5/50\n",
      "30/30 [==============================] - ETA: 0s - loss: 0.6338 - accuracy: 0.7049  \n",
      "Epoch 00005: saving model to /mnt/MD1200A/lconcha/videos/Modelos/DropOut_05_025_025_256x256/training/cp.ckpt\n",
      "30/30 [==============================] - 4383s 146s/step - loss: 0.6337 - accuracy: 0.7046 - val_loss: 0.8626 - val_accuracy: 0.6140\n",
      "Epoch 6/50\n",
      "30/30 [==============================] - 4332s 144s/step - loss: 0.6233 - accuracy: 0.7008 - val_loss: 0.6744 - val_accuracy: 0.6740\n",
      "Epoch 7/50\n",
      "13/30 [============>.................] - ETA: 41:18 - loss: 0.5824 - accuracy: 0.7149"
     ]
    }
   ],
   "source": [
    "model.compile(optimizer=\"Adam\", loss=tf.keras.losses.BinaryCrossentropy(), metrics=['accuracy'])\n",
    "\n",
    "\n",
    "#####CHECK POINTS\n",
    "checkpoint_path = \"/mnt/MD1200A/lconcha/videos/Modelos/DropOut_05_025_025_256x256/training/cp.ckpt\"\n",
    "checkpoint_dir = os.path.dirname(checkpoint_path)\n",
    "\n",
    "# Create a callback that saves the model's weights\n",
    "cp_callback = tf.keras.callbacks.ModelCheckpoint(filepath=checkpoint_path,\n",
    "                                                 save_weights_only=True,\n",
    "                                                 save_freq = 5*(int((len(h5py.File(train_samples))/2))// batch_size),\n",
    "                                                 verbose=1)\n",
    "\n",
    "\n",
    "history = model.fit_generator(generator=training_generator,\n",
    "                    steps_per_epoch= int((len(h5py.File(train_samples))/2))// batch_size,\n",
    "                    epochs=50,\n",
    "                    callbacks=[cp_callback],\n",
    "                    verbose=True,\n",
    "                    validation_data=validation_generator,\n",
    "                    validation_steps=int((len(h5py.File(test_samples))/2))// batch_size,\n",
    "                    use_multiprocessing=False,\n",
    "                    workers=0,\n",
    "                    max_queue_size=5)"
   ]
  },
  {
   "cell_type": "code",
   "execution_count": 4,
   "id": "fourth-panic",
   "metadata": {},
   "outputs": [],
   "source": [
    "checkpoint_path = \"/mnt/MD1200A/lconcha/videos/Modelos/DropOut_05_025_025_256x256/training/cp.ckpt\"\n",
    "checkpoint_dir = os.path.dirname(checkpoint_path)"
   ]
  },
  {
   "cell_type": "code",
   "execution_count": 5,
   "id": "built-banana",
   "metadata": {},
   "outputs": [
    {
     "data": {
      "text/plain": [
       "<tensorflow.python.training.tracking.util.CheckpointLoadStatus at 0x2aaab43c67d0>"
      ]
     },
     "execution_count": 5,
     "metadata": {},
     "output_type": "execute_result"
    }
   ],
   "source": [
    "model.load_weights(checkpoint_path)"
   ]
  },
  {
   "cell_type": "code",
   "execution_count": null,
   "id": "editorial-contribution",
   "metadata": {},
   "outputs": [
    {
     "name": "stderr",
     "output_type": "stream",
     "text": [
      "/cm/shared/apps/anaconda2/4.3.1/envs/jupyter3.7/lib/python3.7/site-packages/ipykernel_launcher.py:4: H5pyDeprecationWarning: The default file mode will change to 'r' (read-only) in h5py 3.0. To suppress this warning, pass the mode you need to h5py.File(), or set the global default h5.get_config().default_file_mode, or set the environment variable H5PY_DEFAULT_READONLY=1. Available modes are: 'r', 'r+', 'w', 'w-'/'x', 'a'. See the docs for details.\n",
      "  after removing the cwd from sys.path.\n",
      "/cm/shared/apps/anaconda2/4.3.1/envs/jupyter3.7/lib/python3.7/site-packages/ipykernel_launcher.py:9: H5pyDeprecationWarning: The default file mode will change to 'r' (read-only) in h5py 3.0. To suppress this warning, pass the mode you need to h5py.File(), or set the global default h5.get_config().default_file_mode, or set the environment variable H5PY_DEFAULT_READONLY=1. Available modes are: 'r', 'r+', 'w', 'w-'/'x', 'a'. See the docs for details.\n",
      "  if __name__ == '__main__':\n",
      "/cm/shared/apps/anaconda2/4.3.1/envs/jupyter3.7/lib/python3.7/site-packages/ipykernel_launcher.py:14: H5pyDeprecationWarning: The default file mode will change to 'r' (read-only) in h5py 3.0. To suppress this warning, pass the mode you need to h5py.File(), or set the global default h5.get_config().default_file_mode, or set the environment variable H5PY_DEFAULT_READONLY=1. Available modes are: 'r', 'r+', 'w', 'w-'/'x', 'a'. See the docs for details.\n",
      "  \n",
      "/cm/shared/apps/anaconda2/4.3.1/envs/jupyter3.7/lib/python3.7/site-packages/tensorflow/python/keras/engine/training.py:1844: UserWarning: `Model.fit_generator` is deprecated and will be removed in a future version. Please use `Model.fit`, which supports generators.\n",
      "  warnings.warn('`Model.fit_generator` is deprecated and '\n",
      "/cm/shared/apps/anaconda2/4.3.1/envs/jupyter3.7/lib/python3.7/site-packages/ipykernel_launcher.py:58: H5pyDeprecationWarning: dataset.value has been deprecated. Use dataset[()] instead.\n"
     ]
    },
    {
     "name": "stdout",
     "output_type": "stream",
     "text": [
      "Epoch 1/45\n",
      "30/30 [==============================] - 3627s 121s/step - loss: 0.6274 - val_loss: 0.7294\n",
      "Epoch 2/45\n",
      "30/30 [==============================] - 3610s 120s/step - loss: 0.5983 - val_loss: 0.5635\n",
      "Epoch 3/45\n",
      "30/30 [==============================] - 3612s 121s/step - loss: 0.5939 - val_loss: 0.5881\n",
      "Epoch 4/45\n",
      "30/30 [==============================] - 3613s 120s/step - loss: 0.5918 - val_loss: 0.5810\n",
      "Epoch 5/45\n",
      "30/30 [==============================] - ETA: 0s - loss: 0.5614  \n",
      "Epoch 00005: saving model to /mnt/MD1200A/lconcha/videos/Modelos/DropOut_05_025_025_256x256/training/cp.ckpt\n",
      "30/30 [==============================] - 3590s 120s/step - loss: 0.5614 - val_loss: 0.5644\n",
      "Epoch 6/45\n",
      "30/30 [==============================] - 3604s 120s/step - loss: 0.5451 - val_loss: 0.5554\n",
      "Epoch 7/45\n",
      "30/30 [==============================] - 3605s 120s/step - loss: 0.5691 - val_loss: 0.5642\n",
      "Epoch 8/45\n",
      "30/30 [==============================] - 3691s 123s/step - loss: 0.5535 - val_loss: 0.5730\n",
      "Epoch 9/45\n",
      "30/30 [==============================] - 3599s 120s/step - loss: 0.5306 - val_loss: 0.5442\n",
      "Epoch 10/45\n",
      "30/30 [==============================] - ETA: 0s - loss: 0.5314  \n",
      "Epoch 00010: saving model to /mnt/MD1200A/lconcha/videos/Modelos/DropOut_05_025_025_256x256/training/cp.ckpt\n",
      "30/30 [==============================] - 3668s 122s/step - loss: 0.5317 - val_loss: 0.5772\n",
      "Epoch 11/45\n",
      "30/30 [==============================] - 3844s 128s/step - loss: 0.5424 - val_loss: 0.5168\n",
      "Epoch 12/45\n",
      "30/30 [==============================] - 4208s 141s/step - loss: 0.5336 - val_loss: 0.5294\n",
      "Epoch 13/45\n",
      "30/30 [==============================] - 4210s 140s/step - loss: 0.5206 - val_loss: 0.5290\n",
      "Epoch 14/45\n",
      "30/30 [==============================] - 4038s 135s/step - loss: 0.5282 - val_loss: 0.4950\n",
      "Epoch 15/45\n",
      "30/30 [==============================] - ETA: 0s - loss: 0.4987  \n",
      "Epoch 00015: saving model to /mnt/MD1200A/lconcha/videos/Modelos/DropOut_05_025_025_256x256/training/cp.ckpt\n",
      "30/30 [==============================] - 4044s 135s/step - loss: 0.4989 - val_loss: 0.5008\n",
      "Epoch 16/45\n",
      "30/30 [==============================] - 3996s 133s/step - loss: 0.5119 - val_loss: 0.5692\n",
      "Epoch 17/45\n",
      "30/30 [==============================] - 3606s 120s/step - loss: 0.5023 - val_loss: 0.4835\n",
      "Epoch 18/45\n",
      "30/30 [==============================] - 3607s 120s/step - loss: 0.4869 - val_loss: 0.8269\n",
      "Epoch 19/45\n",
      "30/30 [==============================] - 3598s 120s/step - loss: 0.5113 - val_loss: 0.6296\n",
      "Epoch 20/45\n",
      "30/30 [==============================] - ETA: 0s - loss: 0.4788  \n",
      "Epoch 00020: saving model to /mnt/MD1200A/lconcha/videos/Modelos/DropOut_05_025_025_256x256/training/cp.ckpt\n",
      "30/30 [==============================] - 3624s 121s/step - loss: 0.4789 - val_loss: 0.5228\n",
      "Epoch 21/45\n",
      "30/30 [==============================] - 3736s 125s/step - loss: 0.4804 - val_loss: 0.4649\n",
      "Epoch 22/45\n",
      "30/30 [==============================] - 3870s 129s/step - loss: 0.4662 - val_loss: 0.4751\n",
      "Epoch 23/45\n",
      "30/30 [==============================] - 3744s 124s/step - loss: 0.4691 - val_loss: 0.4743\n",
      "Epoch 24/45\n",
      "30/30 [==============================] - 3613s 121s/step - loss: 0.4744 - val_loss: 0.4628\n",
      "Epoch 25/45\n",
      "30/30 [==============================] - ETA: 0s - loss: 0.4810  \n",
      "Epoch 00025: saving model to /mnt/MD1200A/lconcha/videos/Modelos/DropOut_05_025_025_256x256/training/cp.ckpt\n",
      "30/30 [==============================] - 3609s 120s/step - loss: 0.4807 - val_loss: 0.4852\n",
      "Epoch 26/45\n",
      "30/30 [==============================] - 3602s 120s/step - loss: 0.4771 - val_loss: 0.4854\n",
      "Epoch 27/45\n",
      "18/30 [=================>............] - ETA: 23:44 - loss: 0.4807"
     ]
    }
   ],
   "source": [
    "# Create a callback that saves the model's weights\n",
    "cp_callback = tf.keras.callbacks.ModelCheckpoint(filepath=checkpoint_path,\n",
    "                                                 save_weights_only=True,\n",
    "                                                 save_freq = 5*(int((len(h5py.File(train_samples))/2))// batch_size),\n",
    "                                                 verbose=1)\n",
    "\n",
    "\n",
    "history = model.fit_generator(generator=training_generator,\n",
    "                    steps_per_epoch= int((len(h5py.File(train_samples))/2))// batch_size,\n",
    "                    epochs=45,\n",
    "                    callbacks=[cp_callback],\n",
    "                    verbose=True,\n",
    "                    validation_data=validation_generator,\n",
    "                    validation_steps=int((len(h5py.File(test_samples))/2))// batch_size,\n",
    "                    use_multiprocessing=False,\n",
    "                    workers=0,\n",
    "                    max_queue_size=5)"
   ]
  },
  {
   "cell_type": "code",
   "execution_count": null,
   "id": "conventional-defeat",
   "metadata": {},
   "outputs": [
    {
     "name": "stderr",
     "output_type": "stream",
     "text": [
      "/cm/shared/apps/anaconda2/4.3.1/envs/jupyter3.7/lib/python3.7/site-packages/ipykernel_launcher.py:4: H5pyDeprecationWarning: The default file mode will change to 'r' (read-only) in h5py 3.0. To suppress this warning, pass the mode you need to h5py.File(), or set the global default h5.get_config().default_file_mode, or set the environment variable H5PY_DEFAULT_READONLY=1. Available modes are: 'r', 'r+', 'w', 'w-'/'x', 'a'. See the docs for details.\n",
      "  after removing the cwd from sys.path.\n",
      "/cm/shared/apps/anaconda2/4.3.1/envs/jupyter3.7/lib/python3.7/site-packages/ipykernel_launcher.py:9: H5pyDeprecationWarning: The default file mode will change to 'r' (read-only) in h5py 3.0. To suppress this warning, pass the mode you need to h5py.File(), or set the global default h5.get_config().default_file_mode, or set the environment variable H5PY_DEFAULT_READONLY=1. Available modes are: 'r', 'r+', 'w', 'w-'/'x', 'a'. See the docs for details.\n",
      "  if __name__ == '__main__':\n",
      "/cm/shared/apps/anaconda2/4.3.1/envs/jupyter3.7/lib/python3.7/site-packages/ipykernel_launcher.py:14: H5pyDeprecationWarning: The default file mode will change to 'r' (read-only) in h5py 3.0. To suppress this warning, pass the mode you need to h5py.File(), or set the global default h5.get_config().default_file_mode, or set the environment variable H5PY_DEFAULT_READONLY=1. Available modes are: 'r', 'r+', 'w', 'w-'/'x', 'a'. See the docs for details.\n",
      "  \n",
      "/cm/shared/apps/anaconda2/4.3.1/envs/jupyter3.7/lib/python3.7/site-packages/tensorflow/python/keras/engine/training.py:1844: UserWarning: `Model.fit_generator` is deprecated and will be removed in a future version. Please use `Model.fit`, which supports generators.\n",
      "  warnings.warn('`Model.fit_generator` is deprecated and '\n",
      "/cm/shared/apps/anaconda2/4.3.1/envs/jupyter3.7/lib/python3.7/site-packages/ipykernel_launcher.py:58: H5pyDeprecationWarning: dataset.value has been deprecated. Use dataset[()] instead.\n"
     ]
    },
    {
     "name": "stdout",
     "output_type": "stream",
     "text": [
      "Epoch 1/25\n",
      "30/30 [==============================] - 3612s 120s/step - loss: 0.4532 - val_loss: 0.5147\n",
      "Epoch 2/25\n",
      "30/30 [==============================] - 3593s 120s/step - loss: 0.4586 - val_loss: 0.4698\n",
      "Epoch 3/25\n",
      "30/30 [==============================] - 3759s 126s/step - loss: 0.4428 - val_loss: 0.4797\n",
      "Epoch 4/25\n",
      "30/30 [==============================] - 4026s 134s/step - loss: 0.4585 - val_loss: 0.4715\n",
      "Epoch 5/25\n",
      "30/30 [==============================] - ETA: 0s - loss: 0.4657  \n",
      "Epoch 00005: saving model to /mnt/MD1200A/lconcha/videos/Modelos/DropOut_05_025_025_256x256/training/cp.ckpt\n",
      "30/30 [==============================] - 3870s 129s/step - loss: 0.4654 - val_loss: 0.4510\n",
      "Epoch 6/25\n",
      "30/30 [==============================] - 3628s 121s/step - loss: 0.4366 - val_loss: 0.4708\n",
      "Epoch 7/25\n",
      "30/30 [==============================] - 3614s 121s/step - loss: 0.4432 - val_loss: 0.5028\n",
      "Epoch 8/25\n",
      "30/30 [==============================] - 3618s 121s/step - loss: 0.4393 - val_loss: 0.4789\n",
      "Epoch 9/25\n",
      " 7/30 [======>.......................] - ETA: 45:27 - loss: 0.4359"
     ]
    }
   ],
   "source": [
    "# Create a callback that saves the model's weights\n",
    "cp_callback = tf.keras.callbacks.ModelCheckpoint(filepath=checkpoint_path,\n",
    "                                                 save_weights_only=True,\n",
    "                                                 save_freq = 5*(int((len(h5py.File(train_samples))/2))// batch_size),\n",
    "                                                 verbose=1)\n",
    "\n",
    "\n",
    "history = model.fit_generator(generator=training_generator,\n",
    "                    steps_per_epoch= int((len(h5py.File(train_samples))/2))// batch_size,\n",
    "                    epochs=25,\n",
    "                    callbacks=[cp_callback],\n",
    "                    verbose=True,\n",
    "                    validation_data=validation_generator,\n",
    "                    validation_steps=int((len(h5py.File(test_samples))/2))// batch_size,\n",
    "                    use_multiprocessing=False,\n",
    "                    workers=0,\n",
    "                    max_queue_size=5)"
   ]
  },
  {
   "cell_type": "code",
   "execution_count": 6,
   "id": "turkish-athens",
   "metadata": {},
   "outputs": [
    {
     "name": "stdout",
     "output_type": "stream",
     "text": [
      "WARNING:tensorflow:`period` argument is deprecated. Please use `save_freq` to specify the frequency in number of batches seen.\n"
     ]
    },
    {
     "name": "stderr",
     "output_type": "stream",
     "text": [
      "/cm/shared/apps/anaconda2/4.3.1/envs/jupyter3.7/lib/python3.7/site-packages/ipykernel_launcher.py:9: H5pyDeprecationWarning: The default file mode will change to 'r' (read-only) in h5py 3.0. To suppress this warning, pass the mode you need to h5py.File(), or set the global default h5.get_config().default_file_mode, or set the environment variable H5PY_DEFAULT_READONLY=1. Available modes are: 'r', 'r+', 'w', 'w-'/'x', 'a'. See the docs for details.\n",
      "  if __name__ == '__main__':\n",
      "/cm/shared/apps/anaconda2/4.3.1/envs/jupyter3.7/lib/python3.7/site-packages/ipykernel_launcher.py:14: H5pyDeprecationWarning: The default file mode will change to 'r' (read-only) in h5py 3.0. To suppress this warning, pass the mode you need to h5py.File(), or set the global default h5.get_config().default_file_mode, or set the environment variable H5PY_DEFAULT_READONLY=1. Available modes are: 'r', 'r+', 'w', 'w-'/'x', 'a'. See the docs for details.\n",
      "  \n",
      "/cm/shared/apps/anaconda2/4.3.1/envs/jupyter3.7/lib/python3.7/site-packages/tensorflow/python/keras/engine/training.py:1844: UserWarning: `Model.fit_generator` is deprecated and will be removed in a future version. Please use `Model.fit`, which supports generators.\n",
      "  warnings.warn('`Model.fit_generator` is deprecated and '\n",
      "/cm/shared/apps/anaconda2/4.3.1/envs/jupyter3.7/lib/python3.7/site-packages/ipykernel_launcher.py:58: H5pyDeprecationWarning: dataset.value has been deprecated. Use dataset[()] instead.\n"
     ]
    },
    {
     "name": "stdout",
     "output_type": "stream",
     "text": [
      "Epoch 1/20\n",
      "30/30 [==============================] - 3612s 120s/step - loss: 0.4492 - val_loss: 0.5526\n",
      "Epoch 2/20\n",
      "30/30 [==============================] - 3567s 119s/step - loss: 0.4439 - val_loss: 0.5426\n",
      "Epoch 3/20\n",
      "30/30 [==============================] - 3573s 119s/step - loss: 0.4513 - val_loss: 0.4632\n",
      "Epoch 4/20\n",
      "30/30 [==============================] - 3593s 120s/step - loss: 0.4219 - val_loss: 0.5297\n",
      "Epoch 5/20\n",
      "30/30 [==============================] - 3577s 119s/step - loss: 0.4246 - val_loss: 0.5071\n",
      "\n",
      "Epoch 00005: saving model to /mnt/MD1200A/lconcha/videos/Modelos/DropOut_05_025_025_256x256/training/cp.ckpt\n",
      "Epoch 6/20\n",
      "30/30 [==============================] - 3591s 120s/step - loss: 0.4254 - val_loss: 0.4707\n",
      "Epoch 7/20\n",
      "30/30 [==============================] - 3580s 119s/step - loss: 0.4262 - val_loss: 0.4886\n",
      "Epoch 8/20\n",
      "30/30 [==============================] - 3582s 119s/step - loss: 0.4225 - val_loss: 0.5317\n",
      "Epoch 9/20\n",
      "30/30 [==============================] - 3599s 120s/step - loss: 0.4278 - val_loss: 0.4424\n",
      "Epoch 10/20\n",
      "30/30 [==============================] - 3603s 120s/step - loss: 0.4139 - val_loss: 0.4931\n",
      "\n",
      "Epoch 00010: saving model to /mnt/MD1200A/lconcha/videos/Modelos/DropOut_05_025_025_256x256/training/cp.ckpt\n",
      "Epoch 11/20\n",
      "30/30 [==============================] - 3606s 120s/step - loss: 0.4115 - val_loss: 0.5602\n",
      "Epoch 12/20\n",
      "30/30 [==============================] - 3593s 120s/step - loss: 0.4166 - val_loss: 0.4346\n",
      "Epoch 13/20\n",
      "30/30 [==============================] - 3596s 120s/step - loss: 0.4159 - val_loss: 0.4264\n",
      "Epoch 14/20\n",
      "30/30 [==============================] - 3630s 121s/step - loss: 0.4070 - val_loss: 0.4368\n",
      "Epoch 15/20\n",
      "30/30 [==============================] - 3599s 120s/step - loss: 0.4057 - val_loss: 0.4330\n",
      "\n",
      "Epoch 00015: saving model to /mnt/MD1200A/lconcha/videos/Modelos/DropOut_05_025_025_256x256/training/cp.ckpt\n",
      "Epoch 16/20\n",
      "30/30 [==============================] - 3612s 120s/step - loss: 0.4233 - val_loss: 0.4370\n",
      "Epoch 17/20\n",
      "30/30 [==============================] - 3603s 120s/step - loss: 0.4251 - val_loss: 0.4074\n",
      "Epoch 18/20\n",
      "30/30 [==============================] - 3605s 120s/step - loss: 0.3816 - val_loss: 0.4367\n",
      "Epoch 19/20\n",
      "30/30 [==============================] - 3651s 122s/step - loss: 0.3758 - val_loss: 0.4589\n",
      "Epoch 20/20\n",
      "30/30 [==============================] - 3628s 121s/step - loss: 0.4228 - val_loss: 0.4091\n",
      "\n",
      "Epoch 00020: saving model to /mnt/MD1200A/lconcha/videos/Modelos/DropOut_05_025_025_256x256/training/cp.ckpt\n"
     ]
    }
   ],
   "source": [
    "# Create a callback that saves the model's weights\n",
    "cp_callback = tf.keras.callbacks.ModelCheckpoint(filepath=checkpoint_path,\n",
    "                                                 save_weights_only=True,\n",
    "                                                 period = 5,\n",
    "                                                 verbose=1)\n",
    "\n",
    "\n",
    "history = model.fit_generator(generator=training_generator,\n",
    "                    steps_per_epoch= int((len(h5py.File(train_samples))/2))// batch_size,\n",
    "                    epochs=20,\n",
    "                    callbacks=[cp_callback],\n",
    "                    verbose=True,\n",
    "                    validation_data=validation_generator,\n",
    "                    validation_steps=int((len(h5py.File(test_samples))/2))// batch_size,\n",
    "                    use_multiprocessing=False,\n",
    "                    workers=0,\n",
    "                    max_queue_size=5)"
   ]
  },
  {
   "cell_type": "code",
   "execution_count": 7,
   "id": "informative-baseball",
   "metadata": {},
   "outputs": [
    {
     "name": "stdout",
     "output_type": "stream",
     "text": [
      "Saved model to disk\n"
     ]
    }
   ],
   "source": [
    "from keras.models import model_from_json\n",
    "\n",
    "dirmodel = '/mnt/MD1200A/lconcha/videos/Modelos/DropOut_05_025_025_256x256/'\n",
    "\n",
    "# Guardar configuración JSON en el disco\n",
    "model_json = model.to_json()\n",
    "with open(dirmodel + \"dropout_05025025_256x256.json\", \"w\") as json_file:\n",
    "    json_file.write(model_json)\n",
    "# Guardar pesos en el disco\n",
    "model.save_weights(dirmodel + \"dropout_05025025_256x256.h5\")\n",
    "print(\"Saved model to disk\")"
   ]
  },
  {
   "cell_type": "code",
   "execution_count": 10,
   "id": "genuine-elimination",
   "metadata": {},
   "outputs": [
    {
     "name": "stderr",
     "output_type": "stream",
     "text": [
      "/cm/shared/apps/anaconda2/4.3.1/envs/jupyter3.7/lib/python3.7/site-packages/ipykernel_launcher.py:6: H5pyDeprecationWarning: The default file mode will change to 'r' (read-only) in h5py 3.0. To suppress this warning, pass the mode you need to h5py.File(), or set the global default h5.get_config().default_file_mode, or set the environment variable H5PY_DEFAULT_READONLY=1. Available modes are: 'r', 'r+', 'w', 'w-'/'x', 'a'. See the docs for details.\n",
      "  \n",
      "/cm/shared/apps/anaconda2/4.3.1/envs/jupyter3.7/lib/python3.7/site-packages/ipykernel_launcher.py:58: H5pyDeprecationWarning: dataset.value has been deprecated. Use dataset[()] instead.\n"
     ]
    },
    {
     "name": "stdout",
     "output_type": "stream",
     "text": [
      "WARNING:tensorflow:AutoGraph could not transform <function Model.make_predict_function.<locals>.predict_function at 0x2aaf33c927a0> and will run it as-is.\n",
      "Please report this to the TensorFlow team. When filing the bug, set the verbosity to 10 (on Linux, `export AUTOGRAPH_VERBOSITY=10`) and attach the full output.\n",
      "Cause: [Errno 28] No space left on device: '/tmp/tmpyje9zrq3.py'\n",
      "To silence this warning, decorate the function with @tf.autograph.experimental.do_not_convert\n",
      "WARNING: AutoGraph could not transform <function Model.make_predict_function.<locals>.predict_function at 0x2aaf33c927a0> and will run it as-is.\n",
      "Please report this to the TensorFlow team. When filing the bug, set the verbosity to 10 (on Linux, `export AUTOGRAPH_VERBOSITY=10`) and attach the full output.\n",
      "Cause: [Errno 28] No space left on device: '/tmp/tmpyje9zrq3.py'\n",
      "To silence this warning, decorate the function with @tf.autograph.experimental.do_not_convert\n",
      "(1014, 8, 256, 256, 3)\n"
     ]
    }
   ],
   "source": [
    "test_samples = '/mnt/MD1200A/lconcha/videos/256x256/Datasets_training_256/Combinado_test_group32_256'\n",
    "\n",
    "#con esto vemos el numero de ejemplos que hay en el dataset de test\n",
    "f = h5py.File(test_samples, 'r')\n",
    "a_group_key = list(f.keys())\n",
    "X_test = int(len(a_group_key)/2)\n",
    "\n",
    "\n",
    "batch_size = X_test\n",
    "\n",
    "test_generator = DataGenerator(test_samples, batch_size )\n",
    "\n",
    "test_generator.batch_size = X_test\n",
    "X, Y = test_generator.__getitem__(np.random.randint(0,1))\n",
    "prediction = model.predict(X)\n",
    "\n",
    "array_prediction = np.argmax(prediction, axis=1)\n",
    "array_Y = np.argmax(Y, axis=1)\n",
    "\n",
    "print(X.shape)"
   ]
  },
  {
   "cell_type": "code",
   "execution_count": 11,
   "id": "completed-aside",
   "metadata": {},
   "outputs": [
    {
     "name": "stdout",
     "output_type": "stream",
     "text": [
      "[[379 111]\n",
      " [ 70 454]]\n",
      "     RE   EA\n",
      "RE  379  111\n",
      "EA   70  454\n"
     ]
    },
    {
     "data": {
      "image/png": "[encoded data removed]",
      "text/plain": [
       "<Figure size 432x288 with 2 Axes>"
      ]
     },
     "metadata": {
      "needs_background": "light"
     },
     "output_type": "display_data"
    }
   ],
   "source": [
    "from sklearn.metrics import confusion_matrix\n",
    "import pandas as pd\n",
    "import seaborn as sns\n",
    "\n",
    "confm = confusion_matrix(array_Y,array_prediction)\n",
    "print(confm)\n",
    "\n",
    "columnas = ['RE','EA']\n",
    "df_cm = pd.DataFrame(confm, index=columnas, columns=columnas)\n",
    "\n",
    "print(df_cm)\n",
    "\n",
    "grafica = sns.heatmap(df_cm, cmap='Blues', annot=True, fmt=\"d\")\n",
    "\n",
    "\n",
    "plt.ylabel('Valores verdaderos')\n",
    "plt.xlabel('Predicciones')\n",
    "grafica.set(xlabel='Verdadero',ylabel='Predicción')\n",
    "plt.show\n",
    "plt.savefig('/mnt/MD1200A/lconcha/videos/Modelos/DropOut_05_025_025_256x256/confm_dropout05025025_256x256.png', dpi = 500)"
   ]
  },
  {
   "cell_type": "code",
   "execution_count": 12,
   "id": "exact-scroll",
   "metadata": {},
   "outputs": [
    {
     "name": "stdout",
     "output_type": "stream",
     "text": [
      "[[0.37376726 0.10946746]\n",
      " [0.06903353 0.44773176]]\n",
      "          RE        EA\n",
      "RE  0.373767  0.109467\n",
      "EA  0.069034  0.447732\n"
     ]
    },
    {
     "data": {
      "image/png": "[encoded data removed]",
      "text/plain": [
       "<Figure size 432x288 with 2 Axes>"
      ]
     },
     "metadata": {
      "needs_background": "light"
     },
     "output_type": "display_data"
    }
   ],
   "source": [
    "confm = confusion_matrix(array_Y,array_prediction)\n",
    "confm = confm/1014\n",
    "print(confm)\n",
    "\n",
    "columnas = ['RE','EA']\n",
    "df_cm = pd.DataFrame(confm, index=columnas, columns=columnas)\n",
    "\n",
    "print(df_cm)\n",
    "\n",
    "grafica = sns.heatmap(df_cm, cmap='Blues', annot=True)\n",
    "\n",
    "\n",
    "plt.ylabel('Valores verdaderos')\n",
    "plt.xlabel('Predicciones')\n",
    "grafica.set(xlabel='Verdadero',ylabel='Predicción')\n",
    "plt.show\n",
    "plt.savefig('/mnt/MD1200A/lconcha/videos/Modelos/DropOut_05_025_025_256x256/percent_confm_dropout05025025_256x256.png', dpi = 500)"
   ]
  },
  {
   "cell_type": "code",
   "execution_count": 13,
   "id": "mature-fundamental",
   "metadata": {},
   "outputs": [
    {
     "data": {
      "image/png": "[encoded data removed]",
      "text/plain": [
       "<Figure size 432x288 with 1 Axes>"
      ]
     },
     "metadata": {
      "needs_background": "light"
     },
     "output_type": "display_data"
    }
   ],
   "source": [
    "plt.plot(history.history['loss'], label='loss')\n",
    "plt.plot(history.history['val_loss'], label = 'val_loss')\n",
    "plt.xlabel('Epoch')\n",
    "plt.ylabel('loss')\n",
    "plt.legend(loc='upper right')\n",
    "plt.savefig('/mnt/MD1200A/lconcha/videos/Modelos/DropOut_05_025_025_256x256/loss_dropout05025025_256x256.png', dpi = 500)"
   ]
  },
  {
   "cell_type": "code",
   "execution_count": 14,
   "id": "leading-greece",
   "metadata": {},
   "outputs": [
    {
     "ename": "KeyError",
     "evalue": "'accuracy'",
     "output_type": "error",
     "traceback": [
      "\u001b[0;31m---------------------------------------------------------------------------\u001b[0m",
      "\u001b[0;31mKeyError\u001b[0m                                  Traceback (most recent call last)",
      "\u001b[0;32m<ipython-input-14-9c43e99825de>\u001b[0m in \u001b[0;36m<module>\u001b[0;34m\u001b[0m\n\u001b[0;32m----> 1\u001b[0;31m \u001b[0mplt\u001b[0m\u001b[0;34m.\u001b[0m\u001b[0mplot\u001b[0m\u001b[0;34m(\u001b[0m\u001b[0mhistory\u001b[0m\u001b[0;34m.\u001b[0m\u001b[0mhistory\u001b[0m\u001b[0;34m[\u001b[0m\u001b[0;34m'accuracy'\u001b[0m\u001b[0;34m]\u001b[0m\u001b[0;34m,\u001b[0m \u001b[0mlabel\u001b[0m\u001b[0;34m=\u001b[0m\u001b[0;34m'accuracy'\u001b[0m\u001b[0;34m)\u001b[0m\u001b[0;34m\u001b[0m\u001b[0;34m\u001b[0m\u001b[0m\n\u001b[0m\u001b[1;32m      2\u001b[0m \u001b[0mplt\u001b[0m\u001b[0;34m.\u001b[0m\u001b[0mplot\u001b[0m\u001b[0;34m(\u001b[0m\u001b[0mhistory\u001b[0m\u001b[0;34m.\u001b[0m\u001b[0mhistory\u001b[0m\u001b[0;34m[\u001b[0m\u001b[0;34m'val_accuracy'\u001b[0m\u001b[0;34m]\u001b[0m\u001b[0;34m,\u001b[0m \u001b[0mlabel\u001b[0m \u001b[0;34m=\u001b[0m \u001b[0;34m'val_accuracy'\u001b[0m\u001b[0;34m)\u001b[0m\u001b[0;34m\u001b[0m\u001b[0;34m\u001b[0m\u001b[0m\n\u001b[1;32m      3\u001b[0m \u001b[0mplt\u001b[0m\u001b[0;34m.\u001b[0m\u001b[0mxlabel\u001b[0m\u001b[0;34m(\u001b[0m\u001b[0;34m'Epoch'\u001b[0m\u001b[0;34m)\u001b[0m\u001b[0;34m\u001b[0m\u001b[0;34m\u001b[0m\u001b[0m\n\u001b[1;32m      4\u001b[0m \u001b[0mplt\u001b[0m\u001b[0;34m.\u001b[0m\u001b[0mylabel\u001b[0m\u001b[0;34m(\u001b[0m\u001b[0;34m'Accuracy'\u001b[0m\u001b[0;34m)\u001b[0m\u001b[0;34m\u001b[0m\u001b[0;34m\u001b[0m\u001b[0m\n\u001b[1;32m      5\u001b[0m \u001b[0mplt\u001b[0m\u001b[0;34m.\u001b[0m\u001b[0mylim\u001b[0m\u001b[0;34m(\u001b[0m\u001b[0;34m[\u001b[0m\u001b[0;36m0.5\u001b[0m\u001b[0;34m,\u001b[0m \u001b[0;36m1\u001b[0m\u001b[0;34m]\u001b[0m\u001b[0;34m)\u001b[0m\u001b[0;34m\u001b[0m\u001b[0;34m\u001b[0m\u001b[0m\n",
      "\u001b[0;31mKeyError\u001b[0m: 'accuracy'"
     ]
    }
   ],
   "source": [
    "plt.plot(history.history['accuracy'], label='accuracy')\n",
    "plt.plot(history.history['val_accuracy'], label = 'val_accuracy')\n",
    "plt.xlabel('Epoch')\n",
    "plt.ylabel('Accuracy')\n",
    "plt.ylim([0.5, 1])\n",
    "plt.legend(loc='lower right')\n",
    "plt.savefig('/mnt/MD1200A/lconcha/videos/Modelos/DropOut_05_025_025_256x256/accuary_dropout05025025_256x256.png', dpi = 500)"
   ]
  },
  {
   "cell_type": "code",
   "execution_count": 15,
   "id": "strong-smooth",
   "metadata": {},
   "outputs": [
    {
     "name": "stdout",
     "output_type": "stream",
     "text": [
      "[[0.37376726 0.10946746]\n",
      " [0.06903353 0.44773176]] [0.4397034  0.45382625 0.43795523 0.4300262  0.42723361 0.42374447\n",
      " 0.42409554 0.42507881 0.4233757  0.41269436 0.41802055 0.41926774\n",
      " 0.42363665 0.41728944 0.41087979 0.41431874 0.41092929 0.38776436\n",
      " 0.39251122 0.40062854] [0.55264759 0.54256469 0.46318403 0.52967227 0.50707489 0.47070062\n",
      " 0.48864755 0.53171825 0.44235879 0.49312264 0.56020826 0.43463224\n",
      " 0.42635751 0.43680453 0.43302783 0.43699038 0.40740934 0.43668398\n",
      " 0.45885295 0.40910432]\n"
     ]
    }
   ],
   "source": [
    "#Con el siguiente codigo guardo los arrays de la matriz de confusion, los valores de loss y val_loss\n",
    "\n",
    "with open('/mnt/MD1200A/lconcha/videos/Modelos/DropOut_05_025_025_256x256/dropout_05025025_256x256.npy', 'wb') as f:\n",
    "    np.save(f, confm)\n",
    "    np.save(f, history.history['loss'])\n",
    "    np.save(f, history.history['val_loss'])\n",
    "    \n",
    "with open('/mnt/MD1200A/lconcha/videos/Modelos/DropOut_05_025_025_256x256/dropout_05025025_256x256.npy', 'rb') as f:\n",
    "    a = np.load(f)\n",
    "    b = np.load(f)\n",
    "    c = np.load(f)\n",
    "    \n",
    "print(a, b,c)"
   ]
  }
 ],
 "metadata": {
  "kernelspec": {
   "display_name": "Python 3",
   "language": "python",
   "name": "python3"
  },
  "language_info": {
   "codemirror_mode": {
    "name": "ipython",
    "version": 3
   },
   "file_extension": ".py",
   "mimetype": "text/x-python",
   "name": "python",
   "nbconvert_exporter": "python",
   "pygments_lexer": "ipython3",
   "version": "3.7.9"
  }
 },
 "nbformat": 4,
 "nbformat_minor": 5
}
